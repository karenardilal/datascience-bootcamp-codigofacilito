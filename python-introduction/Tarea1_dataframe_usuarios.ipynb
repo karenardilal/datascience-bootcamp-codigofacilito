{
 "cells": [
  {
   "cell_type": "code",
   "execution_count": 1,
   "metadata": {},
   "outputs": [],
   "source": [
    "import numpy as np\n",
    "import pandas as pd"
   ]
  },
  {
   "cell_type": "code",
   "execution_count": 2,
   "metadata": {},
   "outputs": [],
   "source": [
    "users = pd.read_csv('usersv2.csv')"
   ]
  },
  {
   "cell_type": "code",
   "execution_count": 3,
   "metadata": {},
   "outputs": [
    {
     "data": {
      "text/html": [
       "<div>\n",
       "<style scoped>\n",
       "    .dataframe tbody tr th:only-of-type {\n",
       "        vertical-align: middle;\n",
       "    }\n",
       "\n",
       "    .dataframe tbody tr th {\n",
       "        vertical-align: top;\n",
       "    }\n",
       "\n",
       "    .dataframe thead th {\n",
       "        text-align: right;\n",
       "    }\n",
       "</style>\n",
       "<table border=\"1\" class=\"dataframe\">\n",
       "  <thead>\n",
       "    <tr style=\"text-align: right;\">\n",
       "      <th></th>\n",
       "      <th>name</th>\n",
       "      <th>age</th>\n",
       "      <th>username</th>\n",
       "      <th>email</th>\n",
       "      <th>country</th>\n",
       "      <th>postcode</th>\n",
       "      <th>gender</th>\n",
       "    </tr>\n",
       "  </thead>\n",
       "  <tbody>\n",
       "    <tr>\n",
       "      <th>0</th>\n",
       "      <td>Ms Fátima Martin</td>\n",
       "      <td>42</td>\n",
       "      <td>goldenmouse797</td>\n",
       "      <td>fatima.martin@example.com</td>\n",
       "      <td>Spain</td>\n",
       "      <td>43746</td>\n",
       "      <td>female</td>\n",
       "    </tr>\n",
       "    <tr>\n",
       "      <th>1</th>\n",
       "      <td>Mrs Molly Garrett</td>\n",
       "      <td>30</td>\n",
       "      <td>smallpanda982</td>\n",
       "      <td>molly.garrett@example.com</td>\n",
       "      <td>Ireland</td>\n",
       "      <td>57660</td>\n",
       "      <td>female</td>\n",
       "    </tr>\n",
       "    <tr>\n",
       "      <th>2</th>\n",
       "      <td>Ms Veena Kulkarni</td>\n",
       "      <td>53</td>\n",
       "      <td>smalltiger174</td>\n",
       "      <td>veena.kulkarni@example.com</td>\n",
       "      <td>India</td>\n",
       "      <td>29797</td>\n",
       "      <td>female</td>\n",
       "    </tr>\n",
       "    <tr>\n",
       "      <th>3</th>\n",
       "      <td>Miss Sheryl Cole</td>\n",
       "      <td>74</td>\n",
       "      <td>beautifulcat191</td>\n",
       "      <td>sheryl.cole@example.com</td>\n",
       "      <td>United Kingdom</td>\n",
       "      <td>TH3 7XG</td>\n",
       "      <td>female</td>\n",
       "    </tr>\n",
       "    <tr>\n",
       "      <th>4</th>\n",
       "      <td>Ms Nataša Subašić</td>\n",
       "      <td>55</td>\n",
       "      <td>bigbird256</td>\n",
       "      <td>natasa.subasic@example.com</td>\n",
       "      <td>Serbia</td>\n",
       "      <td>83260</td>\n",
       "      <td>female</td>\n",
       "    </tr>\n",
       "    <tr>\n",
       "      <th>...</th>\n",
       "      <td>...</td>\n",
       "      <td>...</td>\n",
       "      <td>...</td>\n",
       "      <td>...</td>\n",
       "      <td>...</td>\n",
       "      <td>...</td>\n",
       "      <td>...</td>\n",
       "    </tr>\n",
       "    <tr>\n",
       "      <th>1995</th>\n",
       "      <td>Ms Viktoria Lauritsen</td>\n",
       "      <td>38</td>\n",
       "      <td>heavyzebra441</td>\n",
       "      <td>viktoria.lauritsen@example.com</td>\n",
       "      <td>Norway</td>\n",
       "      <td>1545</td>\n",
       "      <td>female</td>\n",
       "    </tr>\n",
       "    <tr>\n",
       "      <th>1996</th>\n",
       "      <td>Mr Christian Sørhaug</td>\n",
       "      <td>28</td>\n",
       "      <td>goldensnake897</td>\n",
       "      <td>christian.sorhaug@example.com</td>\n",
       "      <td>Norway</td>\n",
       "      <td>3614</td>\n",
       "      <td>male</td>\n",
       "    </tr>\n",
       "    <tr>\n",
       "      <th>1997</th>\n",
       "      <td>Ms Maria Peković</td>\n",
       "      <td>45</td>\n",
       "      <td>redzebra951</td>\n",
       "      <td>maria.pekovic@example.com</td>\n",
       "      <td>Serbia</td>\n",
       "      <td>30159</td>\n",
       "      <td>female</td>\n",
       "    </tr>\n",
       "    <tr>\n",
       "      <th>1998</th>\n",
       "      <td>Mrs Nicole Jensen</td>\n",
       "      <td>78</td>\n",
       "      <td>beautifuldog292</td>\n",
       "      <td>nicole.jensen@example.com</td>\n",
       "      <td>United Kingdom</td>\n",
       "      <td>L9J 1QE</td>\n",
       "      <td>female</td>\n",
       "    </tr>\n",
       "    <tr>\n",
       "      <th>1999</th>\n",
       "      <td>Mr Percy Blankenstein</td>\n",
       "      <td>36</td>\n",
       "      <td>ticklishostrich632</td>\n",
       "      <td>percy.blankenstein@example.com</td>\n",
       "      <td>Netherlands</td>\n",
       "      <td>3143 RR</td>\n",
       "      <td>male</td>\n",
       "    </tr>\n",
       "  </tbody>\n",
       "</table>\n",
       "<p>2000 rows × 7 columns</p>\n",
       "</div>"
      ],
      "text/plain": [
       "                       name  age            username  \\\n",
       "0          Ms Fátima Martin   42      goldenmouse797   \n",
       "1         Mrs Molly Garrett   30       smallpanda982   \n",
       "2         Ms Veena Kulkarni   53       smalltiger174   \n",
       "3          Miss Sheryl Cole   74     beautifulcat191   \n",
       "4         Ms Nataša Subašić   55          bigbird256   \n",
       "...                     ...  ...                 ...   \n",
       "1995  Ms Viktoria Lauritsen   38       heavyzebra441   \n",
       "1996   Mr Christian Sørhaug   28      goldensnake897   \n",
       "1997       Ms Maria Peković   45         redzebra951   \n",
       "1998      Mrs Nicole Jensen   78     beautifuldog292   \n",
       "1999  Mr Percy Blankenstein   36  ticklishostrich632   \n",
       "\n",
       "                               email         country postcode  gender  \n",
       "0          fatima.martin@example.com           Spain    43746  female  \n",
       "1          molly.garrett@example.com         Ireland    57660  female  \n",
       "2         veena.kulkarni@example.com           India    29797  female  \n",
       "3            sheryl.cole@example.com  United Kingdom  TH3 7XG  female  \n",
       "4         natasa.subasic@example.com          Serbia    83260  female  \n",
       "...                              ...             ...      ...     ...  \n",
       "1995  viktoria.lauritsen@example.com          Norway     1545  female  \n",
       "1996   christian.sorhaug@example.com          Norway     3614    male  \n",
       "1997       maria.pekovic@example.com          Serbia    30159  female  \n",
       "1998       nicole.jensen@example.com  United Kingdom  L9J 1QE  female  \n",
       "1999  percy.blankenstein@example.com     Netherlands  3143 RR    male  \n",
       "\n",
       "[2000 rows x 7 columns]"
      ]
     },
     "execution_count": 3,
     "metadata": {},
     "output_type": "execute_result"
    }
   ],
   "source": [
    "users"
   ]
  },
  {
   "cell_type": "markdown",
   "metadata": {},
   "source": [
    "## Ejercicios"
   ]
  },
  {
   "cell_type": "markdown",
   "metadata": {},
   "source": [
    "1. Mostrar en consola el nombre de todos los usuarios cuya edad se encuentre entre 10 a 20 y 40 a 70"
   ]
  },
  {
   "cell_type": "code",
   "execution_count": 9,
   "metadata": {},
   "outputs": [
    {
     "data": {
      "text/plain": [
       "0         Ms Fátima Martin\n",
       "2        Ms Veena Kulkarni\n",
       "4        Ms Nataša Subašić\n",
       "6           Mr Oscar Olsen\n",
       "7          Ms Marta Selvik\n",
       "               ...        \n",
       "1989    Miss Sylvana Stoll\n",
       "1990      Mr Marius Møller\n",
       "1991         Mr Jake Moore\n",
       "1993    Mr Zachary Stevens\n",
       "1997      Ms Maria Peković\n",
       "Name: name, Length: 1119, dtype: object"
      ]
     },
     "execution_count": 9,
     "metadata": {},
     "output_type": "execute_result"
    }
   ],
   "source": [
    "users[((users['age'] >= 10) & (users['age'] <= 20)) | ((users['age'] >= 40) & (users['age'] <= 70))]['name']"
   ]
  },
  {
   "cell_type": "code",
   "execution_count": 10,
   "metadata": {},
   "outputs": [
    {
     "data": {
      "text/plain": [
       "0         Ms Fátima Martin\n",
       "2        Ms Veena Kulkarni\n",
       "4        Ms Nataša Subašić\n",
       "6           Mr Oscar Olsen\n",
       "7          Ms Marta Selvik\n",
       "               ...        \n",
       "1989    Miss Sylvana Stoll\n",
       "1990      Mr Marius Møller\n",
       "1991         Mr Jake Moore\n",
       "1993    Mr Zachary Stevens\n",
       "1997      Ms Maria Peković\n",
       "Name: name, Length: 1119, dtype: object"
      ]
     },
     "execution_count": 10,
     "metadata": {},
     "output_type": "execute_result"
    }
   ],
   "source": [
    "users[(users['age'].between(10,20)) | (users['age'].between(40,70))]['name']"
   ]
  },
  {
   "cell_type": "markdown",
   "metadata": {},
   "source": [
    "2. Mostrar en consola todos los usuarios con correo electrónico"
   ]
  },
  {
   "cell_type": "code",
   "execution_count": 11,
   "metadata": {},
   "outputs": [
    {
     "data": {
      "text/html": [
       "<div>\n",
       "<style scoped>\n",
       "    .dataframe tbody tr th:only-of-type {\n",
       "        vertical-align: middle;\n",
       "    }\n",
       "\n",
       "    .dataframe tbody tr th {\n",
       "        vertical-align: top;\n",
       "    }\n",
       "\n",
       "    .dataframe thead th {\n",
       "        text-align: right;\n",
       "    }\n",
       "</style>\n",
       "<table border=\"1\" class=\"dataframe\">\n",
       "  <thead>\n",
       "    <tr style=\"text-align: right;\">\n",
       "      <th></th>\n",
       "      <th>name</th>\n",
       "      <th>age</th>\n",
       "      <th>username</th>\n",
       "      <th>email</th>\n",
       "      <th>country</th>\n",
       "      <th>postcode</th>\n",
       "      <th>gender</th>\n",
       "    </tr>\n",
       "  </thead>\n",
       "  <tbody>\n",
       "    <tr>\n",
       "      <th>0</th>\n",
       "      <td>Ms Fátima Martin</td>\n",
       "      <td>42</td>\n",
       "      <td>goldenmouse797</td>\n",
       "      <td>fatima.martin@example.com</td>\n",
       "      <td>Spain</td>\n",
       "      <td>43746</td>\n",
       "      <td>female</td>\n",
       "    </tr>\n",
       "    <tr>\n",
       "      <th>1</th>\n",
       "      <td>Mrs Molly Garrett</td>\n",
       "      <td>30</td>\n",
       "      <td>smallpanda982</td>\n",
       "      <td>molly.garrett@example.com</td>\n",
       "      <td>Ireland</td>\n",
       "      <td>57660</td>\n",
       "      <td>female</td>\n",
       "    </tr>\n",
       "    <tr>\n",
       "      <th>2</th>\n",
       "      <td>Ms Veena Kulkarni</td>\n",
       "      <td>53</td>\n",
       "      <td>smalltiger174</td>\n",
       "      <td>veena.kulkarni@example.com</td>\n",
       "      <td>India</td>\n",
       "      <td>29797</td>\n",
       "      <td>female</td>\n",
       "    </tr>\n",
       "    <tr>\n",
       "      <th>3</th>\n",
       "      <td>Miss Sheryl Cole</td>\n",
       "      <td>74</td>\n",
       "      <td>beautifulcat191</td>\n",
       "      <td>sheryl.cole@example.com</td>\n",
       "      <td>United Kingdom</td>\n",
       "      <td>TH3 7XG</td>\n",
       "      <td>female</td>\n",
       "    </tr>\n",
       "    <tr>\n",
       "      <th>4</th>\n",
       "      <td>Ms Nataša Subašić</td>\n",
       "      <td>55</td>\n",
       "      <td>bigbird256</td>\n",
       "      <td>natasa.subasic@example.com</td>\n",
       "      <td>Serbia</td>\n",
       "      <td>83260</td>\n",
       "      <td>female</td>\n",
       "    </tr>\n",
       "    <tr>\n",
       "      <th>...</th>\n",
       "      <td>...</td>\n",
       "      <td>...</td>\n",
       "      <td>...</td>\n",
       "      <td>...</td>\n",
       "      <td>...</td>\n",
       "      <td>...</td>\n",
       "      <td>...</td>\n",
       "    </tr>\n",
       "    <tr>\n",
       "      <th>1995</th>\n",
       "      <td>Ms Viktoria Lauritsen</td>\n",
       "      <td>38</td>\n",
       "      <td>heavyzebra441</td>\n",
       "      <td>viktoria.lauritsen@example.com</td>\n",
       "      <td>Norway</td>\n",
       "      <td>1545</td>\n",
       "      <td>female</td>\n",
       "    </tr>\n",
       "    <tr>\n",
       "      <th>1996</th>\n",
       "      <td>Mr Christian Sørhaug</td>\n",
       "      <td>28</td>\n",
       "      <td>goldensnake897</td>\n",
       "      <td>christian.sorhaug@example.com</td>\n",
       "      <td>Norway</td>\n",
       "      <td>3614</td>\n",
       "      <td>male</td>\n",
       "    </tr>\n",
       "    <tr>\n",
       "      <th>1997</th>\n",
       "      <td>Ms Maria Peković</td>\n",
       "      <td>45</td>\n",
       "      <td>redzebra951</td>\n",
       "      <td>maria.pekovic@example.com</td>\n",
       "      <td>Serbia</td>\n",
       "      <td>30159</td>\n",
       "      <td>female</td>\n",
       "    </tr>\n",
       "    <tr>\n",
       "      <th>1998</th>\n",
       "      <td>Mrs Nicole Jensen</td>\n",
       "      <td>78</td>\n",
       "      <td>beautifuldog292</td>\n",
       "      <td>nicole.jensen@example.com</td>\n",
       "      <td>United Kingdom</td>\n",
       "      <td>L9J 1QE</td>\n",
       "      <td>female</td>\n",
       "    </tr>\n",
       "    <tr>\n",
       "      <th>1999</th>\n",
       "      <td>Mr Percy Blankenstein</td>\n",
       "      <td>36</td>\n",
       "      <td>ticklishostrich632</td>\n",
       "      <td>percy.blankenstein@example.com</td>\n",
       "      <td>Netherlands</td>\n",
       "      <td>3143 RR</td>\n",
       "      <td>male</td>\n",
       "    </tr>\n",
       "  </tbody>\n",
       "</table>\n",
       "<p>2000 rows × 7 columns</p>\n",
       "</div>"
      ],
      "text/plain": [
       "                       name  age            username  \\\n",
       "0          Ms Fátima Martin   42      goldenmouse797   \n",
       "1         Mrs Molly Garrett   30       smallpanda982   \n",
       "2         Ms Veena Kulkarni   53       smalltiger174   \n",
       "3          Miss Sheryl Cole   74     beautifulcat191   \n",
       "4         Ms Nataša Subašić   55          bigbird256   \n",
       "...                     ...  ...                 ...   \n",
       "1995  Ms Viktoria Lauritsen   38       heavyzebra441   \n",
       "1996   Mr Christian Sørhaug   28      goldensnake897   \n",
       "1997       Ms Maria Peković   45         redzebra951   \n",
       "1998      Mrs Nicole Jensen   78     beautifuldog292   \n",
       "1999  Mr Percy Blankenstein   36  ticklishostrich632   \n",
       "\n",
       "                               email         country postcode  gender  \n",
       "0          fatima.martin@example.com           Spain    43746  female  \n",
       "1          molly.garrett@example.com         Ireland    57660  female  \n",
       "2         veena.kulkarni@example.com           India    29797  female  \n",
       "3            sheryl.cole@example.com  United Kingdom  TH3 7XG  female  \n",
       "4         natasa.subasic@example.com          Serbia    83260  female  \n",
       "...                              ...             ...      ...     ...  \n",
       "1995  viktoria.lauritsen@example.com          Norway     1545  female  \n",
       "1996   christian.sorhaug@example.com          Norway     3614    male  \n",
       "1997       maria.pekovic@example.com          Serbia    30159  female  \n",
       "1998       nicole.jensen@example.com  United Kingdom  L9J 1QE  female  \n",
       "1999  percy.blankenstein@example.com     Netherlands  3143 RR    male  \n",
       "\n",
       "[2000 rows x 7 columns]"
      ]
     },
     "execution_count": 11,
     "metadata": {},
     "output_type": "execute_result"
    }
   ],
   "source": [
    "users[users['email'].notna()]"
   ]
  },
  {
   "cell_type": "markdown",
   "metadata": {},
   "source": [
    "3. Mostrar en pantalla el nombre y correo electrónico del usuario más joven en Canadá"
   ]
  },
  {
   "cell_type": "code",
   "execution_count": 14,
   "metadata": {},
   "outputs": [
    {
     "data": {
      "text/html": [
       "<div>\n",
       "<style scoped>\n",
       "    .dataframe tbody tr th:only-of-type {\n",
       "        vertical-align: middle;\n",
       "    }\n",
       "\n",
       "    .dataframe tbody tr th {\n",
       "        vertical-align: top;\n",
       "    }\n",
       "\n",
       "    .dataframe thead th {\n",
       "        text-align: right;\n",
       "    }\n",
       "</style>\n",
       "<table border=\"1\" class=\"dataframe\">\n",
       "  <thead>\n",
       "    <tr style=\"text-align: right;\">\n",
       "      <th></th>\n",
       "      <th>name</th>\n",
       "      <th>email</th>\n",
       "    </tr>\n",
       "  </thead>\n",
       "  <tbody>\n",
       "    <tr>\n",
       "      <th>262</th>\n",
       "      <td>Mr Dylan Ouellet</td>\n",
       "      <td>dylan.ouellet@example.com</td>\n",
       "    </tr>\n",
       "  </tbody>\n",
       "</table>\n",
       "</div>"
      ],
      "text/plain": [
       "                 name                      email\n",
       "262  Mr Dylan Ouellet  dylan.ouellet@example.com"
      ]
     },
     "execution_count": 14,
     "metadata": {},
     "output_type": "execute_result"
    }
   ],
   "source": [
    "users[users['country'] == 'Canada'].sort_values('age')[['name','email']].head(1)"
   ]
  },
  {
   "cell_type": "markdown",
   "metadata": {},
   "source": [
    "4. Listar en consola los 3 países con menor cantidad de usuarios"
   ]
  },
  {
   "cell_type": "code",
   "execution_count": 21,
   "metadata": {},
   "outputs": [
    {
     "data": {
      "text/plain": [
       "country\n",
       "Iran      70\n",
       "Mexico    83\n",
       "Serbia    86\n",
       "Name: country, dtype: int64"
      ]
     },
     "execution_count": 21,
     "metadata": {},
     "output_type": "execute_result"
    }
   ],
   "source": [
    "users.groupby('country')['country'].count().sort_values().head(3)"
   ]
  },
  {
   "cell_type": "markdown",
   "metadata": {},
   "source": [
    "5. Obtener el país con mayor cantidad de usuarios cuya edad sea mayor a 50"
   ]
  },
  {
   "cell_type": "code",
   "execution_count": 30,
   "metadata": {},
   "outputs": [
    {
     "data": {
      "text/plain": [
       "country\n",
       "India    54\n",
       "Name: country, dtype: int64"
      ]
     },
     "execution_count": 30,
     "metadata": {},
     "output_type": "execute_result"
    }
   ],
   "source": [
    "users[users['age'] > 50].groupby('country')['country'].count().sort_values(ascending=False).head(1)"
   ]
  },
  {
   "cell_type": "markdown",
   "metadata": {},
   "source": [
    "6. Obtener el país con mayor promedio de edad"
   ]
  },
  {
   "cell_type": "code",
   "execution_count": 34,
   "metadata": {},
   "outputs": [
    {
     "data": {
      "text/plain": [
       "country\n",
       "India    52.540816\n",
       "Name: age, dtype: float64"
      ]
     },
     "execution_count": 34,
     "metadata": {},
     "output_type": "execute_result"
    }
   ],
   "source": [
    "users.groupby('country')['age'].mean().sort_values(ascending=False).head(1)"
   ]
  },
  {
   "cell_type": "markdown",
   "metadata": {},
   "source": [
    "7. Mostrar en consola el país con más hombres"
   ]
  },
  {
   "cell_type": "code",
   "execution_count": 40,
   "metadata": {},
   "outputs": [
    {
     "data": {
      "text/plain": [
       "country\n",
       "Australia    60\n",
       "Name: country, dtype: int64"
      ]
     },
     "execution_count": 40,
     "metadata": {},
     "output_type": "execute_result"
    }
   ],
   "source": [
    "users[users['gender'] == 'male'].groupby('country')['country'].count().sort_values(ascending=False).head(1)"
   ]
  },
  {
   "cell_type": "markdown",
   "metadata": {},
   "source": [
    "8. Mostrar en consola el nombre, username y edad de todos los usuarios cuya edad es mayor a 10 y no sean de los países México, Brasil y Canadá"
   ]
  },
  {
   "cell_type": "code",
   "execution_count": 53,
   "metadata": {},
   "outputs": [
    {
     "data": {
      "text/html": [
       "<div>\n",
       "<style scoped>\n",
       "    .dataframe tbody tr th:only-of-type {\n",
       "        vertical-align: middle;\n",
       "    }\n",
       "\n",
       "    .dataframe tbody tr th {\n",
       "        vertical-align: top;\n",
       "    }\n",
       "\n",
       "    .dataframe thead th {\n",
       "        text-align: right;\n",
       "    }\n",
       "</style>\n",
       "<table border=\"1\" class=\"dataframe\">\n",
       "  <thead>\n",
       "    <tr style=\"text-align: right;\">\n",
       "      <th></th>\n",
       "      <th>name</th>\n",
       "      <th>username</th>\n",
       "      <th>age</th>\n",
       "    </tr>\n",
       "  </thead>\n",
       "  <tbody>\n",
       "    <tr>\n",
       "      <th>0</th>\n",
       "      <td>Ms Fátima Martin</td>\n",
       "      <td>goldenmouse797</td>\n",
       "      <td>42</td>\n",
       "    </tr>\n",
       "    <tr>\n",
       "      <th>1</th>\n",
       "      <td>Mrs Molly Garrett</td>\n",
       "      <td>smallpanda982</td>\n",
       "      <td>30</td>\n",
       "    </tr>\n",
       "    <tr>\n",
       "      <th>2</th>\n",
       "      <td>Ms Veena Kulkarni</td>\n",
       "      <td>smalltiger174</td>\n",
       "      <td>53</td>\n",
       "    </tr>\n",
       "    <tr>\n",
       "      <th>3</th>\n",
       "      <td>Miss Sheryl Cole</td>\n",
       "      <td>beautifulcat191</td>\n",
       "      <td>74</td>\n",
       "    </tr>\n",
       "    <tr>\n",
       "      <th>4</th>\n",
       "      <td>Ms Nataša Subašić</td>\n",
       "      <td>bigbird256</td>\n",
       "      <td>55</td>\n",
       "    </tr>\n",
       "    <tr>\n",
       "      <th>...</th>\n",
       "      <td>...</td>\n",
       "      <td>...</td>\n",
       "      <td>...</td>\n",
       "    </tr>\n",
       "    <tr>\n",
       "      <th>1995</th>\n",
       "      <td>Ms Viktoria Lauritsen</td>\n",
       "      <td>heavyzebra441</td>\n",
       "      <td>38</td>\n",
       "    </tr>\n",
       "    <tr>\n",
       "      <th>1996</th>\n",
       "      <td>Mr Christian Sørhaug</td>\n",
       "      <td>goldensnake897</td>\n",
       "      <td>28</td>\n",
       "    </tr>\n",
       "    <tr>\n",
       "      <th>1997</th>\n",
       "      <td>Ms Maria Peković</td>\n",
       "      <td>redzebra951</td>\n",
       "      <td>45</td>\n",
       "    </tr>\n",
       "    <tr>\n",
       "      <th>1998</th>\n",
       "      <td>Mrs Nicole Jensen</td>\n",
       "      <td>beautifuldog292</td>\n",
       "      <td>78</td>\n",
       "    </tr>\n",
       "    <tr>\n",
       "      <th>1999</th>\n",
       "      <td>Mr Percy Blankenstein</td>\n",
       "      <td>ticklishostrich632</td>\n",
       "      <td>36</td>\n",
       "    </tr>\n",
       "  </tbody>\n",
       "</table>\n",
       "<p>1719 rows × 3 columns</p>\n",
       "</div>"
      ],
      "text/plain": [
       "                       name            username  age\n",
       "0          Ms Fátima Martin      goldenmouse797   42\n",
       "1         Mrs Molly Garrett       smallpanda982   30\n",
       "2         Ms Veena Kulkarni       smalltiger174   53\n",
       "3          Miss Sheryl Cole     beautifulcat191   74\n",
       "4         Ms Nataša Subašić          bigbird256   55\n",
       "...                     ...                 ...  ...\n",
       "1995  Ms Viktoria Lauritsen       heavyzebra441   38\n",
       "1996   Mr Christian Sørhaug      goldensnake897   28\n",
       "1997       Ms Maria Peković         redzebra951   45\n",
       "1998      Mrs Nicole Jensen     beautifuldog292   78\n",
       "1999  Mr Percy Blankenstein  ticklishostrich632   36\n",
       "\n",
       "[1719 rows x 3 columns]"
      ]
     },
     "execution_count": 53,
     "metadata": {},
     "output_type": "execute_result"
    }
   ],
   "source": [
    "users[(users['age'] > 10) & (~users['country'].isin(['Mexico','Brazil','Canada']))][['name','username','age']]"
   ]
  },
  {
   "cell_type": "markdown",
   "metadata": {},
   "source": [
    "9. Mostrar en consola el código postal de todos los usuarios de México"
   ]
  },
  {
   "cell_type": "code",
   "execution_count": 54,
   "metadata": {},
   "outputs": [
    {
     "data": {
      "text/plain": [
       "9       43691\n",
       "49      16073\n",
       "52      52761\n",
       "90      16543\n",
       "91      78696\n",
       "        ...  \n",
       "1813    96954\n",
       "1822    61953\n",
       "1836    35219\n",
       "1912    56421\n",
       "1964    58319\n",
       "Name: postcode, Length: 83, dtype: object"
      ]
     },
     "execution_count": 54,
     "metadata": {},
     "output_type": "execute_result"
    }
   ],
   "source": [
    "users[users['country'] == 'Mexico']['postcode']"
   ]
  },
  {
   "cell_type": "markdown",
   "metadata": {},
   "source": [
    "10. Obtener la edad que más se repite en el DataFrame"
   ]
  },
  {
   "cell_type": "code",
   "execution_count": 59,
   "metadata": {},
   "outputs": [
    {
     "data": {
      "text/plain": [
       "age\n",
       "44    50\n",
       "Name: age, dtype: int64"
      ]
     },
     "execution_count": 59,
     "metadata": {},
     "output_type": "execute_result"
    }
   ],
   "source": [
    "users.groupby('age')['age'].count().sort_values(ascending=False).head(1)"
   ]
  },
  {
   "cell_type": "markdown",
   "metadata": {},
   "source": [
    "11. Obtener la edad que menos se repite en el DataFrame"
   ]
  },
  {
   "cell_type": "code",
   "execution_count": 60,
   "metadata": {},
   "outputs": [
    {
     "data": {
      "text/plain": [
       "age\n",
       "78    14\n",
       "Name: age, dtype: int64"
      ]
     },
     "execution_count": 60,
     "metadata": {},
     "output_type": "execute_result"
    }
   ],
   "source": [
    "users.groupby('age')['age'].count().sort_values().head(1)"
   ]
  }
 ],
 "metadata": {
  "kernelspec": {
   "display_name": "Python 3",
   "language": "python",
   "name": "python3"
  },
  "language_info": {
   "codemirror_mode": {
    "name": "ipython",
    "version": 3
   },
   "file_extension": ".py",
   "mimetype": "text/x-python",
   "name": "python",
   "nbconvert_exporter": "python",
   "pygments_lexer": "ipython3",
   "version": "3.8.5"
  }
 },
 "nbformat": 4,
 "nbformat_minor": 4
}
