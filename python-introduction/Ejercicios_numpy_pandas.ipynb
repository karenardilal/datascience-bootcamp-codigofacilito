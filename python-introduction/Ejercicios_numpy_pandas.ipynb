{
 "cells": [
  {
   "cell_type": "markdown",
   "metadata": {},
   "source": [
    "## Repaso general Numpy y Pandas"
   ]
  },
  {
   "cell_type": "code",
   "execution_count": 1,
   "metadata": {},
   "outputs": [],
   "source": [
    "import numpy as np"
   ]
  },
  {
   "cell_type": "code",
   "execution_count": 2,
   "metadata": {},
   "outputs": [],
   "source": [
    "enteros = [1,2,3,4,5]"
   ]
  },
  {
   "cell_type": "code",
   "execution_count": 3,
   "metadata": {},
   "outputs": [
    {
     "data": {
      "text/plain": [
       "array([1, 2, 3, 4, 5])"
      ]
     },
     "execution_count": 3,
     "metadata": {},
     "output_type": "execute_result"
    }
   ],
   "source": [
    "np.array(enteros)"
   ]
  },
  {
   "cell_type": "code",
   "execution_count": 5,
   "metadata": {},
   "outputs": [
    {
     "data": {
      "text/plain": [
       "array([1, 2, 3, 4, 5], dtype=int64)"
      ]
     },
     "execution_count": 5,
     "metadata": {},
     "output_type": "execute_result"
    }
   ],
   "source": [
    "np.array(enteros, dtype=np.int64)"
   ]
  },
  {
   "cell_type": "code",
   "execution_count": 6,
   "metadata": {},
   "outputs": [
    {
     "data": {
      "text/plain": [
       "array([1, 2, 3, 4, 5])"
      ]
     },
     "execution_count": 6,
     "metadata": {},
     "output_type": "execute_result"
    }
   ],
   "source": [
    "np.array(enteros, dtype=np.int32)"
   ]
  },
  {
   "cell_type": "code",
   "execution_count": 7,
   "metadata": {},
   "outputs": [
    {
     "data": {
      "text/plain": [
       "array(['1', '2', '3', '4', '5'], dtype='<U1')"
      ]
     },
     "execution_count": 7,
     "metadata": {},
     "output_type": "execute_result"
    }
   ],
   "source": [
    "np.array(enteros, dtype=np.str_)"
   ]
  },
  {
   "cell_type": "code",
   "execution_count": 8,
   "metadata": {},
   "outputs": [
    {
     "data": {
      "text/plain": [
       "array([ True,  True,  True,  True,  True])"
      ]
     },
     "execution_count": 8,
     "metadata": {},
     "output_type": "execute_result"
    }
   ],
   "source": [
    "np.array(enteros, dtype=np.bool_)"
   ]
  },
  {
   "cell_type": "code",
   "execution_count": 9,
   "metadata": {},
   "outputs": [
    {
     "data": {
      "text/plain": [
       "1000000000000000"
      ]
     },
     "execution_count": 9,
     "metadata": {},
     "output_type": "execute_result"
    }
   ],
   "source": [
    "1_000_000_000_000_000 # Para python es indiferente el uso de guión bajo"
   ]
  },
  {
   "cell_type": "code",
   "execution_count": 10,
   "metadata": {},
   "outputs": [],
   "source": [
    "arreglo = np.array(enteros, dtype=np.int32)"
   ]
  },
  {
   "cell_type": "code",
   "execution_count": 11,
   "metadata": {},
   "outputs": [
    {
     "data": {
      "text/plain": [
       "array([1, 2, 3, 4, 5])"
      ]
     },
     "execution_count": 11,
     "metadata": {},
     "output_type": "execute_result"
    }
   ],
   "source": [
    "arreglo"
   ]
  },
  {
   "cell_type": "code",
   "execution_count": 12,
   "metadata": {},
   "outputs": [
    {
     "data": {
      "text/plain": [
       "1"
      ]
     },
     "execution_count": 12,
     "metadata": {},
     "output_type": "execute_result"
    }
   ],
   "source": [
    "arreglo[0]"
   ]
  },
  {
   "cell_type": "code",
   "execution_count": 13,
   "metadata": {},
   "outputs": [
    {
     "data": {
      "text/plain": [
       "5"
      ]
     },
     "execution_count": 13,
     "metadata": {},
     "output_type": "execute_result"
    }
   ],
   "source": [
    "arreglo[-1]"
   ]
  },
  {
   "cell_type": "code",
   "execution_count": 16,
   "metadata": {},
   "outputs": [],
   "source": [
    "arreglo = np.array([1, 2, 3, 4, 5, 6, 7, 8, 9, 10], dtype=np.int32)"
   ]
  },
  {
   "cell_type": "code",
   "execution_count": 17,
   "metadata": {},
   "outputs": [
    {
     "data": {
      "text/plain": [
       "array([1, 2, 3, 4, 5])"
      ]
     },
     "execution_count": 17,
     "metadata": {},
     "output_type": "execute_result"
    }
   ],
   "source": [
    "arreglo[:5]"
   ]
  },
  {
   "cell_type": "code",
   "execution_count": 18,
   "metadata": {},
   "outputs": [
    {
     "data": {
      "text/plain": [
       "array([1, 3, 5, 7, 9])"
      ]
     },
     "execution_count": 18,
     "metadata": {},
     "output_type": "execute_result"
    }
   ],
   "source": [
    "arreglo[::2]"
   ]
  },
  {
   "cell_type": "code",
   "execution_count": 19,
   "metadata": {},
   "outputs": [
    {
     "data": {
      "text/plain": [
       "10"
      ]
     },
     "execution_count": 19,
     "metadata": {},
     "output_type": "execute_result"
    }
   ],
   "source": [
    "arreglo.size"
   ]
  },
  {
   "cell_type": "code",
   "execution_count": 20,
   "metadata": {},
   "outputs": [
    {
     "data": {
      "text/plain": [
       "1"
      ]
     },
     "execution_count": 20,
     "metadata": {},
     "output_type": "execute_result"
    }
   ],
   "source": [
    "arreglo.ndim"
   ]
  },
  {
   "cell_type": "code",
   "execution_count": 21,
   "metadata": {},
   "outputs": [
    {
     "data": {
      "text/plain": [
       "(10,)"
      ]
     },
     "execution_count": 21,
     "metadata": {},
     "output_type": "execute_result"
    }
   ],
   "source": [
    "arreglo.shape"
   ]
  },
  {
   "cell_type": "code",
   "execution_count": 23,
   "metadata": {
    "scrolled": true
   },
   "outputs": [
    {
     "data": {
      "text/plain": [
       "dtype('int32')"
      ]
     },
     "execution_count": 23,
     "metadata": {},
     "output_type": "execute_result"
    }
   ],
   "source": [
    "arreglo.dtype"
   ]
  },
  {
   "cell_type": "code",
   "execution_count": 22,
   "metadata": {},
   "outputs": [
    {
     "data": {
      "text/plain": [
       "array([ 10,  20,  30,  40,  50,  60,  70,  80,  90, 100])"
      ]
     },
     "execution_count": 22,
     "metadata": {},
     "output_type": "execute_result"
    }
   ],
   "source": [
    "arreglo * 10"
   ]
  },
  {
   "cell_type": "code",
   "execution_count": 24,
   "metadata": {},
   "outputs": [
    {
     "data": {
      "text/plain": [
       "array([ 2,  3,  4,  5,  6,  7,  8,  9, 10, 11])"
      ]
     },
     "execution_count": 24,
     "metadata": {},
     "output_type": "execute_result"
    }
   ],
   "source": [
    "arreglo + 1"
   ]
  },
  {
   "cell_type": "code",
   "execution_count": 25,
   "metadata": {},
   "outputs": [
    {
     "data": {
      "text/plain": [
       "[1, 2, 1, 2]"
      ]
     },
     "execution_count": 25,
     "metadata": {},
     "output_type": "execute_result"
    }
   ],
   "source": [
    "[1, 2] * 2"
   ]
  },
  {
   "cell_type": "code",
   "execution_count": 26,
   "metadata": {},
   "outputs": [
    {
     "data": {
      "text/plain": [
       "[1, 2, 1, 2, 1, 2, 1, 2, 1, 2, 1, 2, 1, 2, 1, 2, 1, 2, 1, 2]"
      ]
     },
     "execution_count": 26,
     "metadata": {},
     "output_type": "execute_result"
    }
   ],
   "source": [
    "[1, 2] * 10"
   ]
  },
  {
   "cell_type": "code",
   "execution_count": 28,
   "metadata": {},
   "outputs": [
    {
     "data": {
      "text/plain": [
       "array([ 1,  2,  3,  4,  5,  6,  7,  8,  9, 10])"
      ]
     },
     "execution_count": 28,
     "metadata": {},
     "output_type": "execute_result"
    }
   ],
   "source": [
    "arreglo"
   ]
  },
  {
   "cell_type": "code",
   "execution_count": 29,
   "metadata": {},
   "outputs": [
    {
     "data": {
      "text/plain": [
       "array([1, 2, 5, 7, 8, 9])"
      ]
     },
     "execution_count": 29,
     "metadata": {},
     "output_type": "execute_result"
    }
   ],
   "source": [
    "arreglo[[0, 1, 4, 6, 7, 8]]"
   ]
  },
  {
   "cell_type": "code",
   "execution_count": 30,
   "metadata": {},
   "outputs": [],
   "source": [
    "arreglo = np.array([1, 2, 3, 4, 5], dtype=np.int32)"
   ]
  },
  {
   "cell_type": "code",
   "execution_count": 31,
   "metadata": {
    "scrolled": true
   },
   "outputs": [
    {
     "data": {
      "text/plain": [
       "array([1, 2, 5])"
      ]
     },
     "execution_count": 31,
     "metadata": {},
     "output_type": "execute_result"
    }
   ],
   "source": [
    "arreglo[[True, True, False, False, True]]"
   ]
  },
  {
   "cell_type": "code",
   "execution_count": 32,
   "metadata": {},
   "outputs": [
    {
     "data": {
      "text/plain": [
       "array([2, 4, 5])"
      ]
     },
     "execution_count": 32,
     "metadata": {},
     "output_type": "execute_result"
    }
   ],
   "source": [
    "arreglo[[1, 3, 4]]"
   ]
  },
  {
   "cell_type": "code",
   "execution_count": 33,
   "metadata": {},
   "outputs": [
    {
     "data": {
      "text/plain": [
       "array([26,  6, 80,  4, 43, 53,  5, 95, 58, 95])"
      ]
     },
     "execution_count": 33,
     "metadata": {},
     "output_type": "execute_result"
    }
   ],
   "source": [
    "np.random.randint(1, 100, 10)"
   ]
  },
  {
   "cell_type": "code",
   "execution_count": 34,
   "metadata": {},
   "outputs": [],
   "source": [
    "numeros = np.random.randint(1, 100, 10)"
   ]
  },
  {
   "cell_type": "code",
   "execution_count": 35,
   "metadata": {},
   "outputs": [
    {
     "data": {
      "text/plain": [
       "array([100, 230, 990, 320, 290,  70, 610, 170, 950, 240])"
      ]
     },
     "execution_count": 35,
     "metadata": {},
     "output_type": "execute_result"
    }
   ],
   "source": [
    "numeros * 10"
   ]
  },
  {
   "cell_type": "code",
   "execution_count": 36,
   "metadata": {},
   "outputs": [
    {
     "data": {
      "text/plain": [
       "array([False,  True,  True,  True,  True, False,  True,  True,  True,\n",
       "        True])"
      ]
     },
     "execution_count": 36,
     "metadata": {},
     "output_type": "execute_result"
    }
   ],
   "source": [
    "numeros > 10"
   ]
  },
  {
   "cell_type": "code",
   "execution_count": 37,
   "metadata": {},
   "outputs": [],
   "source": [
    "numeros = np.random.randint(1, 100, 50)"
   ]
  },
  {
   "cell_type": "code",
   "execution_count": 38,
   "metadata": {
    "scrolled": true
   },
   "outputs": [
    {
     "data": {
      "text/plain": [
       "array([92, 29, 82, 10,  5, 98, 82, 13, 35, 98, 64, 63, 58, 53, 58, 25, 71,\n",
       "       30, 11, 82, 25, 82, 85, 20, 88, 42, 99, 82,  8, 87, 58, 82, 40, 13,\n",
       "       75, 38, 25, 71, 76, 96, 54, 66, 11, 86, 87, 88, 71, 66, 39, 72])"
      ]
     },
     "execution_count": 38,
     "metadata": {},
     "output_type": "execute_result"
    }
   ],
   "source": [
    "numeros"
   ]
  },
  {
   "cell_type": "code",
   "execution_count": 39,
   "metadata": {},
   "outputs": [
    {
     "data": {
      "text/plain": [
       "array([92, 82, 98, 82, 98, 64, 63, 58, 53, 58, 71, 82, 82, 85, 88, 99, 82,\n",
       "       87, 58, 82, 75, 71, 76, 96, 54, 66, 86, 87, 88, 71, 66, 72])"
      ]
     },
     "execution_count": 39,
     "metadata": {},
     "output_type": "execute_result"
    }
   ],
   "source": [
    "numeros[numeros > 50]"
   ]
  },
  {
   "cell_type": "code",
   "execution_count": 40,
   "metadata": {},
   "outputs": [
    {
     "data": {
      "text/plain": [
       "array([5, 8])"
      ]
     },
     "execution_count": 40,
     "metadata": {},
     "output_type": "execute_result"
    }
   ],
   "source": [
    "numeros[numeros < 10]"
   ]
  },
  {
   "cell_type": "code",
   "execution_count": 41,
   "metadata": {},
   "outputs": [
    {
     "data": {
      "text/plain": [
       "array([29, 35, 25, 30, 25, 42, 40, 38, 25, 39])"
      ]
     },
     "execution_count": 41,
     "metadata": {},
     "output_type": "execute_result"
    }
   ],
   "source": [
    "# Obtener todos los elementos cuyo valor se encuentre en el rango 20-50\n",
    "numeros[(numeros > 20) & (numeros < 50)]"
   ]
  },
  {
   "cell_type": "code",
   "execution_count": 42,
   "metadata": {},
   "outputs": [],
   "source": [
    "numeros = np.random.randint(1, 100_000, 2000)"
   ]
  },
  {
   "cell_type": "code",
   "execution_count": 43,
   "metadata": {
    "scrolled": true
   },
   "outputs": [
    {
     "data": {
      "text/plain": [
       "array([28335, 41426, 39395, 21915, 33579, 43229, 22749, 24752, 38488,\n",
       "       41146, 37707, 29223, 28430, 41934, 49479, 21379, 29343, 28092,\n",
       "       26919, 40614, 39444, 48182, 47931, 47520, 31369, 25308, 21533,\n",
       "       48876, 33865, 30648, 23607, 21323, 28166, 46054, 37095, 37373,\n",
       "       21510, 48331, 41308, 30161, 30724, 40319, 21482, 43295, 31607,\n",
       "       22024, 20447, 38548, 29691, 27443, 21101, 31123, 46491, 49423,\n",
       "       29975, 33958, 46035, 31776, 33295, 39449, 25927, 24755, 47242,\n",
       "       45715, 40956, 21197, 30736, 36162, 48125, 30123, 32370, 35494,\n",
       "       31767, 38628, 29403, 38820, 48807, 20536, 46572, 41785, 30864,\n",
       "       25494, 46695, 28341, 36328, 45737, 46125, 44938, 49909, 43421,\n",
       "       27309, 47250, 20238, 36096, 46886, 23345, 34116, 31621, 35810,\n",
       "       45117, 37247, 41644, 31825, 34554, 45714, 29421, 43671, 40041,\n",
       "       49428, 48020, 36968, 28701, 28567, 47068, 47110, 44885, 25684,\n",
       "       43948, 23071, 32473, 28826, 37132, 42254, 46517, 22693, 25219,\n",
       "       35645, 35155, 21630, 23420, 40774, 46988, 20892, 24069, 48034,\n",
       "       47817, 35512, 37020, 39431, 46681, 30618, 41925, 33190, 40566,\n",
       "       26492, 40555, 32987, 38317, 48437, 22906, 29547, 25677, 24914,\n",
       "       43547, 22292, 21882, 42332, 48648, 25429, 41525, 26394, 42163,\n",
       "       44021, 20464, 37700, 41651, 20488, 43885, 48517, 30048, 34769,\n",
       "       47430, 21273, 31099, 35534, 41843, 35543, 49906, 43622, 31241,\n",
       "       41724, 30386, 38139, 27997, 34395, 26300, 49073, 26184, 35924,\n",
       "       36394, 26857, 37804, 27683, 24369, 40524, 38255, 22572, 37601,\n",
       "       46946, 37932, 31732, 23056, 43438, 43471, 48636, 34475, 39230,\n",
       "       47714, 38168, 34407, 49720, 24576, 37845, 39042, 35836, 34846,\n",
       "       46955, 30311, 41968, 28307, 34852, 26058, 44583, 49063, 21295,\n",
       "       33208, 28364, 40931, 43744, 20961, 42641, 21030, 47577, 35970,\n",
       "       27779, 47208, 48334, 29395, 25409, 44285, 36829, 39373, 48653,\n",
       "       34434, 47983, 49550, 49546, 40197, 32642, 43206, 48080, 34415,\n",
       "       49677, 41869, 27060, 38564, 20373, 25719, 28776, 46331, 43441,\n",
       "       33299, 43054, 40716, 31569, 48645, 48438, 38961, 46696, 37937,\n",
       "       42419, 20675, 34847, 25338, 33887, 48763, 27447, 30776, 49797,\n",
       "       45714, 28434, 39362, 36762, 28346, 43243, 41771, 27190, 48556,\n",
       "       24934, 35465, 44825, 21332, 20429, 20295, 31284, 49861, 24754,\n",
       "       24742, 47664, 24736, 23919, 27351, 28338, 38637, 34754, 39637,\n",
       "       24403, 21890, 21369, 33630, 40747, 40732, 44201, 36414, 24131,\n",
       "       30821, 24761, 47200, 30140, 26505, 20773, 28094, 37072, 48255,\n",
       "       37206, 40290, 39543, 47257, 45105, 48880, 24200, 25261, 49068,\n",
       "       41667, 42762, 36876, 43081, 44912, 46503, 20223, 27114, 35653,\n",
       "       40272, 44023, 28444, 29120, 42396, 34425, 32125, 27445, 29602,\n",
       "       42001, 39423, 49243, 28149, 35591, 29203, 38727, 43214, 28165,\n",
       "       26806, 31378, 38020, 49198, 31379, 38015, 31525, 33477, 23450,\n",
       "       32114, 47802, 40883, 28745, 26719, 26424, 29216, 46877, 31779,\n",
       "       20195, 21037, 46654, 43072, 46648, 20343, 33991, 46441, 38365,\n",
       "       48716, 23159, 20120, 48915, 28083, 40491, 31856, 28562, 28854,\n",
       "       24031, 37009, 48550, 47043, 41181, 23133, 43289, 33490, 45955,\n",
       "       33303, 34428, 43045, 38760, 34511, 33333, 46412, 45794, 24988,\n",
       "       26970, 41887, 30559, 38279, 35604, 25328, 29897, 37377, 33114,\n",
       "       24381, 42173, 31518, 22656, 29859, 36096, 31805, 48783, 34794,\n",
       "       20199, 45822, 40491, 35684, 37402, 45031, 32856, 20038, 21703,\n",
       "       27433, 26536, 47204, 36637, 27931, 39689, 43970, 35270, 25021,\n",
       "       31987, 40871, 22102, 34421, 36190, 45392, 31081, 49463, 23509,\n",
       "       22479, 25470, 43603, 29263, 36011, 49025, 26543, 20893, 28991,\n",
       "       39495, 41714, 39859, 22839, 37846, 37877, 39859, 35335, 47323,\n",
       "       33253, 21461, 40147, 44644, 30004, 40661, 27944, 24421, 33728,\n",
       "       21529, 29255, 38634, 29073, 42334, 33111, 44768, 45671, 23181,\n",
       "       31403, 43322, 45440, 39529, 21225, 23660, 49099, 24473, 28837,\n",
       "       44501, 37164, 42104, 28601, 20820, 44719, 20008, 30324, 44412,\n",
       "       48806, 24604, 36944, 31716, 33778, 47628, 45323, 48048, 38298,\n",
       "       44910, 22959, 35039, 31321, 43860, 49273, 37019, 35548, 41379,\n",
       "       31754, 42252, 21153, 21822, 22717, 40826, 44753, 38283, 33966,\n",
       "       46166, 49879, 26969, 38699, 35534, 22232, 21268, 30897, 36003,\n",
       "       27814, 25576, 26810, 31000, 34216, 22045, 36709, 41038, 41124,\n",
       "       29721, 28414, 43812, 22778, 41881, 48762, 38462, 21801, 36597,\n",
       "       39596, 30465, 20599, 37520, 43242, 48620, 46280, 26031, 31167,\n",
       "       34035])"
      ]
     },
     "execution_count": 43,
     "metadata": {},
     "output_type": "execute_result"
    }
   ],
   "source": [
    "numeros[(numeros > 20_000) & (numeros < 50_000)]"
   ]
  },
  {
   "cell_type": "code",
   "execution_count": 44,
   "metadata": {},
   "outputs": [],
   "source": [
    "import pandas as pd"
   ]
  },
  {
   "cell_type": "code",
   "execution_count": 45,
   "metadata": {},
   "outputs": [],
   "source": [
    "numeros = np.random.randint(1, 100, 10)"
   ]
  },
  {
   "cell_type": "code",
   "execution_count": 46,
   "metadata": {},
   "outputs": [
    {
     "data": {
      "text/plain": [
       "array([64, 58, 32,  9, 98, 72, 16, 31, 20, 39])"
      ]
     },
     "execution_count": 46,
     "metadata": {},
     "output_type": "execute_result"
    }
   ],
   "source": [
    "numeros"
   ]
  },
  {
   "cell_type": "code",
   "execution_count": 48,
   "metadata": {},
   "outputs": [],
   "source": [
    "serie = pd.Series(numeros)"
   ]
  },
  {
   "cell_type": "code",
   "execution_count": 49,
   "metadata": {},
   "outputs": [
    {
     "data": {
      "text/plain": [
       "0    64\n",
       "1    58\n",
       "2    32\n",
       "3     9\n",
       "4    98\n",
       "5    72\n",
       "6    16\n",
       "7    31\n",
       "8    20\n",
       "9    39\n",
       "dtype: int32"
      ]
     },
     "execution_count": 49,
     "metadata": {},
     "output_type": "execute_result"
    }
   ],
   "source": [
    "serie"
   ]
  },
  {
   "cell_type": "code",
   "execution_count": 50,
   "metadata": {
    "scrolled": true
   },
   "outputs": [
    {
     "data": {
      "text/plain": [
       "64"
      ]
     },
     "execution_count": 50,
     "metadata": {},
     "output_type": "execute_result"
    }
   ],
   "source": [
    "serie[0]"
   ]
  },
  {
   "cell_type": "code",
   "execution_count": 51,
   "metadata": {},
   "outputs": [
    {
     "data": {
      "text/plain": [
       "20"
      ]
     },
     "execution_count": 51,
     "metadata": {},
     "output_type": "execute_result"
    }
   ],
   "source": [
    "serie[8]"
   ]
  },
  {
   "cell_type": "code",
   "execution_count": 52,
   "metadata": {},
   "outputs": [],
   "source": [
    "numeros = np.random.randint(1, 100, 5)"
   ]
  },
  {
   "cell_type": "code",
   "execution_count": 54,
   "metadata": {},
   "outputs": [],
   "source": [
    "serie = pd.Series(numeros, index=['a', 'b', 'c', 'd', 'e'])"
   ]
  },
  {
   "cell_type": "code",
   "execution_count": 55,
   "metadata": {
    "scrolled": true
   },
   "outputs": [
    {
     "data": {
      "text/plain": [
       "a     5\n",
       "b    39\n",
       "c    18\n",
       "d    38\n",
       "e    26\n",
       "dtype: int32"
      ]
     },
     "execution_count": 55,
     "metadata": {},
     "output_type": "execute_result"
    }
   ],
   "source": [
    "serie"
   ]
  },
  {
   "cell_type": "code",
   "execution_count": 56,
   "metadata": {},
   "outputs": [
    {
     "data": {
      "text/plain": [
       "5"
      ]
     },
     "execution_count": 56,
     "metadata": {},
     "output_type": "execute_result"
    }
   ],
   "source": [
    "serie['a']"
   ]
  },
  {
   "cell_type": "code",
   "execution_count": 57,
   "metadata": {},
   "outputs": [
    {
     "data": {
      "text/plain": [
       "array([ 5, 39, 18, 38, 26])"
      ]
     },
     "execution_count": 57,
     "metadata": {},
     "output_type": "execute_result"
    }
   ],
   "source": [
    "serie.values"
   ]
  },
  {
   "cell_type": "code",
   "execution_count": 58,
   "metadata": {},
   "outputs": [],
   "source": [
    "serie = pd.Series(numeros, index=['a', 'b', 'c', 'd', 'e'], name='numbers')"
   ]
  },
  {
   "cell_type": "code",
   "execution_count": 59,
   "metadata": {},
   "outputs": [
    {
     "data": {
      "text/plain": [
       "'numbers'"
      ]
     },
     "execution_count": 59,
     "metadata": {},
     "output_type": "execute_result"
    }
   ],
   "source": [
    "serie.name"
   ]
  },
  {
   "cell_type": "code",
   "execution_count": 61,
   "metadata": {},
   "outputs": [
    {
     "data": {
      "text/plain": [
       "5"
      ]
     },
     "execution_count": 61,
     "metadata": {},
     "output_type": "execute_result"
    }
   ],
   "source": [
    "serie.size"
   ]
  },
  {
   "cell_type": "code",
   "execution_count": 62,
   "metadata": {},
   "outputs": [
    {
     "data": {
      "text/plain": [
       "(5,)"
      ]
     },
     "execution_count": 62,
     "metadata": {},
     "output_type": "execute_result"
    }
   ],
   "source": [
    "serie.shape"
   ]
  },
  {
   "cell_type": "code",
   "execution_count": 64,
   "metadata": {},
   "outputs": [],
   "source": [
    "serie = pd.Series(\n",
    "    data = np.random.randint(0, 10, 4),\n",
    "    index = ['a', 'b', 'c', 'd'],\n",
    "    name = 'numbers'\n",
    ")"
   ]
  },
  {
   "cell_type": "code",
   "execution_count": 65,
   "metadata": {},
   "outputs": [
    {
     "data": {
      "text/plain": [
       "a    5\n",
       "b    7\n",
       "c    6\n",
       "d    4\n",
       "Name: numbers, dtype: int32"
      ]
     },
     "execution_count": 65,
     "metadata": {},
     "output_type": "execute_result"
    }
   ],
   "source": [
    "serie"
   ]
  },
  {
   "cell_type": "code",
   "execution_count": 70,
   "metadata": {},
   "outputs": [],
   "source": [
    "usuarios = {\n",
    "    'name': ['user1', 'user2', 'user3'],\n",
    "    'email': ['user1@example.com','user2@example.com','user3@example.com']\n",
    "}"
   ]
  },
  {
   "cell_type": "code",
   "execution_count": 71,
   "metadata": {},
   "outputs": [
    {
     "data": {
      "text/plain": [
       "{'name': ['user1', 'user2', 'user3'],\n",
       " 'email': ['user1@example.com', 'user2@example.com', 'user3@example.com']}"
      ]
     },
     "execution_count": 71,
     "metadata": {},
     "output_type": "execute_result"
    }
   ],
   "source": [
    "usuarios"
   ]
  },
  {
   "cell_type": "code",
   "execution_count": 72,
   "metadata": {},
   "outputs": [],
   "source": [
    "data = pd.DataFrame(usuarios)"
   ]
  },
  {
   "cell_type": "code",
   "execution_count": 73,
   "metadata": {},
   "outputs": [
    {
     "data": {
      "text/html": [
       "<div>\n",
       "<style scoped>\n",
       "    .dataframe tbody tr th:only-of-type {\n",
       "        vertical-align: middle;\n",
       "    }\n",
       "\n",
       "    .dataframe tbody tr th {\n",
       "        vertical-align: top;\n",
       "    }\n",
       "\n",
       "    .dataframe thead th {\n",
       "        text-align: right;\n",
       "    }\n",
       "</style>\n",
       "<table border=\"1\" class=\"dataframe\">\n",
       "  <thead>\n",
       "    <tr style=\"text-align: right;\">\n",
       "      <th></th>\n",
       "      <th>name</th>\n",
       "      <th>email</th>\n",
       "    </tr>\n",
       "  </thead>\n",
       "  <tbody>\n",
       "    <tr>\n",
       "      <th>0</th>\n",
       "      <td>user1</td>\n",
       "      <td>user1@example.com</td>\n",
       "    </tr>\n",
       "    <tr>\n",
       "      <th>1</th>\n",
       "      <td>user2</td>\n",
       "      <td>user2@example.com</td>\n",
       "    </tr>\n",
       "    <tr>\n",
       "      <th>2</th>\n",
       "      <td>user3</td>\n",
       "      <td>user3@example.com</td>\n",
       "    </tr>\n",
       "  </tbody>\n",
       "</table>\n",
       "</div>"
      ],
      "text/plain": [
       "    name              email\n",
       "0  user1  user1@example.com\n",
       "1  user2  user2@example.com\n",
       "2  user3  user3@example.com"
      ]
     },
     "execution_count": 73,
     "metadata": {},
     "output_type": "execute_result"
    }
   ],
   "source": [
    "data"
   ]
  },
  {
   "cell_type": "code",
   "execution_count": 74,
   "metadata": {
    "scrolled": true
   },
   "outputs": [
    {
     "data": {
      "text/plain": [
       "0    user1\n",
       "1    user2\n",
       "2    user3\n",
       "Name: name, dtype: object"
      ]
     },
     "execution_count": 74,
     "metadata": {},
     "output_type": "execute_result"
    }
   ],
   "source": [
    "data['name']"
   ]
  },
  {
   "cell_type": "code",
   "execution_count": 75,
   "metadata": {},
   "outputs": [
    {
     "data": {
      "text/plain": [
       "0    user1@example.com\n",
       "1    user2@example.com\n",
       "2    user3@example.com\n",
       "Name: email, dtype: object"
      ]
     },
     "execution_count": 75,
     "metadata": {},
     "output_type": "execute_result"
    }
   ],
   "source": [
    "data['email']"
   ]
  },
  {
   "cell_type": "code",
   "execution_count": 77,
   "metadata": {},
   "outputs": [
    {
     "data": {
      "text/plain": [
       "0    user1\n",
       "1    user2\n",
       "2    user3\n",
       "Name: name, dtype: object"
      ]
     },
     "execution_count": 77,
     "metadata": {},
     "output_type": "execute_result"
    }
   ],
   "source": [
    "data.name"
   ]
  },
  {
   "cell_type": "code",
   "execution_count": 76,
   "metadata": {
    "scrolled": true
   },
   "outputs": [
    {
     "data": {
      "text/plain": [
       "0    user1@example.com\n",
       "1    user2@example.com\n",
       "2    user3@example.com\n",
       "Name: email, dtype: object"
      ]
     },
     "execution_count": 76,
     "metadata": {},
     "output_type": "execute_result"
    }
   ],
   "source": [
    "data.email"
   ]
  },
  {
   "cell_type": "markdown",
   "metadata": {},
   "source": [
    "## Ejercicios"
   ]
  },
  {
   "cell_type": "code",
   "execution_count": 68,
   "metadata": {},
   "outputs": [],
   "source": [
    "import numpy as np\n",
    "import pandas as pd"
   ]
  },
  {
   "cell_type": "code",
   "execution_count": 69,
   "metadata": {},
   "outputs": [],
   "source": [
    "users = pd.read_csv('usersv2.csv')"
   ]
  },
  {
   "cell_type": "code",
   "execution_count": 78,
   "metadata": {},
   "outputs": [
    {
     "data": {
      "text/html": [
       "<div>\n",
       "<style scoped>\n",
       "    .dataframe tbody tr th:only-of-type {\n",
       "        vertical-align: middle;\n",
       "    }\n",
       "\n",
       "    .dataframe tbody tr th {\n",
       "        vertical-align: top;\n",
       "    }\n",
       "\n",
       "    .dataframe thead th {\n",
       "        text-align: right;\n",
       "    }\n",
       "</style>\n",
       "<table border=\"1\" class=\"dataframe\">\n",
       "  <thead>\n",
       "    <tr style=\"text-align: right;\">\n",
       "      <th></th>\n",
       "      <th>name</th>\n",
       "      <th>age</th>\n",
       "      <th>username</th>\n",
       "      <th>email</th>\n",
       "      <th>country</th>\n",
       "      <th>postcode</th>\n",
       "      <th>gender</th>\n",
       "    </tr>\n",
       "  </thead>\n",
       "  <tbody>\n",
       "    <tr>\n",
       "      <th>0</th>\n",
       "      <td>Ms Fátima Martin</td>\n",
       "      <td>42</td>\n",
       "      <td>goldenmouse797</td>\n",
       "      <td>fatima.martin@example.com</td>\n",
       "      <td>Spain</td>\n",
       "      <td>43746</td>\n",
       "      <td>female</td>\n",
       "    </tr>\n",
       "    <tr>\n",
       "      <th>1</th>\n",
       "      <td>Mrs Molly Garrett</td>\n",
       "      <td>30</td>\n",
       "      <td>smallpanda982</td>\n",
       "      <td>molly.garrett@example.com</td>\n",
       "      <td>Ireland</td>\n",
       "      <td>57660</td>\n",
       "      <td>female</td>\n",
       "    </tr>\n",
       "    <tr>\n",
       "      <th>2</th>\n",
       "      <td>Ms Veena Kulkarni</td>\n",
       "      <td>53</td>\n",
       "      <td>smalltiger174</td>\n",
       "      <td>veena.kulkarni@example.com</td>\n",
       "      <td>India</td>\n",
       "      <td>29797</td>\n",
       "      <td>female</td>\n",
       "    </tr>\n",
       "    <tr>\n",
       "      <th>3</th>\n",
       "      <td>Miss Sheryl Cole</td>\n",
       "      <td>74</td>\n",
       "      <td>beautifulcat191</td>\n",
       "      <td>sheryl.cole@example.com</td>\n",
       "      <td>United Kingdom</td>\n",
       "      <td>TH3 7XG</td>\n",
       "      <td>female</td>\n",
       "    </tr>\n",
       "    <tr>\n",
       "      <th>4</th>\n",
       "      <td>Ms Nataša Subašić</td>\n",
       "      <td>55</td>\n",
       "      <td>bigbird256</td>\n",
       "      <td>natasa.subasic@example.com</td>\n",
       "      <td>Serbia</td>\n",
       "      <td>83260</td>\n",
       "      <td>female</td>\n",
       "    </tr>\n",
       "    <tr>\n",
       "      <th>...</th>\n",
       "      <td>...</td>\n",
       "      <td>...</td>\n",
       "      <td>...</td>\n",
       "      <td>...</td>\n",
       "      <td>...</td>\n",
       "      <td>...</td>\n",
       "      <td>...</td>\n",
       "    </tr>\n",
       "    <tr>\n",
       "      <th>1995</th>\n",
       "      <td>Ms Viktoria Lauritsen</td>\n",
       "      <td>38</td>\n",
       "      <td>heavyzebra441</td>\n",
       "      <td>viktoria.lauritsen@example.com</td>\n",
       "      <td>Norway</td>\n",
       "      <td>1545</td>\n",
       "      <td>female</td>\n",
       "    </tr>\n",
       "    <tr>\n",
       "      <th>1996</th>\n",
       "      <td>Mr Christian Sørhaug</td>\n",
       "      <td>28</td>\n",
       "      <td>goldensnake897</td>\n",
       "      <td>christian.sorhaug@example.com</td>\n",
       "      <td>Norway</td>\n",
       "      <td>3614</td>\n",
       "      <td>male</td>\n",
       "    </tr>\n",
       "    <tr>\n",
       "      <th>1997</th>\n",
       "      <td>Ms Maria Peković</td>\n",
       "      <td>45</td>\n",
       "      <td>redzebra951</td>\n",
       "      <td>maria.pekovic@example.com</td>\n",
       "      <td>Serbia</td>\n",
       "      <td>30159</td>\n",
       "      <td>female</td>\n",
       "    </tr>\n",
       "    <tr>\n",
       "      <th>1998</th>\n",
       "      <td>Mrs Nicole Jensen</td>\n",
       "      <td>78</td>\n",
       "      <td>beautifuldog292</td>\n",
       "      <td>nicole.jensen@example.com</td>\n",
       "      <td>United Kingdom</td>\n",
       "      <td>L9J 1QE</td>\n",
       "      <td>female</td>\n",
       "    </tr>\n",
       "    <tr>\n",
       "      <th>1999</th>\n",
       "      <td>Mr Percy Blankenstein</td>\n",
       "      <td>36</td>\n",
       "      <td>ticklishostrich632</td>\n",
       "      <td>percy.blankenstein@example.com</td>\n",
       "      <td>Netherlands</td>\n",
       "      <td>3143 RR</td>\n",
       "      <td>male</td>\n",
       "    </tr>\n",
       "  </tbody>\n",
       "</table>\n",
       "<p>2000 rows × 7 columns</p>\n",
       "</div>"
      ],
      "text/plain": [
       "                       name  age            username  \\\n",
       "0          Ms Fátima Martin   42      goldenmouse797   \n",
       "1         Mrs Molly Garrett   30       smallpanda982   \n",
       "2         Ms Veena Kulkarni   53       smalltiger174   \n",
       "3          Miss Sheryl Cole   74     beautifulcat191   \n",
       "4         Ms Nataša Subašić   55          bigbird256   \n",
       "...                     ...  ...                 ...   \n",
       "1995  Ms Viktoria Lauritsen   38       heavyzebra441   \n",
       "1996   Mr Christian Sørhaug   28      goldensnake897   \n",
       "1997       Ms Maria Peković   45         redzebra951   \n",
       "1998      Mrs Nicole Jensen   78     beautifuldog292   \n",
       "1999  Mr Percy Blankenstein   36  ticklishostrich632   \n",
       "\n",
       "                               email         country postcode  gender  \n",
       "0          fatima.martin@example.com           Spain    43746  female  \n",
       "1          molly.garrett@example.com         Ireland    57660  female  \n",
       "2         veena.kulkarni@example.com           India    29797  female  \n",
       "3            sheryl.cole@example.com  United Kingdom  TH3 7XG  female  \n",
       "4         natasa.subasic@example.com          Serbia    83260  female  \n",
       "...                              ...             ...      ...     ...  \n",
       "1995  viktoria.lauritsen@example.com          Norway     1545  female  \n",
       "1996   christian.sorhaug@example.com          Norway     3614    male  \n",
       "1997       maria.pekovic@example.com          Serbia    30159  female  \n",
       "1998       nicole.jensen@example.com  United Kingdom  L9J 1QE  female  \n",
       "1999  percy.blankenstein@example.com     Netherlands  3143 RR    male  \n",
       "\n",
       "[2000 rows x 7 columns]"
      ]
     },
     "execution_count": 78,
     "metadata": {},
     "output_type": "execute_result"
    }
   ],
   "source": [
    "users"
   ]
  },
  {
   "cell_type": "code",
   "execution_count": 79,
   "metadata": {},
   "outputs": [
    {
     "data": {
      "text/html": [
       "<div>\n",
       "<style scoped>\n",
       "    .dataframe tbody tr th:only-of-type {\n",
       "        vertical-align: middle;\n",
       "    }\n",
       "\n",
       "    .dataframe tbody tr th {\n",
       "        vertical-align: top;\n",
       "    }\n",
       "\n",
       "    .dataframe thead th {\n",
       "        text-align: right;\n",
       "    }\n",
       "</style>\n",
       "<table border=\"1\" class=\"dataframe\">\n",
       "  <thead>\n",
       "    <tr style=\"text-align: right;\">\n",
       "      <th></th>\n",
       "      <th>name</th>\n",
       "      <th>age</th>\n",
       "      <th>username</th>\n",
       "      <th>email</th>\n",
       "      <th>country</th>\n",
       "      <th>postcode</th>\n",
       "      <th>gender</th>\n",
       "    </tr>\n",
       "  </thead>\n",
       "  <tbody>\n",
       "    <tr>\n",
       "      <th>0</th>\n",
       "      <td>Ms Fátima Martin</td>\n",
       "      <td>42</td>\n",
       "      <td>goldenmouse797</td>\n",
       "      <td>fatima.martin@example.com</td>\n",
       "      <td>Spain</td>\n",
       "      <td>43746</td>\n",
       "      <td>female</td>\n",
       "    </tr>\n",
       "    <tr>\n",
       "      <th>1</th>\n",
       "      <td>Mrs Molly Garrett</td>\n",
       "      <td>30</td>\n",
       "      <td>smallpanda982</td>\n",
       "      <td>molly.garrett@example.com</td>\n",
       "      <td>Ireland</td>\n",
       "      <td>57660</td>\n",
       "      <td>female</td>\n",
       "    </tr>\n",
       "    <tr>\n",
       "      <th>2</th>\n",
       "      <td>Ms Veena Kulkarni</td>\n",
       "      <td>53</td>\n",
       "      <td>smalltiger174</td>\n",
       "      <td>veena.kulkarni@example.com</td>\n",
       "      <td>India</td>\n",
       "      <td>29797</td>\n",
       "      <td>female</td>\n",
       "    </tr>\n",
       "    <tr>\n",
       "      <th>3</th>\n",
       "      <td>Miss Sheryl Cole</td>\n",
       "      <td>74</td>\n",
       "      <td>beautifulcat191</td>\n",
       "      <td>sheryl.cole@example.com</td>\n",
       "      <td>United Kingdom</td>\n",
       "      <td>TH3 7XG</td>\n",
       "      <td>female</td>\n",
       "    </tr>\n",
       "    <tr>\n",
       "      <th>4</th>\n",
       "      <td>Ms Nataša Subašić</td>\n",
       "      <td>55</td>\n",
       "      <td>bigbird256</td>\n",
       "      <td>natasa.subasic@example.com</td>\n",
       "      <td>Serbia</td>\n",
       "      <td>83260</td>\n",
       "      <td>female</td>\n",
       "    </tr>\n",
       "    <tr>\n",
       "      <th>...</th>\n",
       "      <td>...</td>\n",
       "      <td>...</td>\n",
       "      <td>...</td>\n",
       "      <td>...</td>\n",
       "      <td>...</td>\n",
       "      <td>...</td>\n",
       "      <td>...</td>\n",
       "    </tr>\n",
       "    <tr>\n",
       "      <th>1995</th>\n",
       "      <td>Ms Viktoria Lauritsen</td>\n",
       "      <td>38</td>\n",
       "      <td>heavyzebra441</td>\n",
       "      <td>viktoria.lauritsen@example.com</td>\n",
       "      <td>Norway</td>\n",
       "      <td>1545</td>\n",
       "      <td>female</td>\n",
       "    </tr>\n",
       "    <tr>\n",
       "      <th>1996</th>\n",
       "      <td>Mr Christian Sørhaug</td>\n",
       "      <td>28</td>\n",
       "      <td>goldensnake897</td>\n",
       "      <td>christian.sorhaug@example.com</td>\n",
       "      <td>Norway</td>\n",
       "      <td>3614</td>\n",
       "      <td>male</td>\n",
       "    </tr>\n",
       "    <tr>\n",
       "      <th>1997</th>\n",
       "      <td>Ms Maria Peković</td>\n",
       "      <td>45</td>\n",
       "      <td>redzebra951</td>\n",
       "      <td>maria.pekovic@example.com</td>\n",
       "      <td>Serbia</td>\n",
       "      <td>30159</td>\n",
       "      <td>female</td>\n",
       "    </tr>\n",
       "    <tr>\n",
       "      <th>1998</th>\n",
       "      <td>Mrs Nicole Jensen</td>\n",
       "      <td>78</td>\n",
       "      <td>beautifuldog292</td>\n",
       "      <td>nicole.jensen@example.com</td>\n",
       "      <td>United Kingdom</td>\n",
       "      <td>L9J 1QE</td>\n",
       "      <td>female</td>\n",
       "    </tr>\n",
       "    <tr>\n",
       "      <th>1999</th>\n",
       "      <td>Mr Percy Blankenstein</td>\n",
       "      <td>36</td>\n",
       "      <td>ticklishostrich632</td>\n",
       "      <td>percy.blankenstein@example.com</td>\n",
       "      <td>Netherlands</td>\n",
       "      <td>3143 RR</td>\n",
       "      <td>male</td>\n",
       "    </tr>\n",
       "  </tbody>\n",
       "</table>\n",
       "<p>2000 rows × 7 columns</p>\n",
       "</div>"
      ],
      "text/plain": [
       "                       name  age            username  \\\n",
       "0          Ms Fátima Martin   42      goldenmouse797   \n",
       "1         Mrs Molly Garrett   30       smallpanda982   \n",
       "2         Ms Veena Kulkarni   53       smalltiger174   \n",
       "3          Miss Sheryl Cole   74     beautifulcat191   \n",
       "4         Ms Nataša Subašić   55          bigbird256   \n",
       "...                     ...  ...                 ...   \n",
       "1995  Ms Viktoria Lauritsen   38       heavyzebra441   \n",
       "1996   Mr Christian Sørhaug   28      goldensnake897   \n",
       "1997       Ms Maria Peković   45         redzebra951   \n",
       "1998      Mrs Nicole Jensen   78     beautifuldog292   \n",
       "1999  Mr Percy Blankenstein   36  ticklishostrich632   \n",
       "\n",
       "                               email         country postcode  gender  \n",
       "0          fatima.martin@example.com           Spain    43746  female  \n",
       "1          molly.garrett@example.com         Ireland    57660  female  \n",
       "2         veena.kulkarni@example.com           India    29797  female  \n",
       "3            sheryl.cole@example.com  United Kingdom  TH3 7XG  female  \n",
       "4         natasa.subasic@example.com          Serbia    83260  female  \n",
       "...                              ...             ...      ...     ...  \n",
       "1995  viktoria.lauritsen@example.com          Norway     1545  female  \n",
       "1996   christian.sorhaug@example.com          Norway     3614    male  \n",
       "1997       maria.pekovic@example.com          Serbia    30159  female  \n",
       "1998       nicole.jensen@example.com  United Kingdom  L9J 1QE  female  \n",
       "1999  percy.blankenstein@example.com     Netherlands  3143 RR    male  \n",
       "\n",
       "[2000 rows x 7 columns]"
      ]
     },
     "execution_count": 79,
     "metadata": {},
     "output_type": "execute_result"
    }
   ],
   "source": [
    "users.dropna()"
   ]
  },
  {
   "cell_type": "code",
   "execution_count": 80,
   "metadata": {},
   "outputs": [
    {
     "data": {
      "text/html": [
       "<div>\n",
       "<style scoped>\n",
       "    .dataframe tbody tr th:only-of-type {\n",
       "        vertical-align: middle;\n",
       "    }\n",
       "\n",
       "    .dataframe tbody tr th {\n",
       "        vertical-align: top;\n",
       "    }\n",
       "\n",
       "    .dataframe thead th {\n",
       "        text-align: right;\n",
       "    }\n",
       "</style>\n",
       "<table border=\"1\" class=\"dataframe\">\n",
       "  <thead>\n",
       "    <tr style=\"text-align: right;\">\n",
       "      <th></th>\n",
       "      <th>name</th>\n",
       "      <th>age</th>\n",
       "      <th>username</th>\n",
       "      <th>email</th>\n",
       "      <th>country</th>\n",
       "      <th>postcode</th>\n",
       "      <th>gender</th>\n",
       "    </tr>\n",
       "  </thead>\n",
       "  <tbody>\n",
       "    <tr>\n",
       "      <th>0</th>\n",
       "      <td>Ms Fátima Martin</td>\n",
       "      <td>42</td>\n",
       "      <td>goldenmouse797</td>\n",
       "      <td>fatima.martin@example.com</td>\n",
       "      <td>Spain</td>\n",
       "      <td>43746</td>\n",
       "      <td>female</td>\n",
       "    </tr>\n",
       "    <tr>\n",
       "      <th>1</th>\n",
       "      <td>Mrs Molly Garrett</td>\n",
       "      <td>30</td>\n",
       "      <td>smallpanda982</td>\n",
       "      <td>molly.garrett@example.com</td>\n",
       "      <td>Ireland</td>\n",
       "      <td>57660</td>\n",
       "      <td>female</td>\n",
       "    </tr>\n",
       "    <tr>\n",
       "      <th>2</th>\n",
       "      <td>Ms Veena Kulkarni</td>\n",
       "      <td>53</td>\n",
       "      <td>smalltiger174</td>\n",
       "      <td>veena.kulkarni@example.com</td>\n",
       "      <td>India</td>\n",
       "      <td>29797</td>\n",
       "      <td>female</td>\n",
       "    </tr>\n",
       "    <tr>\n",
       "      <th>3</th>\n",
       "      <td>Miss Sheryl Cole</td>\n",
       "      <td>74</td>\n",
       "      <td>beautifulcat191</td>\n",
       "      <td>sheryl.cole@example.com</td>\n",
       "      <td>United Kingdom</td>\n",
       "      <td>TH3 7XG</td>\n",
       "      <td>female</td>\n",
       "    </tr>\n",
       "    <tr>\n",
       "      <th>4</th>\n",
       "      <td>Ms Nataša Subašić</td>\n",
       "      <td>55</td>\n",
       "      <td>bigbird256</td>\n",
       "      <td>natasa.subasic@example.com</td>\n",
       "      <td>Serbia</td>\n",
       "      <td>83260</td>\n",
       "      <td>female</td>\n",
       "    </tr>\n",
       "    <tr>\n",
       "      <th>...</th>\n",
       "      <td>...</td>\n",
       "      <td>...</td>\n",
       "      <td>...</td>\n",
       "      <td>...</td>\n",
       "      <td>...</td>\n",
       "      <td>...</td>\n",
       "      <td>...</td>\n",
       "    </tr>\n",
       "    <tr>\n",
       "      <th>1995</th>\n",
       "      <td>Ms Viktoria Lauritsen</td>\n",
       "      <td>38</td>\n",
       "      <td>heavyzebra441</td>\n",
       "      <td>viktoria.lauritsen@example.com</td>\n",
       "      <td>Norway</td>\n",
       "      <td>1545</td>\n",
       "      <td>female</td>\n",
       "    </tr>\n",
       "    <tr>\n",
       "      <th>1996</th>\n",
       "      <td>Mr Christian Sørhaug</td>\n",
       "      <td>28</td>\n",
       "      <td>goldensnake897</td>\n",
       "      <td>christian.sorhaug@example.com</td>\n",
       "      <td>Norway</td>\n",
       "      <td>3614</td>\n",
       "      <td>male</td>\n",
       "    </tr>\n",
       "    <tr>\n",
       "      <th>1997</th>\n",
       "      <td>Ms Maria Peković</td>\n",
       "      <td>45</td>\n",
       "      <td>redzebra951</td>\n",
       "      <td>maria.pekovic@example.com</td>\n",
       "      <td>Serbia</td>\n",
       "      <td>30159</td>\n",
       "      <td>female</td>\n",
       "    </tr>\n",
       "    <tr>\n",
       "      <th>1998</th>\n",
       "      <td>Mrs Nicole Jensen</td>\n",
       "      <td>78</td>\n",
       "      <td>beautifuldog292</td>\n",
       "      <td>nicole.jensen@example.com</td>\n",
       "      <td>United Kingdom</td>\n",
       "      <td>L9J 1QE</td>\n",
       "      <td>female</td>\n",
       "    </tr>\n",
       "    <tr>\n",
       "      <th>1999</th>\n",
       "      <td>Mr Percy Blankenstein</td>\n",
       "      <td>36</td>\n",
       "      <td>ticklishostrich632</td>\n",
       "      <td>percy.blankenstein@example.com</td>\n",
       "      <td>Netherlands</td>\n",
       "      <td>3143 RR</td>\n",
       "      <td>male</td>\n",
       "    </tr>\n",
       "  </tbody>\n",
       "</table>\n",
       "<p>2000 rows × 7 columns</p>\n",
       "</div>"
      ],
      "text/plain": [
       "                       name  age            username  \\\n",
       "0          Ms Fátima Martin   42      goldenmouse797   \n",
       "1         Mrs Molly Garrett   30       smallpanda982   \n",
       "2         Ms Veena Kulkarni   53       smalltiger174   \n",
       "3          Miss Sheryl Cole   74     beautifulcat191   \n",
       "4         Ms Nataša Subašić   55          bigbird256   \n",
       "...                     ...  ...                 ...   \n",
       "1995  Ms Viktoria Lauritsen   38       heavyzebra441   \n",
       "1996   Mr Christian Sørhaug   28      goldensnake897   \n",
       "1997       Ms Maria Peković   45         redzebra951   \n",
       "1998      Mrs Nicole Jensen   78     beautifuldog292   \n",
       "1999  Mr Percy Blankenstein   36  ticklishostrich632   \n",
       "\n",
       "                               email         country postcode  gender  \n",
       "0          fatima.martin@example.com           Spain    43746  female  \n",
       "1          molly.garrett@example.com         Ireland    57660  female  \n",
       "2         veena.kulkarni@example.com           India    29797  female  \n",
       "3            sheryl.cole@example.com  United Kingdom  TH3 7XG  female  \n",
       "4         natasa.subasic@example.com          Serbia    83260  female  \n",
       "...                              ...             ...      ...     ...  \n",
       "1995  viktoria.lauritsen@example.com          Norway     1545  female  \n",
       "1996   christian.sorhaug@example.com          Norway     3614    male  \n",
       "1997       maria.pekovic@example.com          Serbia    30159  female  \n",
       "1998       nicole.jensen@example.com  United Kingdom  L9J 1QE  female  \n",
       "1999  percy.blankenstein@example.com     Netherlands  3143 RR    male  \n",
       "\n",
       "[2000 rows x 7 columns]"
      ]
     },
     "execution_count": 80,
     "metadata": {},
     "output_type": "execute_result"
    }
   ],
   "source": [
    "users.fillna({'age': 10})"
   ]
  },
  {
   "cell_type": "code",
   "execution_count": 81,
   "metadata": {
    "scrolled": false
   },
   "outputs": [
    {
     "data": {
      "text/html": [
       "<div>\n",
       "<style scoped>\n",
       "    .dataframe tbody tr th:only-of-type {\n",
       "        vertical-align: middle;\n",
       "    }\n",
       "\n",
       "    .dataframe tbody tr th {\n",
       "        vertical-align: top;\n",
       "    }\n",
       "\n",
       "    .dataframe thead th {\n",
       "        text-align: right;\n",
       "    }\n",
       "</style>\n",
       "<table border=\"1\" class=\"dataframe\">\n",
       "  <thead>\n",
       "    <tr style=\"text-align: right;\">\n",
       "      <th></th>\n",
       "      <th>name</th>\n",
       "      <th>age</th>\n",
       "      <th>username</th>\n",
       "      <th>email</th>\n",
       "      <th>country</th>\n",
       "      <th>postcode</th>\n",
       "      <th>gender</th>\n",
       "    </tr>\n",
       "  </thead>\n",
       "  <tbody>\n",
       "    <tr>\n",
       "      <th>0</th>\n",
       "      <td>Ms Fátima Martin</td>\n",
       "      <td>42</td>\n",
       "      <td>goldenmouse797</td>\n",
       "      <td>fatima.martin@example.com</td>\n",
       "      <td>Spain</td>\n",
       "      <td>43746</td>\n",
       "      <td>female</td>\n",
       "    </tr>\n",
       "    <tr>\n",
       "      <th>1</th>\n",
       "      <td>Mrs Molly Garrett</td>\n",
       "      <td>30</td>\n",
       "      <td>smallpanda982</td>\n",
       "      <td>molly.garrett@example.com</td>\n",
       "      <td>Ireland</td>\n",
       "      <td>57660</td>\n",
       "      <td>female</td>\n",
       "    </tr>\n",
       "    <tr>\n",
       "      <th>2</th>\n",
       "      <td>Ms Veena Kulkarni</td>\n",
       "      <td>53</td>\n",
       "      <td>smalltiger174</td>\n",
       "      <td>veena.kulkarni@example.com</td>\n",
       "      <td>India</td>\n",
       "      <td>29797</td>\n",
       "      <td>female</td>\n",
       "    </tr>\n",
       "    <tr>\n",
       "      <th>3</th>\n",
       "      <td>Miss Sheryl Cole</td>\n",
       "      <td>74</td>\n",
       "      <td>beautifulcat191</td>\n",
       "      <td>sheryl.cole@example.com</td>\n",
       "      <td>United Kingdom</td>\n",
       "      <td>TH3 7XG</td>\n",
       "      <td>female</td>\n",
       "    </tr>\n",
       "    <tr>\n",
       "      <th>4</th>\n",
       "      <td>Ms Nataša Subašić</td>\n",
       "      <td>55</td>\n",
       "      <td>bigbird256</td>\n",
       "      <td>natasa.subasic@example.com</td>\n",
       "      <td>Serbia</td>\n",
       "      <td>83260</td>\n",
       "      <td>female</td>\n",
       "    </tr>\n",
       "    <tr>\n",
       "      <th>...</th>\n",
       "      <td>...</td>\n",
       "      <td>...</td>\n",
       "      <td>...</td>\n",
       "      <td>...</td>\n",
       "      <td>...</td>\n",
       "      <td>...</td>\n",
       "      <td>...</td>\n",
       "    </tr>\n",
       "    <tr>\n",
       "      <th>1995</th>\n",
       "      <td>Ms Viktoria Lauritsen</td>\n",
       "      <td>38</td>\n",
       "      <td>heavyzebra441</td>\n",
       "      <td>viktoria.lauritsen@example.com</td>\n",
       "      <td>Norway</td>\n",
       "      <td>1545</td>\n",
       "      <td>female</td>\n",
       "    </tr>\n",
       "    <tr>\n",
       "      <th>1996</th>\n",
       "      <td>Mr Christian Sørhaug</td>\n",
       "      <td>28</td>\n",
       "      <td>goldensnake897</td>\n",
       "      <td>christian.sorhaug@example.com</td>\n",
       "      <td>Norway</td>\n",
       "      <td>3614</td>\n",
       "      <td>male</td>\n",
       "    </tr>\n",
       "    <tr>\n",
       "      <th>1997</th>\n",
       "      <td>Ms Maria Peković</td>\n",
       "      <td>45</td>\n",
       "      <td>redzebra951</td>\n",
       "      <td>maria.pekovic@example.com</td>\n",
       "      <td>Serbia</td>\n",
       "      <td>30159</td>\n",
       "      <td>female</td>\n",
       "    </tr>\n",
       "    <tr>\n",
       "      <th>1998</th>\n",
       "      <td>Mrs Nicole Jensen</td>\n",
       "      <td>78</td>\n",
       "      <td>beautifuldog292</td>\n",
       "      <td>nicole.jensen@example.com</td>\n",
       "      <td>United Kingdom</td>\n",
       "      <td>L9J 1QE</td>\n",
       "      <td>female</td>\n",
       "    </tr>\n",
       "    <tr>\n",
       "      <th>1999</th>\n",
       "      <td>Mr Percy Blankenstein</td>\n",
       "      <td>36</td>\n",
       "      <td>ticklishostrich632</td>\n",
       "      <td>percy.blankenstein@example.com</td>\n",
       "      <td>Netherlands</td>\n",
       "      <td>3143 RR</td>\n",
       "      <td>male</td>\n",
       "    </tr>\n",
       "  </tbody>\n",
       "</table>\n",
       "<p>2000 rows × 7 columns</p>\n",
       "</div>"
      ],
      "text/plain": [
       "                       name  age            username  \\\n",
       "0          Ms Fátima Martin   42      goldenmouse797   \n",
       "1         Mrs Molly Garrett   30       smallpanda982   \n",
       "2         Ms Veena Kulkarni   53       smalltiger174   \n",
       "3          Miss Sheryl Cole   74     beautifulcat191   \n",
       "4         Ms Nataša Subašić   55          bigbird256   \n",
       "...                     ...  ...                 ...   \n",
       "1995  Ms Viktoria Lauritsen   38       heavyzebra441   \n",
       "1996   Mr Christian Sørhaug   28      goldensnake897   \n",
       "1997       Ms Maria Peković   45         redzebra951   \n",
       "1998      Mrs Nicole Jensen   78     beautifuldog292   \n",
       "1999  Mr Percy Blankenstein   36  ticklishostrich632   \n",
       "\n",
       "                               email         country postcode  gender  \n",
       "0          fatima.martin@example.com           Spain    43746  female  \n",
       "1          molly.garrett@example.com         Ireland    57660  female  \n",
       "2         veena.kulkarni@example.com           India    29797  female  \n",
       "3            sheryl.cole@example.com  United Kingdom  TH3 7XG  female  \n",
       "4         natasa.subasic@example.com          Serbia    83260  female  \n",
       "...                              ...             ...      ...     ...  \n",
       "1995  viktoria.lauritsen@example.com          Norway     1545  female  \n",
       "1996   christian.sorhaug@example.com          Norway     3614    male  \n",
       "1997       maria.pekovic@example.com          Serbia    30159  female  \n",
       "1998       nicole.jensen@example.com  United Kingdom  L9J 1QE  female  \n",
       "1999  percy.blankenstein@example.com     Netherlands  3143 RR    male  \n",
       "\n",
       "[2000 rows x 7 columns]"
      ]
     },
     "execution_count": 81,
     "metadata": {},
     "output_type": "execute_result"
    }
   ],
   "source": [
    "users.fillna({'age': users['age'].mean()})"
   ]
  },
  {
   "cell_type": "code",
   "execution_count": 102,
   "metadata": {
    "scrolled": true
   },
   "outputs": [
    {
     "data": {
      "text/plain": [
       "0            Ms Fátima Martin\n",
       "1           Mrs Molly Garrett\n",
       "2           Ms Veena Kulkarni\n",
       "3            Miss Sheryl Cole\n",
       "4           Ms Nataša Subašić\n",
       "                ...          \n",
       "1995    Ms Viktoria Lauritsen\n",
       "1996     Mr Christian Sørhaug\n",
       "1997         Ms Maria Peković\n",
       "1998        Mrs Nicole Jensen\n",
       "1999    Mr Percy Blankenstein\n",
       "Name: name, Length: 2000, dtype: object"
      ]
     },
     "execution_count": 102,
     "metadata": {},
     "output_type": "execute_result"
    }
   ],
   "source": [
    "users['name'] # Serie"
   ]
  },
  {
   "cell_type": "code",
   "execution_count": 103,
   "metadata": {},
   "outputs": [
    {
     "data": {
      "text/html": [
       "<div>\n",
       "<style scoped>\n",
       "    .dataframe tbody tr th:only-of-type {\n",
       "        vertical-align: middle;\n",
       "    }\n",
       "\n",
       "    .dataframe tbody tr th {\n",
       "        vertical-align: top;\n",
       "    }\n",
       "\n",
       "    .dataframe thead th {\n",
       "        text-align: right;\n",
       "    }\n",
       "</style>\n",
       "<table border=\"1\" class=\"dataframe\">\n",
       "  <thead>\n",
       "    <tr style=\"text-align: right;\">\n",
       "      <th></th>\n",
       "      <th>name</th>\n",
       "      <th>email</th>\n",
       "    </tr>\n",
       "  </thead>\n",
       "  <tbody>\n",
       "    <tr>\n",
       "      <th>0</th>\n",
       "      <td>Ms Fátima Martin</td>\n",
       "      <td>fatima.martin@example.com</td>\n",
       "    </tr>\n",
       "    <tr>\n",
       "      <th>1</th>\n",
       "      <td>Mrs Molly Garrett</td>\n",
       "      <td>molly.garrett@example.com</td>\n",
       "    </tr>\n",
       "    <tr>\n",
       "      <th>2</th>\n",
       "      <td>Ms Veena Kulkarni</td>\n",
       "      <td>veena.kulkarni@example.com</td>\n",
       "    </tr>\n",
       "    <tr>\n",
       "      <th>3</th>\n",
       "      <td>Miss Sheryl Cole</td>\n",
       "      <td>sheryl.cole@example.com</td>\n",
       "    </tr>\n",
       "    <tr>\n",
       "      <th>4</th>\n",
       "      <td>Ms Nataša Subašić</td>\n",
       "      <td>natasa.subasic@example.com</td>\n",
       "    </tr>\n",
       "    <tr>\n",
       "      <th>...</th>\n",
       "      <td>...</td>\n",
       "      <td>...</td>\n",
       "    </tr>\n",
       "    <tr>\n",
       "      <th>1995</th>\n",
       "      <td>Ms Viktoria Lauritsen</td>\n",
       "      <td>viktoria.lauritsen@example.com</td>\n",
       "    </tr>\n",
       "    <tr>\n",
       "      <th>1996</th>\n",
       "      <td>Mr Christian Sørhaug</td>\n",
       "      <td>christian.sorhaug@example.com</td>\n",
       "    </tr>\n",
       "    <tr>\n",
       "      <th>1997</th>\n",
       "      <td>Ms Maria Peković</td>\n",
       "      <td>maria.pekovic@example.com</td>\n",
       "    </tr>\n",
       "    <tr>\n",
       "      <th>1998</th>\n",
       "      <td>Mrs Nicole Jensen</td>\n",
       "      <td>nicole.jensen@example.com</td>\n",
       "    </tr>\n",
       "    <tr>\n",
       "      <th>1999</th>\n",
       "      <td>Mr Percy Blankenstein</td>\n",
       "      <td>percy.blankenstein@example.com</td>\n",
       "    </tr>\n",
       "  </tbody>\n",
       "</table>\n",
       "<p>2000 rows × 2 columns</p>\n",
       "</div>"
      ],
      "text/plain": [
       "                       name                           email\n",
       "0          Ms Fátima Martin       fatima.martin@example.com\n",
       "1         Mrs Molly Garrett       molly.garrett@example.com\n",
       "2         Ms Veena Kulkarni      veena.kulkarni@example.com\n",
       "3          Miss Sheryl Cole         sheryl.cole@example.com\n",
       "4         Ms Nataša Subašić      natasa.subasic@example.com\n",
       "...                     ...                             ...\n",
       "1995  Ms Viktoria Lauritsen  viktoria.lauritsen@example.com\n",
       "1996   Mr Christian Sørhaug   christian.sorhaug@example.com\n",
       "1997       Ms Maria Peković       maria.pekovic@example.com\n",
       "1998      Mrs Nicole Jensen       nicole.jensen@example.com\n",
       "1999  Mr Percy Blankenstein  percy.blankenstein@example.com\n",
       "\n",
       "[2000 rows x 2 columns]"
      ]
     },
     "execution_count": 103,
     "metadata": {},
     "output_type": "execute_result"
    }
   ],
   "source": [
    "users[['name','email']] # DataFrame"
   ]
  },
  {
   "cell_type": "markdown",
   "metadata": {},
   "source": [
    "### Taller"
   ]
  },
  {
   "cell_type": "markdown",
   "metadata": {},
   "source": [
    "1. Obtener el nombre y correo de todos los usuarios"
   ]
  },
  {
   "cell_type": "code",
   "execution_count": 82,
   "metadata": {},
   "outputs": [
    {
     "data": {
      "text/html": [
       "<div>\n",
       "<style scoped>\n",
       "    .dataframe tbody tr th:only-of-type {\n",
       "        vertical-align: middle;\n",
       "    }\n",
       "\n",
       "    .dataframe tbody tr th {\n",
       "        vertical-align: top;\n",
       "    }\n",
       "\n",
       "    .dataframe thead th {\n",
       "        text-align: right;\n",
       "    }\n",
       "</style>\n",
       "<table border=\"1\" class=\"dataframe\">\n",
       "  <thead>\n",
       "    <tr style=\"text-align: right;\">\n",
       "      <th></th>\n",
       "      <th>name</th>\n",
       "      <th>email</th>\n",
       "    </tr>\n",
       "  </thead>\n",
       "  <tbody>\n",
       "    <tr>\n",
       "      <th>0</th>\n",
       "      <td>Ms Fátima Martin</td>\n",
       "      <td>fatima.martin@example.com</td>\n",
       "    </tr>\n",
       "    <tr>\n",
       "      <th>1</th>\n",
       "      <td>Mrs Molly Garrett</td>\n",
       "      <td>molly.garrett@example.com</td>\n",
       "    </tr>\n",
       "    <tr>\n",
       "      <th>2</th>\n",
       "      <td>Ms Veena Kulkarni</td>\n",
       "      <td>veena.kulkarni@example.com</td>\n",
       "    </tr>\n",
       "    <tr>\n",
       "      <th>3</th>\n",
       "      <td>Miss Sheryl Cole</td>\n",
       "      <td>sheryl.cole@example.com</td>\n",
       "    </tr>\n",
       "    <tr>\n",
       "      <th>4</th>\n",
       "      <td>Ms Nataša Subašić</td>\n",
       "      <td>natasa.subasic@example.com</td>\n",
       "    </tr>\n",
       "    <tr>\n",
       "      <th>...</th>\n",
       "      <td>...</td>\n",
       "      <td>...</td>\n",
       "    </tr>\n",
       "    <tr>\n",
       "      <th>1995</th>\n",
       "      <td>Ms Viktoria Lauritsen</td>\n",
       "      <td>viktoria.lauritsen@example.com</td>\n",
       "    </tr>\n",
       "    <tr>\n",
       "      <th>1996</th>\n",
       "      <td>Mr Christian Sørhaug</td>\n",
       "      <td>christian.sorhaug@example.com</td>\n",
       "    </tr>\n",
       "    <tr>\n",
       "      <th>1997</th>\n",
       "      <td>Ms Maria Peković</td>\n",
       "      <td>maria.pekovic@example.com</td>\n",
       "    </tr>\n",
       "    <tr>\n",
       "      <th>1998</th>\n",
       "      <td>Mrs Nicole Jensen</td>\n",
       "      <td>nicole.jensen@example.com</td>\n",
       "    </tr>\n",
       "    <tr>\n",
       "      <th>1999</th>\n",
       "      <td>Mr Percy Blankenstein</td>\n",
       "      <td>percy.blankenstein@example.com</td>\n",
       "    </tr>\n",
       "  </tbody>\n",
       "</table>\n",
       "<p>2000 rows × 2 columns</p>\n",
       "</div>"
      ],
      "text/plain": [
       "                       name                           email\n",
       "0          Ms Fátima Martin       fatima.martin@example.com\n",
       "1         Mrs Molly Garrett       molly.garrett@example.com\n",
       "2         Ms Veena Kulkarni      veena.kulkarni@example.com\n",
       "3          Miss Sheryl Cole         sheryl.cole@example.com\n",
       "4         Ms Nataša Subašić      natasa.subasic@example.com\n",
       "...                     ...                             ...\n",
       "1995  Ms Viktoria Lauritsen  viktoria.lauritsen@example.com\n",
       "1996   Mr Christian Sørhaug   christian.sorhaug@example.com\n",
       "1997       Ms Maria Peković       maria.pekovic@example.com\n",
       "1998      Mrs Nicole Jensen       nicole.jensen@example.com\n",
       "1999  Mr Percy Blankenstein  percy.blankenstein@example.com\n",
       "\n",
       "[2000 rows x 2 columns]"
      ]
     },
     "execution_count": 82,
     "metadata": {},
     "output_type": "execute_result"
    }
   ],
   "source": [
    "users[['name','email']] # SELECT campos"
   ]
  },
  {
   "cell_type": "markdown",
   "metadata": {},
   "source": [
    "2. Obtener nombre de todos los usuarios cuyo sexo es femenino"
   ]
  },
  {
   "cell_type": "code",
   "execution_count": 83,
   "metadata": {},
   "outputs": [
    {
     "data": {
      "text/plain": [
       "Index(['name', 'age', 'username', 'email', 'country', 'postcode', 'gender'], dtype='object')"
      ]
     },
     "execution_count": 83,
     "metadata": {},
     "output_type": "execute_result"
    }
   ],
   "source": [
    "users.columns"
   ]
  },
  {
   "cell_type": "code",
   "execution_count": 84,
   "metadata": {},
   "outputs": [
    {
     "data": {
      "text/html": [
       "<div>\n",
       "<style scoped>\n",
       "    .dataframe tbody tr th:only-of-type {\n",
       "        vertical-align: middle;\n",
       "    }\n",
       "\n",
       "    .dataframe tbody tr th {\n",
       "        vertical-align: top;\n",
       "    }\n",
       "\n",
       "    .dataframe thead th {\n",
       "        text-align: right;\n",
       "    }\n",
       "</style>\n",
       "<table border=\"1\" class=\"dataframe\">\n",
       "  <thead>\n",
       "    <tr style=\"text-align: right;\">\n",
       "      <th></th>\n",
       "      <th>name</th>\n",
       "      <th>age</th>\n",
       "      <th>username</th>\n",
       "      <th>email</th>\n",
       "      <th>country</th>\n",
       "      <th>postcode</th>\n",
       "      <th>gender</th>\n",
       "    </tr>\n",
       "  </thead>\n",
       "  <tbody>\n",
       "    <tr>\n",
       "      <th>0</th>\n",
       "      <td>Ms Fátima Martin</td>\n",
       "      <td>42</td>\n",
       "      <td>goldenmouse797</td>\n",
       "      <td>fatima.martin@example.com</td>\n",
       "      <td>Spain</td>\n",
       "      <td>43746</td>\n",
       "      <td>female</td>\n",
       "    </tr>\n",
       "    <tr>\n",
       "      <th>1</th>\n",
       "      <td>Mrs Molly Garrett</td>\n",
       "      <td>30</td>\n",
       "      <td>smallpanda982</td>\n",
       "      <td>molly.garrett@example.com</td>\n",
       "      <td>Ireland</td>\n",
       "      <td>57660</td>\n",
       "      <td>female</td>\n",
       "    </tr>\n",
       "    <tr>\n",
       "      <th>2</th>\n",
       "      <td>Ms Veena Kulkarni</td>\n",
       "      <td>53</td>\n",
       "      <td>smalltiger174</td>\n",
       "      <td>veena.kulkarni@example.com</td>\n",
       "      <td>India</td>\n",
       "      <td>29797</td>\n",
       "      <td>female</td>\n",
       "    </tr>\n",
       "    <tr>\n",
       "      <th>3</th>\n",
       "      <td>Miss Sheryl Cole</td>\n",
       "      <td>74</td>\n",
       "      <td>beautifulcat191</td>\n",
       "      <td>sheryl.cole@example.com</td>\n",
       "      <td>United Kingdom</td>\n",
       "      <td>TH3 7XG</td>\n",
       "      <td>female</td>\n",
       "    </tr>\n",
       "    <tr>\n",
       "      <th>4</th>\n",
       "      <td>Ms Nataša Subašić</td>\n",
       "      <td>55</td>\n",
       "      <td>bigbird256</td>\n",
       "      <td>natasa.subasic@example.com</td>\n",
       "      <td>Serbia</td>\n",
       "      <td>83260</td>\n",
       "      <td>female</td>\n",
       "    </tr>\n",
       "    <tr>\n",
       "      <th>...</th>\n",
       "      <td>...</td>\n",
       "      <td>...</td>\n",
       "      <td>...</td>\n",
       "      <td>...</td>\n",
       "      <td>...</td>\n",
       "      <td>...</td>\n",
       "      <td>...</td>\n",
       "    </tr>\n",
       "    <tr>\n",
       "      <th>1992</th>\n",
       "      <td>Ms Floriana Ramos</td>\n",
       "      <td>24</td>\n",
       "      <td>happymeercat253</td>\n",
       "      <td>floriana.ramos@example.com</td>\n",
       "      <td>Brazil</td>\n",
       "      <td>26630</td>\n",
       "      <td>female</td>\n",
       "    </tr>\n",
       "    <tr>\n",
       "      <th>1994</th>\n",
       "      <td>Ms Bella Lee</td>\n",
       "      <td>22</td>\n",
       "      <td>ticklishwolf569</td>\n",
       "      <td>bella.lee@example.com</td>\n",
       "      <td>New Zealand</td>\n",
       "      <td>15527</td>\n",
       "      <td>female</td>\n",
       "    </tr>\n",
       "    <tr>\n",
       "      <th>1995</th>\n",
       "      <td>Ms Viktoria Lauritsen</td>\n",
       "      <td>38</td>\n",
       "      <td>heavyzebra441</td>\n",
       "      <td>viktoria.lauritsen@example.com</td>\n",
       "      <td>Norway</td>\n",
       "      <td>1545</td>\n",
       "      <td>female</td>\n",
       "    </tr>\n",
       "    <tr>\n",
       "      <th>1997</th>\n",
       "      <td>Ms Maria Peković</td>\n",
       "      <td>45</td>\n",
       "      <td>redzebra951</td>\n",
       "      <td>maria.pekovic@example.com</td>\n",
       "      <td>Serbia</td>\n",
       "      <td>30159</td>\n",
       "      <td>female</td>\n",
       "    </tr>\n",
       "    <tr>\n",
       "      <th>1998</th>\n",
       "      <td>Mrs Nicole Jensen</td>\n",
       "      <td>78</td>\n",
       "      <td>beautifuldog292</td>\n",
       "      <td>nicole.jensen@example.com</td>\n",
       "      <td>United Kingdom</td>\n",
       "      <td>L9J 1QE</td>\n",
       "      <td>female</td>\n",
       "    </tr>\n",
       "  </tbody>\n",
       "</table>\n",
       "<p>1013 rows × 7 columns</p>\n",
       "</div>"
      ],
      "text/plain": [
       "                       name  age         username  \\\n",
       "0          Ms Fátima Martin   42   goldenmouse797   \n",
       "1         Mrs Molly Garrett   30    smallpanda982   \n",
       "2         Ms Veena Kulkarni   53    smalltiger174   \n",
       "3          Miss Sheryl Cole   74  beautifulcat191   \n",
       "4         Ms Nataša Subašić   55       bigbird256   \n",
       "...                     ...  ...              ...   \n",
       "1992      Ms Floriana Ramos   24  happymeercat253   \n",
       "1994           Ms Bella Lee   22  ticklishwolf569   \n",
       "1995  Ms Viktoria Lauritsen   38    heavyzebra441   \n",
       "1997       Ms Maria Peković   45      redzebra951   \n",
       "1998      Mrs Nicole Jensen   78  beautifuldog292   \n",
       "\n",
       "                               email         country postcode  gender  \n",
       "0          fatima.martin@example.com           Spain    43746  female  \n",
       "1          molly.garrett@example.com         Ireland    57660  female  \n",
       "2         veena.kulkarni@example.com           India    29797  female  \n",
       "3            sheryl.cole@example.com  United Kingdom  TH3 7XG  female  \n",
       "4         natasa.subasic@example.com          Serbia    83260  female  \n",
       "...                              ...             ...      ...     ...  \n",
       "1992      floriana.ramos@example.com          Brazil    26630  female  \n",
       "1994           bella.lee@example.com     New Zealand    15527  female  \n",
       "1995  viktoria.lauritsen@example.com          Norway     1545  female  \n",
       "1997       maria.pekovic@example.com          Serbia    30159  female  \n",
       "1998       nicole.jensen@example.com  United Kingdom  L9J 1QE  female  \n",
       "\n",
       "[1013 rows x 7 columns]"
      ]
     },
     "execution_count": 84,
     "metadata": {},
     "output_type": "execute_result"
    }
   ],
   "source": [
    "users[users['gender'] == 'female'] #dataFrame"
   ]
  },
  {
   "cell_type": "code",
   "execution_count": 85,
   "metadata": {},
   "outputs": [
    {
     "data": {
      "text/plain": [
       "0            Ms Fátima Martin\n",
       "1           Mrs Molly Garrett\n",
       "2           Ms Veena Kulkarni\n",
       "3            Miss Sheryl Cole\n",
       "4           Ms Nataša Subašić\n",
       "                ...          \n",
       "1992        Ms Floriana Ramos\n",
       "1994             Ms Bella Lee\n",
       "1995    Ms Viktoria Lauritsen\n",
       "1997         Ms Maria Peković\n",
       "1998        Mrs Nicole Jensen\n",
       "Name: name, Length: 1013, dtype: object"
      ]
     },
     "execution_count": 85,
     "metadata": {},
     "output_type": "execute_result"
    }
   ],
   "source": [
    "# si se quiere obtener un columna específica\n",
    "users[users['gender'] == 'female']['name']"
   ]
  },
  {
   "cell_type": "code",
   "execution_count": 86,
   "metadata": {},
   "outputs": [
    {
     "data": {
      "text/html": [
       "<div>\n",
       "<style scoped>\n",
       "    .dataframe tbody tr th:only-of-type {\n",
       "        vertical-align: middle;\n",
       "    }\n",
       "\n",
       "    .dataframe tbody tr th {\n",
       "        vertical-align: top;\n",
       "    }\n",
       "\n",
       "    .dataframe thead th {\n",
       "        text-align: right;\n",
       "    }\n",
       "</style>\n",
       "<table border=\"1\" class=\"dataframe\">\n",
       "  <thead>\n",
       "    <tr style=\"text-align: right;\">\n",
       "      <th></th>\n",
       "      <th>name</th>\n",
       "      <th>gender</th>\n",
       "    </tr>\n",
       "  </thead>\n",
       "  <tbody>\n",
       "    <tr>\n",
       "      <th>0</th>\n",
       "      <td>Ms Fátima Martin</td>\n",
       "      <td>female</td>\n",
       "    </tr>\n",
       "    <tr>\n",
       "      <th>1</th>\n",
       "      <td>Mrs Molly Garrett</td>\n",
       "      <td>female</td>\n",
       "    </tr>\n",
       "    <tr>\n",
       "      <th>2</th>\n",
       "      <td>Ms Veena Kulkarni</td>\n",
       "      <td>female</td>\n",
       "    </tr>\n",
       "    <tr>\n",
       "      <th>3</th>\n",
       "      <td>Miss Sheryl Cole</td>\n",
       "      <td>female</td>\n",
       "    </tr>\n",
       "    <tr>\n",
       "      <th>4</th>\n",
       "      <td>Ms Nataša Subašić</td>\n",
       "      <td>female</td>\n",
       "    </tr>\n",
       "    <tr>\n",
       "      <th>...</th>\n",
       "      <td>...</td>\n",
       "      <td>...</td>\n",
       "    </tr>\n",
       "    <tr>\n",
       "      <th>1992</th>\n",
       "      <td>Ms Floriana Ramos</td>\n",
       "      <td>female</td>\n",
       "    </tr>\n",
       "    <tr>\n",
       "      <th>1994</th>\n",
       "      <td>Ms Bella Lee</td>\n",
       "      <td>female</td>\n",
       "    </tr>\n",
       "    <tr>\n",
       "      <th>1995</th>\n",
       "      <td>Ms Viktoria Lauritsen</td>\n",
       "      <td>female</td>\n",
       "    </tr>\n",
       "    <tr>\n",
       "      <th>1997</th>\n",
       "      <td>Ms Maria Peković</td>\n",
       "      <td>female</td>\n",
       "    </tr>\n",
       "    <tr>\n",
       "      <th>1998</th>\n",
       "      <td>Mrs Nicole Jensen</td>\n",
       "      <td>female</td>\n",
       "    </tr>\n",
       "  </tbody>\n",
       "</table>\n",
       "<p>1013 rows × 2 columns</p>\n",
       "</div>"
      ],
      "text/plain": [
       "                       name  gender\n",
       "0          Ms Fátima Martin  female\n",
       "1         Mrs Molly Garrett  female\n",
       "2         Ms Veena Kulkarni  female\n",
       "3          Miss Sheryl Cole  female\n",
       "4         Ms Nataša Subašić  female\n",
       "...                     ...     ...\n",
       "1992      Ms Floriana Ramos  female\n",
       "1994           Ms Bella Lee  female\n",
       "1995  Ms Viktoria Lauritsen  female\n",
       "1997       Ms Maria Peković  female\n",
       "1998      Mrs Nicole Jensen  female\n",
       "\n",
       "[1013 rows x 2 columns]"
      ]
     },
     "execution_count": 86,
     "metadata": {},
     "output_type": "execute_result"
    }
   ],
   "source": [
    "# si se quiere obtener dos o más columnas\n",
    "users[users['gender'] == 'female'][['name','gender']]"
   ]
  },
  {
   "cell_type": "markdown",
   "metadata": {},
   "source": [
    "3. Obtener nombre de todos los usuarios cuyo sexo es masculino y tengan una edad mayor a 50"
   ]
  },
  {
   "cell_type": "code",
   "execution_count": 87,
   "metadata": {},
   "outputs": [
    {
     "data": {
      "text/plain": [
       "6                   Mr Oscar Olsen\n",
       "10      Monsieur Francesco Leclerc\n",
       "12                 Mr Sean Shelton\n",
       "17                Mr Lennox Økland\n",
       "19                   Mr Jose Wells\n",
       "                   ...            \n",
       "1980               Mr Sierd Donker\n",
       "1983          Mr Alfred Williamson\n",
       "1987                Mr Blake Slawa\n",
       "1991                 Mr Jake Moore\n",
       "1993            Mr Zachary Stevens\n",
       "Name: name, Length: 461, dtype: object"
      ]
     },
     "execution_count": 87,
     "metadata": {},
     "output_type": "execute_result"
    }
   ],
   "source": [
    "users[(users['gender'] == 'male') & (users['age'] > 50)]['name']"
   ]
  },
  {
   "cell_type": "code",
   "execution_count": 88,
   "metadata": {},
   "outputs": [
    {
     "data": {
      "text/plain": [
       "6                   Mr Oscar Olsen\n",
       "10      Monsieur Francesco Leclerc\n",
       "12                 Mr Sean Shelton\n",
       "17                Mr Lennox Økland\n",
       "19                   Mr Jose Wells\n",
       "                   ...            \n",
       "1980               Mr Sierd Donker\n",
       "1983          Mr Alfred Williamson\n",
       "1987                Mr Blake Slawa\n",
       "1991                 Mr Jake Moore\n",
       "1993            Mr Zachary Stevens\n",
       "Name: name, Length: 461, dtype: object"
      ]
     },
     "execution_count": 88,
     "metadata": {},
     "output_type": "execute_result"
    }
   ],
   "source": [
    "users.name[(users.gender == 'male') & (users.age > 50)]"
   ]
  },
  {
   "cell_type": "markdown",
   "metadata": {},
   "source": [
    "data[filter(s)][column] / [[columns]]"
   ]
  },
  {
   "cell_type": "markdown",
   "metadata": {},
   "source": [
    "4. Obtener todos los usuarios cuya edad sea mayor a 20"
   ]
  },
  {
   "cell_type": "code",
   "execution_count": 89,
   "metadata": {},
   "outputs": [
    {
     "data": {
      "text/html": [
       "<div>\n",
       "<style scoped>\n",
       "    .dataframe tbody tr th:only-of-type {\n",
       "        vertical-align: middle;\n",
       "    }\n",
       "\n",
       "    .dataframe tbody tr th {\n",
       "        vertical-align: top;\n",
       "    }\n",
       "\n",
       "    .dataframe thead th {\n",
       "        text-align: right;\n",
       "    }\n",
       "</style>\n",
       "<table border=\"1\" class=\"dataframe\">\n",
       "  <thead>\n",
       "    <tr style=\"text-align: right;\">\n",
       "      <th></th>\n",
       "      <th>name</th>\n",
       "      <th>age</th>\n",
       "      <th>username</th>\n",
       "      <th>email</th>\n",
       "      <th>country</th>\n",
       "      <th>postcode</th>\n",
       "      <th>gender</th>\n",
       "    </tr>\n",
       "  </thead>\n",
       "  <tbody>\n",
       "    <tr>\n",
       "      <th>0</th>\n",
       "      <td>Ms Fátima Martin</td>\n",
       "      <td>42</td>\n",
       "      <td>goldenmouse797</td>\n",
       "      <td>fatima.martin@example.com</td>\n",
       "      <td>Spain</td>\n",
       "      <td>43746</td>\n",
       "      <td>female</td>\n",
       "    </tr>\n",
       "    <tr>\n",
       "      <th>1</th>\n",
       "      <td>Mrs Molly Garrett</td>\n",
       "      <td>30</td>\n",
       "      <td>smallpanda982</td>\n",
       "      <td>molly.garrett@example.com</td>\n",
       "      <td>Ireland</td>\n",
       "      <td>57660</td>\n",
       "      <td>female</td>\n",
       "    </tr>\n",
       "    <tr>\n",
       "      <th>2</th>\n",
       "      <td>Ms Veena Kulkarni</td>\n",
       "      <td>53</td>\n",
       "      <td>smalltiger174</td>\n",
       "      <td>veena.kulkarni@example.com</td>\n",
       "      <td>India</td>\n",
       "      <td>29797</td>\n",
       "      <td>female</td>\n",
       "    </tr>\n",
       "    <tr>\n",
       "      <th>3</th>\n",
       "      <td>Miss Sheryl Cole</td>\n",
       "      <td>74</td>\n",
       "      <td>beautifulcat191</td>\n",
       "      <td>sheryl.cole@example.com</td>\n",
       "      <td>United Kingdom</td>\n",
       "      <td>TH3 7XG</td>\n",
       "      <td>female</td>\n",
       "    </tr>\n",
       "    <tr>\n",
       "      <th>4</th>\n",
       "      <td>Ms Nataša Subašić</td>\n",
       "      <td>55</td>\n",
       "      <td>bigbird256</td>\n",
       "      <td>natasa.subasic@example.com</td>\n",
       "      <td>Serbia</td>\n",
       "      <td>83260</td>\n",
       "      <td>female</td>\n",
       "    </tr>\n",
       "    <tr>\n",
       "      <th>...</th>\n",
       "      <td>...</td>\n",
       "      <td>...</td>\n",
       "      <td>...</td>\n",
       "      <td>...</td>\n",
       "      <td>...</td>\n",
       "      <td>...</td>\n",
       "      <td>...</td>\n",
       "    </tr>\n",
       "    <tr>\n",
       "      <th>1995</th>\n",
       "      <td>Ms Viktoria Lauritsen</td>\n",
       "      <td>38</td>\n",
       "      <td>heavyzebra441</td>\n",
       "      <td>viktoria.lauritsen@example.com</td>\n",
       "      <td>Norway</td>\n",
       "      <td>1545</td>\n",
       "      <td>female</td>\n",
       "    </tr>\n",
       "    <tr>\n",
       "      <th>1996</th>\n",
       "      <td>Mr Christian Sørhaug</td>\n",
       "      <td>28</td>\n",
       "      <td>goldensnake897</td>\n",
       "      <td>christian.sorhaug@example.com</td>\n",
       "      <td>Norway</td>\n",
       "      <td>3614</td>\n",
       "      <td>male</td>\n",
       "    </tr>\n",
       "    <tr>\n",
       "      <th>1997</th>\n",
       "      <td>Ms Maria Peković</td>\n",
       "      <td>45</td>\n",
       "      <td>redzebra951</td>\n",
       "      <td>maria.pekovic@example.com</td>\n",
       "      <td>Serbia</td>\n",
       "      <td>30159</td>\n",
       "      <td>female</td>\n",
       "    </tr>\n",
       "    <tr>\n",
       "      <th>1998</th>\n",
       "      <td>Mrs Nicole Jensen</td>\n",
       "      <td>78</td>\n",
       "      <td>beautifuldog292</td>\n",
       "      <td>nicole.jensen@example.com</td>\n",
       "      <td>United Kingdom</td>\n",
       "      <td>L9J 1QE</td>\n",
       "      <td>female</td>\n",
       "    </tr>\n",
       "    <tr>\n",
       "      <th>1999</th>\n",
       "      <td>Mr Percy Blankenstein</td>\n",
       "      <td>36</td>\n",
       "      <td>ticklishostrich632</td>\n",
       "      <td>percy.blankenstein@example.com</td>\n",
       "      <td>Netherlands</td>\n",
       "      <td>3143 RR</td>\n",
       "      <td>male</td>\n",
       "    </tr>\n",
       "  </tbody>\n",
       "</table>\n",
       "<p>2000 rows × 7 columns</p>\n",
       "</div>"
      ],
      "text/plain": [
       "                       name  age            username  \\\n",
       "0          Ms Fátima Martin   42      goldenmouse797   \n",
       "1         Mrs Molly Garrett   30       smallpanda982   \n",
       "2         Ms Veena Kulkarni   53       smalltiger174   \n",
       "3          Miss Sheryl Cole   74     beautifulcat191   \n",
       "4         Ms Nataša Subašić   55          bigbird256   \n",
       "...                     ...  ...                 ...   \n",
       "1995  Ms Viktoria Lauritsen   38       heavyzebra441   \n",
       "1996   Mr Christian Sørhaug   28      goldensnake897   \n",
       "1997       Ms Maria Peković   45         redzebra951   \n",
       "1998      Mrs Nicole Jensen   78     beautifuldog292   \n",
       "1999  Mr Percy Blankenstein   36  ticklishostrich632   \n",
       "\n",
       "                               email         country postcode  gender  \n",
       "0          fatima.martin@example.com           Spain    43746  female  \n",
       "1          molly.garrett@example.com         Ireland    57660  female  \n",
       "2         veena.kulkarni@example.com           India    29797  female  \n",
       "3            sheryl.cole@example.com  United Kingdom  TH3 7XG  female  \n",
       "4         natasa.subasic@example.com          Serbia    83260  female  \n",
       "...                              ...             ...      ...     ...  \n",
       "1995  viktoria.lauritsen@example.com          Norway     1545  female  \n",
       "1996   christian.sorhaug@example.com          Norway     3614    male  \n",
       "1997       maria.pekovic@example.com          Serbia    30159  female  \n",
       "1998       nicole.jensen@example.com  United Kingdom  L9J 1QE  female  \n",
       "1999  percy.blankenstein@example.com     Netherlands  3143 RR    male  \n",
       "\n",
       "[2000 rows x 7 columns]"
      ]
     },
     "execution_count": 89,
     "metadata": {},
     "output_type": "execute_result"
    }
   ],
   "source": [
    "users[users['age'] > 20]"
   ]
  },
  {
   "cell_type": "code",
   "execution_count": 90,
   "metadata": {},
   "outputs": [
    {
     "data": {
      "text/html": [
       "<div>\n",
       "<style scoped>\n",
       "    .dataframe tbody tr th:only-of-type {\n",
       "        vertical-align: middle;\n",
       "    }\n",
       "\n",
       "    .dataframe tbody tr th {\n",
       "        vertical-align: top;\n",
       "    }\n",
       "\n",
       "    .dataframe thead th {\n",
       "        text-align: right;\n",
       "    }\n",
       "</style>\n",
       "<table border=\"1\" class=\"dataframe\">\n",
       "  <thead>\n",
       "    <tr style=\"text-align: right;\">\n",
       "      <th></th>\n",
       "      <th>name</th>\n",
       "      <th>age</th>\n",
       "      <th>username</th>\n",
       "      <th>email</th>\n",
       "      <th>country</th>\n",
       "      <th>postcode</th>\n",
       "      <th>gender</th>\n",
       "    </tr>\n",
       "  </thead>\n",
       "  <tbody>\n",
       "    <tr>\n",
       "      <th>3</th>\n",
       "      <td>Miss Sheryl Cole</td>\n",
       "      <td>74</td>\n",
       "      <td>beautifulcat191</td>\n",
       "      <td>sheryl.cole@example.com</td>\n",
       "      <td>United Kingdom</td>\n",
       "      <td>TH3 7XG</td>\n",
       "      <td>female</td>\n",
       "    </tr>\n",
       "    <tr>\n",
       "      <th>10</th>\n",
       "      <td>Monsieur Francesco Leclerc</td>\n",
       "      <td>72</td>\n",
       "      <td>smallfrog613</td>\n",
       "      <td>francesco.leclerc@example.com</td>\n",
       "      <td>Switzerland</td>\n",
       "      <td>7478</td>\n",
       "      <td>male</td>\n",
       "    </tr>\n",
       "    <tr>\n",
       "      <th>13</th>\n",
       "      <td>Miss Violeta Santos</td>\n",
       "      <td>76</td>\n",
       "      <td>blackelephant682</td>\n",
       "      <td>violeta.santos@example.com</td>\n",
       "      <td>Brazil</td>\n",
       "      <td>80046</td>\n",
       "      <td>female</td>\n",
       "    </tr>\n",
       "    <tr>\n",
       "      <th>16</th>\n",
       "      <td>Mrs Navya Kini</td>\n",
       "      <td>77</td>\n",
       "      <td>ticklishsnake791</td>\n",
       "      <td>navya.kini@example.com</td>\n",
       "      <td>India</td>\n",
       "      <td>95665</td>\n",
       "      <td>female</td>\n",
       "    </tr>\n",
       "    <tr>\n",
       "      <th>17</th>\n",
       "      <td>Mr Lennox Økland</td>\n",
       "      <td>75</td>\n",
       "      <td>beautifulzebra118</td>\n",
       "      <td>lennox.okland@example.com</td>\n",
       "      <td>Norway</td>\n",
       "      <td>5854</td>\n",
       "      <td>male</td>\n",
       "    </tr>\n",
       "    <tr>\n",
       "      <th>...</th>\n",
       "      <td>...</td>\n",
       "      <td>...</td>\n",
       "      <td>...</td>\n",
       "      <td>...</td>\n",
       "      <td>...</td>\n",
       "      <td>...</td>\n",
       "      <td>...</td>\n",
       "    </tr>\n",
       "    <tr>\n",
       "      <th>1970</th>\n",
       "      <td>Monsieur Kevin Renaud</td>\n",
       "      <td>77</td>\n",
       "      <td>beautifulmouse669</td>\n",
       "      <td>kevin.renaud@example.com</td>\n",
       "      <td>Switzerland</td>\n",
       "      <td>9644</td>\n",
       "      <td>male</td>\n",
       "    </tr>\n",
       "    <tr>\n",
       "      <th>1981</th>\n",
       "      <td>Miss Maddison Ortiz</td>\n",
       "      <td>71</td>\n",
       "      <td>yellowsnake332</td>\n",
       "      <td>maddison.ortiz@example.com</td>\n",
       "      <td>United Kingdom</td>\n",
       "      <td>MD6T 6PG</td>\n",
       "      <td>female</td>\n",
       "    </tr>\n",
       "    <tr>\n",
       "      <th>1983</th>\n",
       "      <td>Mr Alfred Williamson</td>\n",
       "      <td>71</td>\n",
       "      <td>smallgoose340</td>\n",
       "      <td>alfred.williamson@example.com</td>\n",
       "      <td>Australia</td>\n",
       "      <td>821</td>\n",
       "      <td>male</td>\n",
       "    </tr>\n",
       "    <tr>\n",
       "      <th>1993</th>\n",
       "      <td>Mr Zachary Stevens</td>\n",
       "      <td>70</td>\n",
       "      <td>organicfish890</td>\n",
       "      <td>zachary.stevens@example.com</td>\n",
       "      <td>Australia</td>\n",
       "      <td>5384</td>\n",
       "      <td>male</td>\n",
       "    </tr>\n",
       "    <tr>\n",
       "      <th>1998</th>\n",
       "      <td>Mrs Nicole Jensen</td>\n",
       "      <td>78</td>\n",
       "      <td>beautifuldog292</td>\n",
       "      <td>nicole.jensen@example.com</td>\n",
       "      <td>United Kingdom</td>\n",
       "      <td>L9J 1QE</td>\n",
       "      <td>female</td>\n",
       "    </tr>\n",
       "  </tbody>\n",
       "</table>\n",
       "<p>298 rows × 7 columns</p>\n",
       "</div>"
      ],
      "text/plain": [
       "                            name  age           username  \\\n",
       "3               Miss Sheryl Cole   74    beautifulcat191   \n",
       "10    Monsieur Francesco Leclerc   72       smallfrog613   \n",
       "13           Miss Violeta Santos   76   blackelephant682   \n",
       "16                Mrs Navya Kini   77   ticklishsnake791   \n",
       "17              Mr Lennox Økland   75  beautifulzebra118   \n",
       "...                          ...  ...                ...   \n",
       "1970       Monsieur Kevin Renaud   77  beautifulmouse669   \n",
       "1981         Miss Maddison Ortiz   71     yellowsnake332   \n",
       "1983        Mr Alfred Williamson   71      smallgoose340   \n",
       "1993          Mr Zachary Stevens   70     organicfish890   \n",
       "1998           Mrs Nicole Jensen   78    beautifuldog292   \n",
       "\n",
       "                              email         country  postcode  gender  \n",
       "3           sheryl.cole@example.com  United Kingdom   TH3 7XG  female  \n",
       "10    francesco.leclerc@example.com     Switzerland      7478    male  \n",
       "13       violeta.santos@example.com          Brazil     80046  female  \n",
       "16           navya.kini@example.com           India     95665  female  \n",
       "17        lennox.okland@example.com          Norway      5854    male  \n",
       "...                             ...             ...       ...     ...  \n",
       "1970       kevin.renaud@example.com     Switzerland      9644    male  \n",
       "1981     maddison.ortiz@example.com  United Kingdom  MD6T 6PG  female  \n",
       "1983  alfred.williamson@example.com       Australia       821    male  \n",
       "1993    zachary.stevens@example.com       Australia      5384    male  \n",
       "1998      nicole.jensen@example.com  United Kingdom   L9J 1QE  female  \n",
       "\n",
       "[298 rows x 7 columns]"
      ]
     },
     "execution_count": 90,
     "metadata": {},
     "output_type": "execute_result"
    }
   ],
   "source": [
    "users[users['age'] > 68]"
   ]
  },
  {
   "cell_type": "markdown",
   "metadata": {},
   "source": [
    "5. Obtener el nombre, país y edad del usuario más joven"
   ]
  },
  {
   "cell_type": "code",
   "execution_count": 91,
   "metadata": {},
   "outputs": [
    {
     "data": {
      "text/html": [
       "<div>\n",
       "<style scoped>\n",
       "    .dataframe tbody tr th:only-of-type {\n",
       "        vertical-align: middle;\n",
       "    }\n",
       "\n",
       "    .dataframe tbody tr th {\n",
       "        vertical-align: top;\n",
       "    }\n",
       "\n",
       "    .dataframe thead th {\n",
       "        text-align: right;\n",
       "    }\n",
       "</style>\n",
       "<table border=\"1\" class=\"dataframe\">\n",
       "  <thead>\n",
       "    <tr style=\"text-align: right;\">\n",
       "      <th></th>\n",
       "      <th>name</th>\n",
       "      <th>age</th>\n",
       "      <th>username</th>\n",
       "      <th>email</th>\n",
       "      <th>country</th>\n",
       "      <th>postcode</th>\n",
       "      <th>gender</th>\n",
       "    </tr>\n",
       "  </thead>\n",
       "  <tbody>\n",
       "    <tr>\n",
       "      <th>1842</th>\n",
       "      <td>Mrs Yolanda Gordon</td>\n",
       "      <td>21</td>\n",
       "      <td>heavygoose878</td>\n",
       "      <td>yolanda.gordon@example.com</td>\n",
       "      <td>United States</td>\n",
       "      <td>66237</td>\n",
       "      <td>female</td>\n",
       "    </tr>\n",
       "    <tr>\n",
       "      <th>1160</th>\n",
       "      <td>Mr Veeti Laurila</td>\n",
       "      <td>21</td>\n",
       "      <td>blueostrich774</td>\n",
       "      <td>veeti.laurila@example.com</td>\n",
       "      <td>Finland</td>\n",
       "      <td>50513</td>\n",
       "      <td>male</td>\n",
       "    </tr>\n",
       "    <tr>\n",
       "      <th>740</th>\n",
       "      <td>Mr Brett Gibson</td>\n",
       "      <td>21</td>\n",
       "      <td>happygoose344</td>\n",
       "      <td>brett.gibson@example.com</td>\n",
       "      <td>United Kingdom</td>\n",
       "      <td>GD9W 1UE</td>\n",
       "      <td>male</td>\n",
       "    </tr>\n",
       "    <tr>\n",
       "      <th>306</th>\n",
       "      <td>Ms Julija Ilić</td>\n",
       "      <td>21</td>\n",
       "      <td>beautifultiger676</td>\n",
       "      <td>julija.ilic@example.com</td>\n",
       "      <td>Serbia</td>\n",
       "      <td>22697</td>\n",
       "      <td>female</td>\n",
       "    </tr>\n",
       "    <tr>\n",
       "      <th>1306</th>\n",
       "      <td>Mr Nelson Carr</td>\n",
       "      <td>21</td>\n",
       "      <td>purplerabbit563</td>\n",
       "      <td>nelson.carr@example.com</td>\n",
       "      <td>Australia</td>\n",
       "      <td>2271</td>\n",
       "      <td>male</td>\n",
       "    </tr>\n",
       "    <tr>\n",
       "      <th>...</th>\n",
       "      <td>...</td>\n",
       "      <td>...</td>\n",
       "      <td>...</td>\n",
       "      <td>...</td>\n",
       "      <td>...</td>\n",
       "      <td>...</td>\n",
       "      <td>...</td>\n",
       "    </tr>\n",
       "    <tr>\n",
       "      <th>927</th>\n",
       "      <td>Mr Jonathan Christiansen</td>\n",
       "      <td>78</td>\n",
       "      <td>organiclion815</td>\n",
       "      <td>jonathan.christiansen@example.com</td>\n",
       "      <td>Denmark</td>\n",
       "      <td>75964</td>\n",
       "      <td>male</td>\n",
       "    </tr>\n",
       "    <tr>\n",
       "      <th>1998</th>\n",
       "      <td>Mrs Nicole Jensen</td>\n",
       "      <td>78</td>\n",
       "      <td>beautifuldog292</td>\n",
       "      <td>nicole.jensen@example.com</td>\n",
       "      <td>United Kingdom</td>\n",
       "      <td>L9J 1QE</td>\n",
       "      <td>female</td>\n",
       "    </tr>\n",
       "    <tr>\n",
       "      <th>1814</th>\n",
       "      <td>Mr Stanley Garcia</td>\n",
       "      <td>78</td>\n",
       "      <td>happymouse103</td>\n",
       "      <td>stanley.garcia@example.com</td>\n",
       "      <td>United Kingdom</td>\n",
       "      <td>QZ05 8EB</td>\n",
       "      <td>male</td>\n",
       "    </tr>\n",
       "    <tr>\n",
       "      <th>79</th>\n",
       "      <td>Miss Sara Weyand</td>\n",
       "      <td>78</td>\n",
       "      <td>yellowmeercat474</td>\n",
       "      <td>sara.weyand@example.com</td>\n",
       "      <td>Germany</td>\n",
       "      <td>32314</td>\n",
       "      <td>female</td>\n",
       "    </tr>\n",
       "    <tr>\n",
       "      <th>555</th>\n",
       "      <td>Ms Beate Eifler</td>\n",
       "      <td>78</td>\n",
       "      <td>purplebear112</td>\n",
       "      <td>beate.eifler@example.com</td>\n",
       "      <td>Germany</td>\n",
       "      <td>43490</td>\n",
       "      <td>female</td>\n",
       "    </tr>\n",
       "  </tbody>\n",
       "</table>\n",
       "<p>2000 rows × 7 columns</p>\n",
       "</div>"
      ],
      "text/plain": [
       "                          name  age           username  \\\n",
       "1842        Mrs Yolanda Gordon   21      heavygoose878   \n",
       "1160          Mr Veeti Laurila   21     blueostrich774   \n",
       "740            Mr Brett Gibson   21      happygoose344   \n",
       "306             Ms Julija Ilić   21  beautifultiger676   \n",
       "1306            Mr Nelson Carr   21    purplerabbit563   \n",
       "...                        ...  ...                ...   \n",
       "927   Mr Jonathan Christiansen   78     organiclion815   \n",
       "1998         Mrs Nicole Jensen   78    beautifuldog292   \n",
       "1814         Mr Stanley Garcia   78      happymouse103   \n",
       "79            Miss Sara Weyand   78   yellowmeercat474   \n",
       "555            Ms Beate Eifler   78      purplebear112   \n",
       "\n",
       "                                  email         country  postcode  gender  \n",
       "1842         yolanda.gordon@example.com   United States     66237  female  \n",
       "1160          veeti.laurila@example.com         Finland     50513    male  \n",
       "740            brett.gibson@example.com  United Kingdom  GD9W 1UE    male  \n",
       "306             julija.ilic@example.com          Serbia     22697  female  \n",
       "1306            nelson.carr@example.com       Australia      2271    male  \n",
       "...                                 ...             ...       ...     ...  \n",
       "927   jonathan.christiansen@example.com         Denmark     75964    male  \n",
       "1998          nicole.jensen@example.com  United Kingdom   L9J 1QE  female  \n",
       "1814         stanley.garcia@example.com  United Kingdom  QZ05 8EB    male  \n",
       "79              sara.weyand@example.com         Germany     32314  female  \n",
       "555            beate.eifler@example.com         Germany     43490  female  \n",
       "\n",
       "[2000 rows x 7 columns]"
      ]
     },
     "execution_count": 91,
     "metadata": {},
     "output_type": "execute_result"
    }
   ],
   "source": [
    "users.sort_values('age')"
   ]
  },
  {
   "cell_type": "code",
   "execution_count": 92,
   "metadata": {},
   "outputs": [
    {
     "data": {
      "text/html": [
       "<div>\n",
       "<style scoped>\n",
       "    .dataframe tbody tr th:only-of-type {\n",
       "        vertical-align: middle;\n",
       "    }\n",
       "\n",
       "    .dataframe tbody tr th {\n",
       "        vertical-align: top;\n",
       "    }\n",
       "\n",
       "    .dataframe thead th {\n",
       "        text-align: right;\n",
       "    }\n",
       "</style>\n",
       "<table border=\"1\" class=\"dataframe\">\n",
       "  <thead>\n",
       "    <tr style=\"text-align: right;\">\n",
       "      <th></th>\n",
       "      <th>name</th>\n",
       "      <th>age</th>\n",
       "      <th>username</th>\n",
       "      <th>email</th>\n",
       "      <th>country</th>\n",
       "      <th>postcode</th>\n",
       "      <th>gender</th>\n",
       "    </tr>\n",
       "  </thead>\n",
       "  <tbody>\n",
       "    <tr>\n",
       "      <th>1842</th>\n",
       "      <td>Mrs Yolanda Gordon</td>\n",
       "      <td>21</td>\n",
       "      <td>heavygoose878</td>\n",
       "      <td>yolanda.gordon@example.com</td>\n",
       "      <td>United States</td>\n",
       "      <td>66237</td>\n",
       "      <td>female</td>\n",
       "    </tr>\n",
       "  </tbody>\n",
       "</table>\n",
       "</div>"
      ],
      "text/plain": [
       "                    name  age       username                       email  \\\n",
       "1842  Mrs Yolanda Gordon   21  heavygoose878  yolanda.gordon@example.com   \n",
       "\n",
       "            country postcode  gender  \n",
       "1842  United States    66237  female  "
      ]
     },
     "execution_count": 92,
     "metadata": {},
     "output_type": "execute_result"
    }
   ],
   "source": [
    "users.sort_values('age').head(1)"
   ]
  },
  {
   "cell_type": "code",
   "execution_count": 105,
   "metadata": {},
   "outputs": [
    {
     "data": {
      "text/html": [
       "<div>\n",
       "<style scoped>\n",
       "    .dataframe tbody tr th:only-of-type {\n",
       "        vertical-align: middle;\n",
       "    }\n",
       "\n",
       "    .dataframe tbody tr th {\n",
       "        vertical-align: top;\n",
       "    }\n",
       "\n",
       "    .dataframe thead th {\n",
       "        text-align: right;\n",
       "    }\n",
       "</style>\n",
       "<table border=\"1\" class=\"dataframe\">\n",
       "  <thead>\n",
       "    <tr style=\"text-align: right;\">\n",
       "      <th></th>\n",
       "      <th>name</th>\n",
       "      <th>age</th>\n",
       "      <th>username</th>\n",
       "      <th>email</th>\n",
       "      <th>country</th>\n",
       "      <th>postcode</th>\n",
       "      <th>gender</th>\n",
       "    </tr>\n",
       "  </thead>\n",
       "  <tbody>\n",
       "    <tr>\n",
       "      <th>555</th>\n",
       "      <td>Ms Beate Eifler</td>\n",
       "      <td>78</td>\n",
       "      <td>purplebear112</td>\n",
       "      <td>beate.eifler@example.com</td>\n",
       "      <td>Germany</td>\n",
       "      <td>43490</td>\n",
       "      <td>female</td>\n",
       "    </tr>\n",
       "  </tbody>\n",
       "</table>\n",
       "</div>"
      ],
      "text/plain": [
       "                name  age       username                     email  country  \\\n",
       "555  Ms Beate Eifler   78  purplebear112  beate.eifler@example.com  Germany   \n",
       "\n",
       "    postcode  gender  \n",
       "555    43490  female  "
      ]
     },
     "execution_count": 105,
     "metadata": {},
     "output_type": "execute_result"
    }
   ],
   "source": [
    "# El usuario más longevo\n",
    "users.sort_values('age').tail(1)"
   ]
  },
  {
   "cell_type": "code",
   "execution_count": 104,
   "metadata": {
    "scrolled": false
   },
   "outputs": [
    {
     "data": {
      "text/html": [
       "<div>\n",
       "<style scoped>\n",
       "    .dataframe tbody tr th:only-of-type {\n",
       "        vertical-align: middle;\n",
       "    }\n",
       "\n",
       "    .dataframe tbody tr th {\n",
       "        vertical-align: top;\n",
       "    }\n",
       "\n",
       "    .dataframe thead th {\n",
       "        text-align: right;\n",
       "    }\n",
       "</style>\n",
       "<table border=\"1\" class=\"dataframe\">\n",
       "  <thead>\n",
       "    <tr style=\"text-align: right;\">\n",
       "      <th></th>\n",
       "      <th>name</th>\n",
       "      <th>country</th>\n",
       "      <th>age</th>\n",
       "    </tr>\n",
       "  </thead>\n",
       "  <tbody>\n",
       "    <tr>\n",
       "      <th>1076</th>\n",
       "      <td>Ms تارا جعفری</td>\n",
       "      <td>Iran</td>\n",
       "      <td>78</td>\n",
       "    </tr>\n",
       "  </tbody>\n",
       "</table>\n",
       "</div>"
      ],
      "text/plain": [
       "               name country  age\n",
       "1076  Ms تارا جعفری    Iran   78"
      ]
     },
     "execution_count": 104,
     "metadata": {},
     "output_type": "execute_result"
    }
   ],
   "source": [
    "users.sort_values(['age','name'], ascending=False).head(1)[['name', 'country', 'age']]"
   ]
  },
  {
   "cell_type": "code",
   "execution_count": 94,
   "metadata": {},
   "outputs": [
    {
     "data": {
      "text/html": [
       "<div>\n",
       "<style scoped>\n",
       "    .dataframe tbody tr th:only-of-type {\n",
       "        vertical-align: middle;\n",
       "    }\n",
       "\n",
       "    .dataframe tbody tr th {\n",
       "        vertical-align: top;\n",
       "    }\n",
       "\n",
       "    .dataframe thead th {\n",
       "        text-align: right;\n",
       "    }\n",
       "</style>\n",
       "<table border=\"1\" class=\"dataframe\">\n",
       "  <thead>\n",
       "    <tr style=\"text-align: right;\">\n",
       "      <th></th>\n",
       "      <th>name</th>\n",
       "      <th>country</th>\n",
       "      <th>age</th>\n",
       "    </tr>\n",
       "  </thead>\n",
       "  <tbody>\n",
       "    <tr>\n",
       "      <th>1842</th>\n",
       "      <td>Mrs Yolanda Gordon</td>\n",
       "      <td>United States</td>\n",
       "      <td>21</td>\n",
       "    </tr>\n",
       "  </tbody>\n",
       "</table>\n",
       "</div>"
      ],
      "text/plain": [
       "                    name        country  age\n",
       "1842  Mrs Yolanda Gordon  United States   21"
      ]
     },
     "execution_count": 94,
     "metadata": {},
     "output_type": "execute_result"
    }
   ],
   "source": [
    "users.sort_values('age').head(1)[['name', 'country', 'age']]"
   ]
  },
  {
   "cell_type": "code",
   "execution_count": 95,
   "metadata": {},
   "outputs": [
    {
     "data": {
      "text/html": [
       "<div>\n",
       "<style scoped>\n",
       "    .dataframe tbody tr th:only-of-type {\n",
       "        vertical-align: middle;\n",
       "    }\n",
       "\n",
       "    .dataframe tbody tr th {\n",
       "        vertical-align: top;\n",
       "    }\n",
       "\n",
       "    .dataframe thead th {\n",
       "        text-align: right;\n",
       "    }\n",
       "</style>\n",
       "<table border=\"1\" class=\"dataframe\">\n",
       "  <thead>\n",
       "    <tr style=\"text-align: right;\">\n",
       "      <th></th>\n",
       "      <th>name</th>\n",
       "      <th>country</th>\n",
       "      <th>age</th>\n",
       "    </tr>\n",
       "  </thead>\n",
       "  <tbody>\n",
       "    <tr>\n",
       "      <th>707</th>\n",
       "      <td>Miss Imogen Green</td>\n",
       "      <td>New Zealand</td>\n",
       "      <td>21</td>\n",
       "    </tr>\n",
       "  </tbody>\n",
       "</table>\n",
       "</div>"
      ],
      "text/plain": [
       "                  name      country  age\n",
       "707  Miss Imogen Green  New Zealand   21"
      ]
     },
     "execution_count": 95,
     "metadata": {},
     "output_type": "execute_result"
    }
   ],
   "source": [
    "# si se ordena respecto a la edad y por nombre\n",
    "users.sort_values(['age','name']).head(1)[['name', 'country', 'age']]"
   ]
  },
  {
   "cell_type": "markdown",
   "metadata": {},
   "source": [
    "6. Obtener el username y correo electrónico de los usuarios cuya edad se encuentre en el rango 50 a 60"
   ]
  },
  {
   "cell_type": "code",
   "execution_count": 98,
   "metadata": {},
   "outputs": [
    {
     "data": {
      "text/html": [
       "<div>\n",
       "<style scoped>\n",
       "    .dataframe tbody tr th:only-of-type {\n",
       "        vertical-align: middle;\n",
       "    }\n",
       "\n",
       "    .dataframe tbody tr th {\n",
       "        vertical-align: top;\n",
       "    }\n",
       "\n",
       "    .dataframe thead th {\n",
       "        text-align: right;\n",
       "    }\n",
       "</style>\n",
       "<table border=\"1\" class=\"dataframe\">\n",
       "  <thead>\n",
       "    <tr style=\"text-align: right;\">\n",
       "      <th></th>\n",
       "      <th>name</th>\n",
       "      <th>age</th>\n",
       "      <th>username</th>\n",
       "      <th>email</th>\n",
       "      <th>country</th>\n",
       "      <th>postcode</th>\n",
       "      <th>gender</th>\n",
       "    </tr>\n",
       "  </thead>\n",
       "  <tbody>\n",
       "    <tr>\n",
       "      <th>2</th>\n",
       "      <td>Ms Veena Kulkarni</td>\n",
       "      <td>53</td>\n",
       "      <td>smalltiger174</td>\n",
       "      <td>veena.kulkarni@example.com</td>\n",
       "      <td>India</td>\n",
       "      <td>29797</td>\n",
       "      <td>female</td>\n",
       "    </tr>\n",
       "    <tr>\n",
       "      <th>4</th>\n",
       "      <td>Ms Nataša Subašić</td>\n",
       "      <td>55</td>\n",
       "      <td>bigbird256</td>\n",
       "      <td>natasa.subasic@example.com</td>\n",
       "      <td>Serbia</td>\n",
       "      <td>83260</td>\n",
       "      <td>female</td>\n",
       "    </tr>\n",
       "    <tr>\n",
       "      <th>11</th>\n",
       "      <td>Mrs Abigail Morales</td>\n",
       "      <td>56</td>\n",
       "      <td>lazyzebra356</td>\n",
       "      <td>abigail.morales@example.com</td>\n",
       "      <td>United Kingdom</td>\n",
       "      <td>FS6Q 6ZU</td>\n",
       "      <td>female</td>\n",
       "    </tr>\n",
       "    <tr>\n",
       "      <th>19</th>\n",
       "      <td>Mr Jose Wells</td>\n",
       "      <td>58</td>\n",
       "      <td>heavyswan589</td>\n",
       "      <td>jose.wells@example.com</td>\n",
       "      <td>Australia</td>\n",
       "      <td>5039</td>\n",
       "      <td>male</td>\n",
       "    </tr>\n",
       "    <tr>\n",
       "      <th>27</th>\n",
       "      <td>Mr Mylan Lefebvre</td>\n",
       "      <td>56</td>\n",
       "      <td>yellowswan337</td>\n",
       "      <td>mylan.lefebvre@example.com</td>\n",
       "      <td>France</td>\n",
       "      <td>48082</td>\n",
       "      <td>male</td>\n",
       "    </tr>\n",
       "    <tr>\n",
       "      <th>...</th>\n",
       "      <td>...</td>\n",
       "      <td>...</td>\n",
       "      <td>...</td>\n",
       "      <td>...</td>\n",
       "      <td>...</td>\n",
       "      <td>...</td>\n",
       "      <td>...</td>\n",
       "    </tr>\n",
       "    <tr>\n",
       "      <th>1950</th>\n",
       "      <td>Miss Donna Rice</td>\n",
       "      <td>56</td>\n",
       "      <td>tinylion905</td>\n",
       "      <td>donna.rice@example.com</td>\n",
       "      <td>Ireland</td>\n",
       "      <td>76380</td>\n",
       "      <td>female</td>\n",
       "    </tr>\n",
       "    <tr>\n",
       "      <th>1962</th>\n",
       "      <td>Mr Tom Mercier</td>\n",
       "      <td>53</td>\n",
       "      <td>beautifulfish989</td>\n",
       "      <td>tom.mercier@example.com</td>\n",
       "      <td>France</td>\n",
       "      <td>24953</td>\n",
       "      <td>male</td>\n",
       "    </tr>\n",
       "    <tr>\n",
       "      <th>1969</th>\n",
       "      <td>Mr Eemeli Heino</td>\n",
       "      <td>55</td>\n",
       "      <td>whitemeercat543</td>\n",
       "      <td>eemeli.heino@example.com</td>\n",
       "      <td>Finland</td>\n",
       "      <td>28730</td>\n",
       "      <td>male</td>\n",
       "    </tr>\n",
       "    <tr>\n",
       "      <th>1972</th>\n",
       "      <td>Ms Emilie Jørgensen</td>\n",
       "      <td>53</td>\n",
       "      <td>goldentiger337</td>\n",
       "      <td>emilie.jorgensen@example.com</td>\n",
       "      <td>Denmark</td>\n",
       "      <td>73187</td>\n",
       "      <td>female</td>\n",
       "    </tr>\n",
       "    <tr>\n",
       "      <th>1987</th>\n",
       "      <td>Mr Blake Slawa</td>\n",
       "      <td>51</td>\n",
       "      <td>whiteostrich177</td>\n",
       "      <td>blake.slawa@example.com</td>\n",
       "      <td>Canada</td>\n",
       "      <td>B5E 8D8</td>\n",
       "      <td>male</td>\n",
       "    </tr>\n",
       "  </tbody>\n",
       "</table>\n",
       "<p>321 rows × 7 columns</p>\n",
       "</div>"
      ],
      "text/plain": [
       "                     name  age          username  \\\n",
       "2       Ms Veena Kulkarni   53     smalltiger174   \n",
       "4       Ms Nataša Subašić   55        bigbird256   \n",
       "11    Mrs Abigail Morales   56      lazyzebra356   \n",
       "19          Mr Jose Wells   58      heavyswan589   \n",
       "27      Mr Mylan Lefebvre   56     yellowswan337   \n",
       "...                   ...  ...               ...   \n",
       "1950      Miss Donna Rice   56       tinylion905   \n",
       "1962       Mr Tom Mercier   53  beautifulfish989   \n",
       "1969      Mr Eemeli Heino   55   whitemeercat543   \n",
       "1972  Ms Emilie Jørgensen   53    goldentiger337   \n",
       "1987       Mr Blake Slawa   51   whiteostrich177   \n",
       "\n",
       "                             email         country  postcode  gender  \n",
       "2       veena.kulkarni@example.com           India     29797  female  \n",
       "4       natasa.subasic@example.com          Serbia     83260  female  \n",
       "11     abigail.morales@example.com  United Kingdom  FS6Q 6ZU  female  \n",
       "19          jose.wells@example.com       Australia      5039    male  \n",
       "27      mylan.lefebvre@example.com          France     48082    male  \n",
       "...                            ...             ...       ...     ...  \n",
       "1950        donna.rice@example.com         Ireland     76380  female  \n",
       "1962       tom.mercier@example.com          France     24953    male  \n",
       "1969      eemeli.heino@example.com         Finland     28730    male  \n",
       "1972  emilie.jorgensen@example.com         Denmark     73187  female  \n",
       "1987       blake.slawa@example.com          Canada   B5E 8D8    male  \n",
       "\n",
       "[321 rows x 7 columns]"
      ]
     },
     "execution_count": 98,
     "metadata": {},
     "output_type": "execute_result"
    }
   ],
   "source": [
    "users[(users['age'] > 50) & (users['age'] < 60)]"
   ]
  },
  {
   "cell_type": "code",
   "execution_count": 100,
   "metadata": {},
   "outputs": [
    {
     "data": {
      "text/html": [
       "<div>\n",
       "<style scoped>\n",
       "    .dataframe tbody tr th:only-of-type {\n",
       "        vertical-align: middle;\n",
       "    }\n",
       "\n",
       "    .dataframe tbody tr th {\n",
       "        vertical-align: top;\n",
       "    }\n",
       "\n",
       "    .dataframe thead th {\n",
       "        text-align: right;\n",
       "    }\n",
       "</style>\n",
       "<table border=\"1\" class=\"dataframe\">\n",
       "  <thead>\n",
       "    <tr style=\"text-align: right;\">\n",
       "      <th></th>\n",
       "      <th>username</th>\n",
       "      <th>email</th>\n",
       "      <th>age</th>\n",
       "    </tr>\n",
       "  </thead>\n",
       "  <tbody>\n",
       "    <tr>\n",
       "      <th>2</th>\n",
       "      <td>smalltiger174</td>\n",
       "      <td>veena.kulkarni@example.com</td>\n",
       "      <td>53</td>\n",
       "    </tr>\n",
       "    <tr>\n",
       "      <th>4</th>\n",
       "      <td>bigbird256</td>\n",
       "      <td>natasa.subasic@example.com</td>\n",
       "      <td>55</td>\n",
       "    </tr>\n",
       "    <tr>\n",
       "      <th>11</th>\n",
       "      <td>lazyzebra356</td>\n",
       "      <td>abigail.morales@example.com</td>\n",
       "      <td>56</td>\n",
       "    </tr>\n",
       "    <tr>\n",
       "      <th>19</th>\n",
       "      <td>heavyswan589</td>\n",
       "      <td>jose.wells@example.com</td>\n",
       "      <td>58</td>\n",
       "    </tr>\n",
       "    <tr>\n",
       "      <th>27</th>\n",
       "      <td>yellowswan337</td>\n",
       "      <td>mylan.lefebvre@example.com</td>\n",
       "      <td>56</td>\n",
       "    </tr>\n",
       "    <tr>\n",
       "      <th>...</th>\n",
       "      <td>...</td>\n",
       "      <td>...</td>\n",
       "      <td>...</td>\n",
       "    </tr>\n",
       "    <tr>\n",
       "      <th>1950</th>\n",
       "      <td>tinylion905</td>\n",
       "      <td>donna.rice@example.com</td>\n",
       "      <td>56</td>\n",
       "    </tr>\n",
       "    <tr>\n",
       "      <th>1962</th>\n",
       "      <td>beautifulfish989</td>\n",
       "      <td>tom.mercier@example.com</td>\n",
       "      <td>53</td>\n",
       "    </tr>\n",
       "    <tr>\n",
       "      <th>1969</th>\n",
       "      <td>whitemeercat543</td>\n",
       "      <td>eemeli.heino@example.com</td>\n",
       "      <td>55</td>\n",
       "    </tr>\n",
       "    <tr>\n",
       "      <th>1972</th>\n",
       "      <td>goldentiger337</td>\n",
       "      <td>emilie.jorgensen@example.com</td>\n",
       "      <td>53</td>\n",
       "    </tr>\n",
       "    <tr>\n",
       "      <th>1987</th>\n",
       "      <td>whiteostrich177</td>\n",
       "      <td>blake.slawa@example.com</td>\n",
       "      <td>51</td>\n",
       "    </tr>\n",
       "  </tbody>\n",
       "</table>\n",
       "<p>321 rows × 3 columns</p>\n",
       "</div>"
      ],
      "text/plain": [
       "              username                         email  age\n",
       "2        smalltiger174    veena.kulkarni@example.com   53\n",
       "4           bigbird256    natasa.subasic@example.com   55\n",
       "11        lazyzebra356   abigail.morales@example.com   56\n",
       "19        heavyswan589        jose.wells@example.com   58\n",
       "27       yellowswan337    mylan.lefebvre@example.com   56\n",
       "...                ...                           ...  ...\n",
       "1950       tinylion905        donna.rice@example.com   56\n",
       "1962  beautifulfish989       tom.mercier@example.com   53\n",
       "1969   whitemeercat543      eemeli.heino@example.com   55\n",
       "1972    goldentiger337  emilie.jorgensen@example.com   53\n",
       "1987   whiteostrich177       blake.slawa@example.com   51\n",
       "\n",
       "[321 rows x 3 columns]"
      ]
     },
     "execution_count": 100,
     "metadata": {},
     "output_type": "execute_result"
    }
   ],
   "source": [
    "users[(users['age'] > 50) & (users['age'] < 60)][['username','email','age']]"
   ]
  },
  {
   "cell_type": "markdown",
   "metadata": {},
   "source": [
    "7. Obtener el username de todos los usuarios cuyo correo **no** terminen con @example.com"
   ]
  },
  {
   "cell_type": "code",
   "execution_count": 106,
   "metadata": {},
   "outputs": [
    {
     "data": {
      "text/plain": [
       "35          ege.karabocek@example.com\n",
       "44         elisa.iglesias@example.com\n",
       "73             ethan.chan@example.com\n",
       "78      emanuel.haukeland@example.com\n",
       "93             ege.tokgoz@example.com\n",
       "                    ...              \n",
       "1917        erin.marshall@example.com\n",
       "1921          edna.fields@example.com\n",
       "1968          emil.larsen@example.com\n",
       "1969         eemeli.heino@example.com\n",
       "1972     emilie.jorgensen@example.com\n",
       "Name: email, Length: 156, dtype: object"
      ]
     },
     "execution_count": 106,
     "metadata": {},
     "output_type": "execute_result"
    }
   ],
   "source": [
    "users[users['email'].str.startswith('e')]['email']"
   ]
  },
  {
   "cell_type": "code",
   "execution_count": 108,
   "metadata": {},
   "outputs": [
    {
     "data": {
      "text/plain": [
       "Series([], Name: email, dtype: object)"
      ]
     },
     "execution_count": 108,
     "metadata": {},
     "output_type": "execute_result"
    }
   ],
   "source": [
    "users[~users['email'].str.endswith('@example.com')]['email'] # ~ negación"
   ]
  },
  {
   "cell_type": "markdown",
   "metadata": {},
   "source": [
    "8. Obtener el username de todos los usuarios cuyo país sea Alemania, Finlandia o Canadá"
   ]
  },
  {
   "cell_type": "code",
   "execution_count": 109,
   "metadata": {},
   "outputs": [
    {
     "data": {
      "text/plain": [
       "15           smalltiger986\n",
       "18             whitecat263\n",
       "29       brownbutterfly120\n",
       "36      ticklishladybug412\n",
       "40       organicleopard484\n",
       "               ...        \n",
       "1969       whitemeercat543\n",
       "1973        orangezebra429\n",
       "1986        goldenkoala606\n",
       "1987       whiteostrich177\n",
       "1989          brownwolf223\n",
       "Name: username, Length: 316, dtype: object"
      ]
     },
     "execution_count": 109,
     "metadata": {},
     "output_type": "execute_result"
    }
   ],
   "source": [
    "users[(users['country'] == 'Canada') | (users['country'] == 'Germany') | (users['country'] == 'Finland')]['username']"
   ]
  },
  {
   "cell_type": "code",
   "execution_count": 110,
   "metadata": {},
   "outputs": [
    {
     "data": {
      "text/plain": [
       "15           smalltiger986\n",
       "18             whitecat263\n",
       "29       brownbutterfly120\n",
       "36      ticklishladybug412\n",
       "40       organicleopard484\n",
       "               ...        \n",
       "1969       whitemeercat543\n",
       "1973        orangezebra429\n",
       "1986        goldenkoala606\n",
       "1987       whiteostrich177\n",
       "1989          brownwolf223\n",
       "Name: username, Length: 316, dtype: object"
      ]
     },
     "execution_count": 110,
     "metadata": {},
     "output_type": "execute_result"
    }
   ],
   "source": [
    "users[users['country'].isin(['Canada','Finland','Germany'])]['username']"
   ]
  },
  {
   "cell_type": "markdown",
   "metadata": {},
   "source": [
    "9. Obtener el nombre y correo de todos los usuarios de sexo femenino cuyo país sea Alemania"
   ]
  },
  {
   "cell_type": "code",
   "execution_count": 111,
   "metadata": {
    "scrolled": true
   },
   "outputs": [
    {
     "data": {
      "text/html": [
       "<div>\n",
       "<style scoped>\n",
       "    .dataframe tbody tr th:only-of-type {\n",
       "        vertical-align: middle;\n",
       "    }\n",
       "\n",
       "    .dataframe tbody tr th {\n",
       "        vertical-align: top;\n",
       "    }\n",
       "\n",
       "    .dataframe thead th {\n",
       "        text-align: right;\n",
       "    }\n",
       "</style>\n",
       "<table border=\"1\" class=\"dataframe\">\n",
       "  <thead>\n",
       "    <tr style=\"text-align: right;\">\n",
       "      <th></th>\n",
       "      <th>name</th>\n",
       "      <th>email</th>\n",
       "    </tr>\n",
       "  </thead>\n",
       "  <tbody>\n",
       "    <tr>\n",
       "      <th>79</th>\n",
       "      <td>Miss Sara Weyand</td>\n",
       "      <td>sara.weyand@example.com</td>\n",
       "    </tr>\n",
       "    <tr>\n",
       "      <th>105</th>\n",
       "      <td>Miss Marina Heumann</td>\n",
       "      <td>marina.heumann@example.com</td>\n",
       "    </tr>\n",
       "    <tr>\n",
       "      <th>245</th>\n",
       "      <td>Miss Bozena Thimm</td>\n",
       "      <td>bozena.thimm@example.com</td>\n",
       "    </tr>\n",
       "    <tr>\n",
       "      <th>260</th>\n",
       "      <td>Miss Clara Springer</td>\n",
       "      <td>clara.springer@example.com</td>\n",
       "    </tr>\n",
       "    <tr>\n",
       "      <th>270</th>\n",
       "      <td>Miss Elvira Eichner</td>\n",
       "      <td>elvira.eichner@example.com</td>\n",
       "    </tr>\n",
       "    <tr>\n",
       "      <th>278</th>\n",
       "      <td>Mrs Sevim Stehr</td>\n",
       "      <td>sevim.stehr@example.com</td>\n",
       "    </tr>\n",
       "    <tr>\n",
       "      <th>330</th>\n",
       "      <td>Ms Ilona Heinemann</td>\n",
       "      <td>ilona.heinemann@example.com</td>\n",
       "    </tr>\n",
       "    <tr>\n",
       "      <th>340</th>\n",
       "      <td>Ms Nina Höfer</td>\n",
       "      <td>nina.hofer@example.com</td>\n",
       "    </tr>\n",
       "    <tr>\n",
       "      <th>346</th>\n",
       "      <td>Mrs Cäcilie Uhlmann</td>\n",
       "      <td>cacilie.uhlmann@example.com</td>\n",
       "    </tr>\n",
       "    <tr>\n",
       "      <th>447</th>\n",
       "      <td>Ms Liesbeth Völker</td>\n",
       "      <td>liesbeth.volker@example.com</td>\n",
       "    </tr>\n",
       "    <tr>\n",
       "      <th>450</th>\n",
       "      <td>Mrs Ella Leder</td>\n",
       "      <td>ella.leder@example.com</td>\n",
       "    </tr>\n",
       "    <tr>\n",
       "      <th>477</th>\n",
       "      <td>Miss Stella Schenk</td>\n",
       "      <td>stella.schenk@example.com</td>\n",
       "    </tr>\n",
       "    <tr>\n",
       "      <th>487</th>\n",
       "      <td>Ms Alexa Backes</td>\n",
       "      <td>alexa.backes@example.com</td>\n",
       "    </tr>\n",
       "    <tr>\n",
       "      <th>555</th>\n",
       "      <td>Ms Beate Eifler</td>\n",
       "      <td>beate.eifler@example.com</td>\n",
       "    </tr>\n",
       "    <tr>\n",
       "      <th>676</th>\n",
       "      <td>Ms Kira Bartz</td>\n",
       "      <td>kira.bartz@example.com</td>\n",
       "    </tr>\n",
       "    <tr>\n",
       "      <th>695</th>\n",
       "      <td>Miss Ingrid Demir</td>\n",
       "      <td>ingrid.demir@example.com</td>\n",
       "    </tr>\n",
       "    <tr>\n",
       "      <th>750</th>\n",
       "      <td>Mrs Elizabeth Lemmer</td>\n",
       "      <td>elizabeth.lemmer@example.com</td>\n",
       "    </tr>\n",
       "    <tr>\n",
       "      <th>757</th>\n",
       "      <td>Miss Anne-Kathrin Haußmann</td>\n",
       "      <td>anne-kathrin.haussmann@example.com</td>\n",
       "    </tr>\n",
       "    <tr>\n",
       "      <th>764</th>\n",
       "      <td>Miss Flora Reil</td>\n",
       "      <td>flora.reil@example.com</td>\n",
       "    </tr>\n",
       "    <tr>\n",
       "      <th>767</th>\n",
       "      <td>Ms Alida Köster</td>\n",
       "      <td>alida.koster@example.com</td>\n",
       "    </tr>\n",
       "    <tr>\n",
       "      <th>784</th>\n",
       "      <td>Miss Valeri Stenger</td>\n",
       "      <td>valeri.stenger@example.com</td>\n",
       "    </tr>\n",
       "    <tr>\n",
       "      <th>870</th>\n",
       "      <td>Miss Viviane Steinert</td>\n",
       "      <td>viviane.steinert@example.com</td>\n",
       "    </tr>\n",
       "    <tr>\n",
       "      <th>925</th>\n",
       "      <td>Mrs Harriet Schmidl</td>\n",
       "      <td>harriet.schmidl@example.com</td>\n",
       "    </tr>\n",
       "    <tr>\n",
       "      <th>1020</th>\n",
       "      <td>Ms Gabriela Dreher</td>\n",
       "      <td>gabriela.dreher@example.com</td>\n",
       "    </tr>\n",
       "    <tr>\n",
       "      <th>1132</th>\n",
       "      <td>Ms Estelle Poth</td>\n",
       "      <td>estelle.poth@example.com</td>\n",
       "    </tr>\n",
       "    <tr>\n",
       "      <th>1151</th>\n",
       "      <td>Ms Janette Arslan</td>\n",
       "      <td>janette.arslan@example.com</td>\n",
       "    </tr>\n",
       "    <tr>\n",
       "      <th>1152</th>\n",
       "      <td>Mrs Annemarie Zwick</td>\n",
       "      <td>annemarie.zwick@example.com</td>\n",
       "    </tr>\n",
       "    <tr>\n",
       "      <th>1278</th>\n",
       "      <td>Ms Emilie Stegemann</td>\n",
       "      <td>emilie.stegemann@example.com</td>\n",
       "    </tr>\n",
       "    <tr>\n",
       "      <th>1386</th>\n",
       "      <td>Miss Emilie Schubert</td>\n",
       "      <td>emilie.schubert@example.com</td>\n",
       "    </tr>\n",
       "    <tr>\n",
       "      <th>1518</th>\n",
       "      <td>Miss Gerda Handke</td>\n",
       "      <td>gerda.handke@example.com</td>\n",
       "    </tr>\n",
       "    <tr>\n",
       "      <th>1534</th>\n",
       "      <td>Ms Elwira Heyne</td>\n",
       "      <td>elwira.heyne@example.com</td>\n",
       "    </tr>\n",
       "    <tr>\n",
       "      <th>1626</th>\n",
       "      <td>Ms Ute Saller</td>\n",
       "      <td>ute.saller@example.com</td>\n",
       "    </tr>\n",
       "    <tr>\n",
       "      <th>1631</th>\n",
       "      <td>Ms Mia Schrage</td>\n",
       "      <td>mia.schrage@example.com</td>\n",
       "    </tr>\n",
       "    <tr>\n",
       "      <th>1639</th>\n",
       "      <td>Miss Christina Hammes</td>\n",
       "      <td>christina.hammes@example.com</td>\n",
       "    </tr>\n",
       "    <tr>\n",
       "      <th>1678</th>\n",
       "      <td>Miss Ronja Frühauf</td>\n",
       "      <td>ronja.fruhauf@example.com</td>\n",
       "    </tr>\n",
       "    <tr>\n",
       "      <th>1685</th>\n",
       "      <td>Mrs Evangelia Dreßler</td>\n",
       "      <td>evangelia.dressler@example.com</td>\n",
       "    </tr>\n",
       "    <tr>\n",
       "      <th>1716</th>\n",
       "      <td>Miss Brunhilde Liebl</td>\n",
       "      <td>brunhilde.liebl@example.com</td>\n",
       "    </tr>\n",
       "    <tr>\n",
       "      <th>1734</th>\n",
       "      <td>Miss Malgorzata Püschel</td>\n",
       "      <td>malgorzata.puschel@example.com</td>\n",
       "    </tr>\n",
       "    <tr>\n",
       "      <th>1745</th>\n",
       "      <td>Ms Traude Völker</td>\n",
       "      <td>traude.volker@example.com</td>\n",
       "    </tr>\n",
       "    <tr>\n",
       "      <th>1758</th>\n",
       "      <td>Miss Annette Hallmann</td>\n",
       "      <td>annette.hallmann@example.com</td>\n",
       "    </tr>\n",
       "    <tr>\n",
       "      <th>1790</th>\n",
       "      <td>Ms Ildiko Kröner</td>\n",
       "      <td>ildiko.kroner@example.com</td>\n",
       "    </tr>\n",
       "    <tr>\n",
       "      <th>1863</th>\n",
       "      <td>Miss Adolfine Holl</td>\n",
       "      <td>adolfine.holl@example.com</td>\n",
       "    </tr>\n",
       "    <tr>\n",
       "      <th>1864</th>\n",
       "      <td>Mrs Annabell Stang</td>\n",
       "      <td>annabell.stang@example.com</td>\n",
       "    </tr>\n",
       "    <tr>\n",
       "      <th>1868</th>\n",
       "      <td>Mrs Anne Ertl</td>\n",
       "      <td>anne.ertl@example.com</td>\n",
       "    </tr>\n",
       "    <tr>\n",
       "      <th>1896</th>\n",
       "      <td>Mrs Camilla Yilmaz</td>\n",
       "      <td>camilla.yilmaz@example.com</td>\n",
       "    </tr>\n",
       "    <tr>\n",
       "      <th>1904</th>\n",
       "      <td>Ms Anne Steffan</td>\n",
       "      <td>anne.steffan@example.com</td>\n",
       "    </tr>\n",
       "    <tr>\n",
       "      <th>1952</th>\n",
       "      <td>Mrs Dorota Stuber</td>\n",
       "      <td>dorota.stuber@example.com</td>\n",
       "    </tr>\n",
       "    <tr>\n",
       "      <th>1989</th>\n",
       "      <td>Miss Sylvana Stoll</td>\n",
       "      <td>sylvana.stoll@example.com</td>\n",
       "    </tr>\n",
       "  </tbody>\n",
       "</table>\n",
       "</div>"
      ],
      "text/plain": [
       "                            name                               email\n",
       "79              Miss Sara Weyand             sara.weyand@example.com\n",
       "105          Miss Marina Heumann          marina.heumann@example.com\n",
       "245            Miss Bozena Thimm            bozena.thimm@example.com\n",
       "260          Miss Clara Springer          clara.springer@example.com\n",
       "270          Miss Elvira Eichner          elvira.eichner@example.com\n",
       "278              Mrs Sevim Stehr             sevim.stehr@example.com\n",
       "330           Ms Ilona Heinemann         ilona.heinemann@example.com\n",
       "340                Ms Nina Höfer              nina.hofer@example.com\n",
       "346          Mrs Cäcilie Uhlmann         cacilie.uhlmann@example.com\n",
       "447           Ms Liesbeth Völker         liesbeth.volker@example.com\n",
       "450               Mrs Ella Leder              ella.leder@example.com\n",
       "477           Miss Stella Schenk           stella.schenk@example.com\n",
       "487              Ms Alexa Backes            alexa.backes@example.com\n",
       "555              Ms Beate Eifler            beate.eifler@example.com\n",
       "676                Ms Kira Bartz              kira.bartz@example.com\n",
       "695            Miss Ingrid Demir            ingrid.demir@example.com\n",
       "750         Mrs Elizabeth Lemmer        elizabeth.lemmer@example.com\n",
       "757   Miss Anne-Kathrin Haußmann  anne-kathrin.haussmann@example.com\n",
       "764              Miss Flora Reil              flora.reil@example.com\n",
       "767              Ms Alida Köster            alida.koster@example.com\n",
       "784          Miss Valeri Stenger          valeri.stenger@example.com\n",
       "870        Miss Viviane Steinert        viviane.steinert@example.com\n",
       "925          Mrs Harriet Schmidl         harriet.schmidl@example.com\n",
       "1020          Ms Gabriela Dreher         gabriela.dreher@example.com\n",
       "1132             Ms Estelle Poth            estelle.poth@example.com\n",
       "1151           Ms Janette Arslan          janette.arslan@example.com\n",
       "1152         Mrs Annemarie Zwick         annemarie.zwick@example.com\n",
       "1278         Ms Emilie Stegemann        emilie.stegemann@example.com\n",
       "1386        Miss Emilie Schubert         emilie.schubert@example.com\n",
       "1518           Miss Gerda Handke            gerda.handke@example.com\n",
       "1534             Ms Elwira Heyne            elwira.heyne@example.com\n",
       "1626               Ms Ute Saller              ute.saller@example.com\n",
       "1631              Ms Mia Schrage             mia.schrage@example.com\n",
       "1639       Miss Christina Hammes        christina.hammes@example.com\n",
       "1678          Miss Ronja Frühauf           ronja.fruhauf@example.com\n",
       "1685       Mrs Evangelia Dreßler      evangelia.dressler@example.com\n",
       "1716        Miss Brunhilde Liebl         brunhilde.liebl@example.com\n",
       "1734     Miss Malgorzata Püschel      malgorzata.puschel@example.com\n",
       "1745            Ms Traude Völker           traude.volker@example.com\n",
       "1758       Miss Annette Hallmann        annette.hallmann@example.com\n",
       "1790            Ms Ildiko Kröner           ildiko.kroner@example.com\n",
       "1863          Miss Adolfine Holl           adolfine.holl@example.com\n",
       "1864          Mrs Annabell Stang          annabell.stang@example.com\n",
       "1868               Mrs Anne Ertl               anne.ertl@example.com\n",
       "1896          Mrs Camilla Yilmaz          camilla.yilmaz@example.com\n",
       "1904             Ms Anne Steffan            anne.steffan@example.com\n",
       "1952           Mrs Dorota Stuber           dorota.stuber@example.com\n",
       "1989          Miss Sylvana Stoll           sylvana.stoll@example.com"
      ]
     },
     "execution_count": 111,
     "metadata": {},
     "output_type": "execute_result"
    }
   ],
   "source": [
    "users[(users['country'] == 'Germany') & (users['gender'] == 'female')][['name','email']]"
   ]
  },
  {
   "cell_type": "markdown",
   "metadata": {},
   "source": [
    "10. Obtener el promedio de edad de todos los usuarios de sexo femenino de Canadá mayores de 20 años"
   ]
  },
  {
   "cell_type": "code",
   "execution_count": 112,
   "metadata": {},
   "outputs": [
    {
     "data": {
      "text/plain": [
       "age    53.890909\n",
       "dtype: float64"
      ]
     },
     "execution_count": 112,
     "metadata": {},
     "output_type": "execute_result"
    }
   ],
   "source": [
    "users[(users['country'] == 'Canada') & (users['gender'] == 'female') & (users['age'] > 20)].mean()"
   ]
  },
  {
   "cell_type": "code",
   "execution_count": 113,
   "metadata": {},
   "outputs": [],
   "source": [
    "condition = (users['country'] == 'Canada') & (users['gender'] == 'female') & (users['age'] > 20)"
   ]
  },
  {
   "cell_type": "code",
   "execution_count": 114,
   "metadata": {},
   "outputs": [
    {
     "data": {
      "text/plain": [
       "53.89090909090909"
      ]
     },
     "execution_count": 114,
     "metadata": {},
     "output_type": "execute_result"
    }
   ],
   "source": [
    "users.age[condition].mean()"
   ]
  },
  {
   "cell_type": "markdown",
   "metadata": {},
   "source": [
    "11. Conocer la cantidad de usuarios que residen en Finlandia"
   ]
  },
  {
   "cell_type": "code",
   "execution_count": 115,
   "metadata": {},
   "outputs": [
    {
     "data": {
      "text/plain": [
       "103"
      ]
     },
     "execution_count": 115,
     "metadata": {},
     "output_type": "execute_result"
    }
   ],
   "source": [
    "users[users['country'] == 'Finland']['name'].count()"
   ]
  },
  {
   "cell_type": "markdown",
   "metadata": {},
   "source": [
    "12. Mostrar en consola la cantidad de hombres y mujeres en el dataframe"
   ]
  },
  {
   "cell_type": "code",
   "execution_count": 116,
   "metadata": {},
   "outputs": [
    {
     "data": {
      "text/plain": [
       "gender\n",
       "female    1013\n",
       "male       987\n",
       "Name: gender, dtype: int64"
      ]
     },
     "execution_count": 116,
     "metadata": {},
     "output_type": "execute_result"
    }
   ],
   "source": [
    "users.groupby('gender')['gender'].count()"
   ]
  },
  {
   "cell_type": "markdown",
   "metadata": {},
   "source": [
    "13. Mostrar en consola el país con más mujeres"
   ]
  },
  {
   "cell_type": "code",
   "execution_count": 117,
   "metadata": {},
   "outputs": [
    {
     "data": {
      "text/plain": [
       "country\n",
       "France            61\n",
       "Canada            55\n",
       "Spain             53\n",
       "Australia         52\n",
       "Brazil            52\n",
       "Denmark           51\n",
       "New Zealand       50\n",
       "United Kingdom    50\n",
       "Mexico            50\n",
       "Netherlands       49\n",
       "India             49\n",
       "Switzerland       49\n",
       "Germany           48\n",
       "Ireland           47\n",
       "Finland           47\n",
       "Turkey            45\n",
       "United States     45\n",
       "Norway            44\n",
       "Serbia            42\n",
       "Ukraine           41\n",
       "Iran              33\n",
       "Name: country, dtype: int64"
      ]
     },
     "execution_count": 117,
     "metadata": {},
     "output_type": "execute_result"
    }
   ],
   "source": [
    "users[users['gender'] == 'female'].groupby('country')['country'].count().sort_values(ascending=False)"
   ]
  },
  {
   "cell_type": "code",
   "execution_count": 118,
   "metadata": {},
   "outputs": [
    {
     "data": {
      "text/plain": [
       "country\n",
       "France    61\n",
       "Name: country, dtype: int64"
      ]
     },
     "execution_count": 118,
     "metadata": {},
     "output_type": "execute_result"
    }
   ],
   "source": [
    "users[users['gender'] == 'female'].groupby('country')['country'].count().sort_values(ascending=False).head(1)"
   ]
  },
  {
   "cell_type": "markdown",
   "metadata": {},
   "source": [
    "14. Obtener los 3 países con más usuarios"
   ]
  },
  {
   "cell_type": "code",
   "execution_count": 119,
   "metadata": {},
   "outputs": [
    {
     "data": {
      "text/plain": [
       "country\n",
       "Australia    112\n",
       "Germany      108\n",
       "Spain        106\n",
       "Name: country, dtype: int64"
      ]
     },
     "execution_count": 119,
     "metadata": {},
     "output_type": "execute_result"
    }
   ],
   "source": [
    "users.groupby('country')['country'].count().sort_values(ascending=False).head(3)"
   ]
  }
 ],
 "metadata": {
  "kernelspec": {
   "display_name": "Python 3",
   "language": "python",
   "name": "python3"
  },
  "language_info": {
   "codemirror_mode": {
    "name": "ipython",
    "version": 3
   },
   "file_extension": ".py",
   "mimetype": "text/x-python",
   "name": "python",
   "nbconvert_exporter": "python",
   "pygments_lexer": "ipython3",
   "version": "3.8.5"
  }
 },
 "nbformat": 4,
 "nbformat_minor": 4
}
