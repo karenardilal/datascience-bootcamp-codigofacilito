{
 "cells": [
  {
   "cell_type": "code",
   "execution_count": 1,
   "metadata": {},
   "outputs": [
    {
     "name": "stdout",
     "output_type": "stream",
     "text": [
      "Cody\n"
     ]
    }
   ],
   "source": [
    "# snake_case\n",
    "nombre_completo = 'Cody'\n",
    "print(nombre_completo)"
   ]
  },
  {
   "cell_type": "code",
   "execution_count": 2,
   "metadata": {},
   "outputs": [
    {
     "name": "stdout",
     "output_type": "stream",
     "text": [
      "<class 'str'>\n"
     ]
    }
   ],
   "source": [
    "print(type(nombre_completo))"
   ]
  },
  {
   "cell_type": "code",
   "execution_count": 3,
   "metadata": {},
   "outputs": [
    {
     "name": "stdout",
     "output_type": "stream",
     "text": [
      "10\n",
      "<class 'int'>\n"
     ]
    }
   ],
   "source": [
    "nombre_completo = 10\n",
    "print(nombre_completo)\n",
    "print(type(nombre_completo))"
   ]
  },
  {
   "cell_type": "code",
   "execution_count": 4,
   "metadata": {},
   "outputs": [
    {
     "name": "stdout",
     "output_type": "stream",
     "text": [
      "10\n",
      "<class 'int'>\n"
     ]
    }
   ],
   "source": [
    "# Anotaciones para desarrolladores\n",
    "nombre_completo :int = 10\n",
    "print(nombre_completo)\n",
    "print(type(nombre_completo))"
   ]
  },
  {
   "cell_type": "code",
   "execution_count": 5,
   "metadata": {},
   "outputs": [
    {
     "name": "stdout",
     "output_type": "stream",
     "text": [
      "Eduardo\n",
      "Garcia\n",
      "28\n"
     ]
    }
   ],
   "source": [
    "#Desempaquetado\n",
    "nombre, apellido, edad = 'Eduardo','Garcia', 28\n",
    "print(nombre)\n",
    "print(apellido)\n",
    "print(edad)"
   ]
  },
  {
   "cell_type": "code",
   "execution_count": 6,
   "metadata": {},
   "outputs": [
    {
     "name": "stdout",
     "output_type": "stream",
     "text": [
      "Eduardo Garcia 28\n"
     ]
    }
   ],
   "source": [
    "print(nombre, apellido, edad)"
   ]
  },
  {
   "cell_type": "code",
   "execution_count": 7,
   "metadata": {},
   "outputs": [
    {
     "name": "stdout",
     "output_type": "stream",
     "text": [
      "1865137889520\n",
      "1865137889520\n"
     ]
    }
   ],
   "source": [
    "#String/int/tuple interning\n",
    "nombre = 'Cody'\n",
    "nombre_dos = 'Cody'\n",
    "\n",
    "print(\n",
    "    id(nombre)\n",
    ")\n",
    "\n",
    "print(\n",
    "    id(nombre_dos)\n",
    ")"
   ]
  },
  {
   "cell_type": "code",
   "execution_count": 8,
   "metadata": {},
   "outputs": [
    {
     "name": "stdout",
     "output_type": "stream",
     "text": [
      "Ingresa tu edad: 10\n",
      "10\n",
      "<class 'str'>\n"
     ]
    }
   ],
   "source": [
    "edad = input('Ingresa tu edad: ') #string\n",
    "print(edad)\n",
    "print(type(edad))"
   ]
  },
  {
   "cell_type": "code",
   "execution_count": 9,
   "metadata": {},
   "outputs": [
    {
     "name": "stdout",
     "output_type": "stream",
     "text": [
      "Ingresa tu edad: 12\n",
      "12\n",
      "<class 'int'>\n"
     ]
    }
   ],
   "source": [
    "# string/int/tuple son inmutables\n",
    "edad = input('Ingresa tu edad: ') #int\n",
    "edad = int(edad)\n",
    "print(edad)\n",
    "print(type(edad))"
   ]
  },
  {
   "cell_type": "code",
   "execution_count": 11,
   "metadata": {},
   "outputs": [
    {
     "name": "stdout",
     "output_type": "stream",
     "text": [
      "Ingresa tu edad: 18\n",
      "Tu edad es mayor a 10\n"
     ]
    }
   ],
   "source": [
    "edad = input('Ingresa tu edad: ') #int\n",
    "edad = int(edad)\n",
    "\n",
    "if edad >= 10:\n",
    "    print('Tu edad es mayor a 10')\n",
    "else:\n",
    "    print('Todo lo que se encuentre en el bloque else')\n",
    "    print('se ejecuta cuando la condición no se cumple')"
   ]
  },
  {
   "cell_type": "code",
   "execution_count": 10,
   "metadata": {},
   "outputs": [
    {
     "name": "stdout",
     "output_type": "stream",
     "text": [
      "Ingresa tu edad: 9\n",
      "Este bloque se ejecuta cuando la\n",
      "la condición no se cumple.\n",
      "Adiós.\n"
     ]
    }
   ],
   "source": [
    "MESSAGE = \"\"\"Este bloque se ejecuta cuando la\n",
    "la condición no se cumple.\n",
    "Adiós.\"\"\"\n",
    "\n",
    "edad = input('Ingresa tu edad: ') #int\n",
    "edad = int(edad)\n",
    "\n",
    "resultado = edad >= 10\n",
    "\n",
    "if resultado:\n",
    "    print('Tu edad es mayor a 10')\n",
    "else:\n",
    "    print(MESSAGE)"
   ]
  },
  {
   "cell_type": "code",
   "execution_count": 12,
   "metadata": {},
   "outputs": [
    {
     "name": "stdout",
     "output_type": "stream",
     "text": [
      "Ingresa tu calificación: 9\n",
      "Aprobaste\n"
     ]
    }
   ],
   "source": [
    "calificacion = input('Ingresa tu calificación: ')\n",
    "calificacion = int(calificacion)\n",
    "\n",
    "if calificacion == 10:\n",
    "    print('Felicidades')\n",
    "elif calificacion == 9 or calificacion ==8:\n",
    "    print('Aprobaste')\n",
    "else: \n",
    "    print('Lo sentimos, no aprobaste.')"
   ]
  },
  {
   "cell_type": "code",
   "execution_count": 13,
   "metadata": {},
   "outputs": [
    {
     "name": "stdout",
     "output_type": "stream",
     "text": [
      "La condición no se cumple\n"
     ]
    }
   ],
   "source": [
    "if 0:\n",
    "    print('La condición se cumple')\n",
    "else:\n",
    "    print('La condición no se cumple')"
   ]
  },
  {
   "cell_type": "code",
   "execution_count": 14,
   "metadata": {},
   "outputs": [
    {
     "name": "stdout",
     "output_type": "stream",
     "text": [
      "La condición se cumple\n"
     ]
    }
   ],
   "source": [
    "if -1:\n",
    "    print('La condición se cumple')\n",
    "else:\n",
    "    print('La condición no se cumple')"
   ]
  },
  {
   "cell_type": "code",
   "execution_count": 15,
   "metadata": {},
   "outputs": [
    {
     "name": "stdout",
     "output_type": "stream",
     "text": [
      "La condición no se cumple\n"
     ]
    }
   ],
   "source": [
    "if '':\n",
    "    print('La condición se cumple')\n",
    "else:\n",
    "    print('La condición no se cumple')"
   ]
  },
  {
   "cell_type": "markdown",
   "metadata": {},
   "source": [
    "### Valores falsos en Python\n",
    "\"\" - ''\n",
    "\n",
    "0\n",
    "\n",
    "0.0\n",
    "\n",
    "False\n",
    "\n",
    "[]\n",
    "\n",
    "()\n",
    "\n",
    "{}\n",
    "\n",
    "None"
   ]
  },
  {
   "cell_type": "code",
   "execution_count": 16,
   "metadata": {},
   "outputs": [
    {
     "name": "stdout",
     "output_type": "stream",
     "text": [
      "Ingresa tu nombre: Karen\n",
      "La condición se cumple\n"
     ]
    }
   ],
   "source": [
    "nombre = input('Ingresa tu nombre: ')\n",
    "\n",
    "if nombre:\n",
    "    print('La condición se cumple')\n",
    "else:\n",
    "    print('La condición no se cumple')"
   ]
  },
  {
   "cell_type": "code",
   "execution_count": 17,
   "metadata": {},
   "outputs": [
    {
     "name": "stdout",
     "output_type": "stream",
     "text": [
      "[10, 10, 8, 9, 10, 8]\n"
     ]
    }
   ],
   "source": [
    "                #  0  1   2  3  4   5\n",
    "calificaciones = [10, 10, 8, 9, 10, 8]\n",
    "\n",
    "print(calificaciones)"
   ]
  },
  {
   "cell_type": "code",
   "execution_count": 18,
   "metadata": {},
   "outputs": [
    {
     "name": "stdout",
     "output_type": "stream",
     "text": [
      "10\n"
     ]
    }
   ],
   "source": [
    "calificaciones = [10,10,8,9,10,8]\n",
    "\n",
    "primera_calificacion = calificaciones[0]\n",
    "print(primera_calificacion)"
   ]
  },
  {
   "cell_type": "code",
   "execution_count": 19,
   "metadata": {},
   "outputs": [
    {
     "name": "stdout",
     "output_type": "stream",
     "text": [
      "8\n"
     ]
    }
   ],
   "source": [
    "calificaciones = [10,10,8,9,10,8]\n",
    "\n",
    "ultima_calificacion = calificaciones[-1]\n",
    "print(ultima_calificacion)"
   ]
  },
  {
   "cell_type": "code",
   "execution_count": 20,
   "metadata": {},
   "outputs": [
    {
     "name": "stdout",
     "output_type": "stream",
     "text": [
      "['Python', 'Java', 'Rust']\n"
     ]
    }
   ],
   "source": [
    "cursos = ['Python','Java','Rust','Pandas','Mongo']\n",
    "\n",
    "# start:end:skips\n",
    "cursos_dos = cursos[:3]\n",
    "\n",
    "print(cursos_dos)"
   ]
  },
  {
   "cell_type": "code",
   "execution_count": 21,
   "metadata": {},
   "outputs": [
    {
     "name": "stdout",
     "output_type": "stream",
     "text": [
      "['Java', 'Rust', 'Pandas', 'Mongo']\n"
     ]
    }
   ],
   "source": [
    "cursos = ['Python','Java','Rust','Pandas','Mongo']\n",
    "\n",
    "# start:end:skips\n",
    "cursos_dos = cursos[1:]\n",
    "\n",
    "print(cursos_dos)"
   ]
  },
  {
   "cell_type": "code",
   "execution_count": 23,
   "metadata": {},
   "outputs": [
    {
     "name": "stdout",
     "output_type": "stream",
     "text": [
      "['Python', 'Java', 'Rust', 'Pandas', 'Mongo']\n"
     ]
    }
   ],
   "source": [
    "cursos = ['Python','Java','Rust','Pandas','Mongo']\n",
    "\n",
    "# start:end:skips\n",
    "cursos_dos = cursos[::]\n",
    "\n",
    "print(cursos_dos)"
   ]
  },
  {
   "cell_type": "code",
   "execution_count": 24,
   "metadata": {},
   "outputs": [
    {
     "name": "stdout",
     "output_type": "stream",
     "text": [
      "['Python', 'Rust', 'Mongo']\n"
     ]
    }
   ],
   "source": [
    "cursos = ['Python','Java','Rust','Pandas','Mongo']\n",
    "\n",
    "cursos_dos = cursos[::2]\n",
    "\n",
    "print(cursos_dos)"
   ]
  },
  {
   "cell_type": "code",
   "execution_count": 25,
   "metadata": {},
   "outputs": [
    {
     "name": "stdout",
     "output_type": "stream",
     "text": [
      "['Python', 'Java', 'Rust', 'Pandas', 'Mongo', 'Rails', 'Django']\n"
     ]
    }
   ],
   "source": [
    "cursos = ['Python','Java','Rust','Pandas','Mongo']\n",
    "\n",
    "cursos.append('Rails')\n",
    "cursos.append('Django')\n",
    "\n",
    "print(cursos)"
   ]
  },
  {
   "cell_type": "code",
   "execution_count": 26,
   "metadata": {},
   "outputs": [
    {
     "name": "stdout",
     "output_type": "stream",
     "text": [
      "[[1, 2, 3, 4], [10, 20, 30, 40], [100, 200, 300, 400]]\n",
      "400\n",
      "400\n"
     ]
    }
   ],
   "source": [
    "matriz = [\n",
    "    #0 1 2 3\n",
    "    [1,2,3,4], #0 \n",
    "    [10,20,30,40], #1\n",
    "    [100,200,300,400], #2\n",
    "]\n",
    "\n",
    "print(matriz)\n",
    "print(matriz[2][3])\n",
    "print(matriz[-1][-1])"
   ]
  },
  {
   "cell_type": "code",
   "execution_count": 27,
   "metadata": {},
   "outputs": [
    {
     "name": "stdout",
     "output_type": "stream",
     "text": [
      "1000\n",
      "[[1, 2, 3, 4], [10, 20, 30, 40], [100, 200, 300, 1000]]\n"
     ]
    }
   ],
   "source": [
    "matriz[2][3] = 1000\n",
    "print(matriz[-1][-1])\n",
    "print(matriz)"
   ]
  },
  {
   "cell_type": "code",
   "execution_count": 28,
   "metadata": {},
   "outputs": [],
   "source": [
    "lista = [0, 1.0, 'string', True, [1,2]] # es posible pero NO recomendable"
   ]
  },
  {
   "cell_type": "code",
   "execution_count": 29,
   "metadata": {},
   "outputs": [
    {
     "name": "stdout",
     "output_type": "stream",
     "text": [
      "True 8080 20\n"
     ]
    }
   ],
   "source": [
    "#listas []\n",
    "#tuplas ()\n",
    "#diccionarios {}\n",
    "\n",
    "configuraciones = (True, 8080, 'localhost', False, 20)\n",
    "\n",
    "primero = configuraciones[0]\n",
    "segundo = configuraciones[1] \n",
    "ultimo = configuraciones[-1]\n",
    "\n",
    "print(primero, segundo, ultimo)"
   ]
  },
  {
   "cell_type": "code",
   "execution_count": 30,
   "metadata": {},
   "outputs": [
    {
     "name": "stdout",
     "output_type": "stream",
     "text": [
      "True 8080 20\n"
     ]
    }
   ],
   "source": [
    "configuraciones = (True, 8080, 'localhost', False, 20)\n",
    "\n",
    "primero, segundo, _, _, ultimo = configuraciones\n",
    "\n",
    "print(primero, segundo, ultimo)"
   ]
  },
  {
   "cell_type": "code",
   "execution_count": 31,
   "metadata": {},
   "outputs": [
    {
     "name": "stdout",
     "output_type": "stream",
     "text": [
      "True 8080 20\n"
     ]
    }
   ],
   "source": [
    "configuraciones = (True, 8080, 'localhost', False, 1, 3, 4, 3, 5, 6, 7, 20)\n",
    "\n",
    "primero, segundo, *_, ultimo = configuraciones # * cuando son demasiados elementos\n",
    "\n",
    "print(primero, segundo, ultimo)"
   ]
  },
  {
   "cell_type": "code",
   "execution_count": 32,
   "metadata": {},
   "outputs": [
    {
     "name": "stdout",
     "output_type": "stream",
     "text": [
      "{'id': 9, 'nombre': 'Cody', 'email': 'info@codigofacilito.com'}\n"
     ]
    }
   ],
   "source": [
    "# llave: valor -> JSON = diccionarios\n",
    "\n",
    "usuario = {\n",
    "    'id': 9,\n",
    "    'nombre': 'Cody',\n",
    "    'email': 'info@codigofacilito.com'\n",
    "}\n",
    "\n",
    "print(usuario)"
   ]
  },
  {
   "cell_type": "code",
   "execution_count": 34,
   "metadata": {},
   "outputs": [
    {
     "name": "stdout",
     "output_type": "stream",
     "text": [
      "{'id': 10, 'nombre': 'Cody', 'email': 'eduardo@codigofacilito.com', 'edad': 10}\n"
     ]
    }
   ],
   "source": [
    "usuario = {\n",
    "    'id': 9,\n",
    "    'nombre': 'Cody',\n",
    "    'email': 'info@codigofacilito.com',\n",
    "    'id': 10, # no hay llaves duplicadas   \n",
    "}\n",
    "\n",
    "usuario['edad'] = 10 # Agrego nueva llave\n",
    "usuario['email'] = 'eduardo@codigofacilito.com' # Modifico\n",
    "\n",
    "print(usuario)"
   ]
  },
  {
   "cell_type": "code",
   "execution_count": 35,
   "metadata": {},
   "outputs": [
    {
     "name": "stdout",
     "output_type": "stream",
     "text": [
      "9\n",
      "Lo siento, la llave no existe\n"
     ]
    }
   ],
   "source": [
    "usuario = {\n",
    "    'id': 9,\n",
    "    'nombre': 'Cody',\n",
    "    'email': 'info@codigofacilito.com'\n",
    "}\n",
    "\n",
    "print(\n",
    "    usuario['id'] # No se recomienda\n",
    "     )\n",
    "\n",
    "print(\n",
    "    usuario.get('cursos','Lo siento, la llave no existe') # Recomendable\n",
    "     )"
   ]
  },
  {
   "cell_type": "code",
   "execution_count": 36,
   "metadata": {},
   "outputs": [
    {
     "name": "stdout",
     "output_type": "stream",
     "text": [
      "['Python', 'Numpy', 'Pandas']\n"
     ]
    }
   ],
   "source": [
    "usuario = {\n",
    "    'id': 9,\n",
    "    'nombre': 'Cody',\n",
    "    'email': 'info@codigofacilito.com'\n",
    "}\n",
    "\n",
    "print(\n",
    "    usuario.get('cursos',['Python', 'Numpy', 'Pandas'])\n",
    "     )"
   ]
  },
  {
   "cell_type": "code",
   "execution_count": 38,
   "metadata": {},
   "outputs": [
    {
     "name": "stdout",
     "output_type": "stream",
     "text": [
      "[{'id': 1, 'nombre': 'Python'}, {'id': 2, 'nombre': 'Pandas'}, {'id': 3, 'nombre': 'Numpy'}, {'id': 4, 'nombre': 'Bases de datos'}]\n"
     ]
    }
   ],
   "source": [
    "usuario = {\n",
    "    'id': 9,\n",
    "    'nombre': 'Cody',\n",
    "    'email': 'info@codigofacilito.com',\n",
    "    'cursos': [\n",
    "        {\n",
    "            'id': 1,\n",
    "            'nombre': 'Python'\n",
    "        },\n",
    "        {\n",
    "            'id': 2,\n",
    "            'nombre': 'Pandas'\n",
    "        },\n",
    "        {\n",
    "            'id': 3,\n",
    "            'nombre': 'Numpy'\n",
    "        },\n",
    "        {\n",
    "            'id': 4,\n",
    "            'nombre': 'Bases de datos'\n",
    "        }\n",
    "    ]\n",
    "}\n",
    "\n",
    "print(\n",
    "    usuario.get('cursos','Lo siento, la llave no existe')\n",
    "     )"
   ]
  },
  {
   "cell_type": "code",
   "execution_count": 39,
   "metadata": {},
   "outputs": [],
   "source": [
    "cursos = usuario.get('cursos', [])\n",
    "\n",
    "for curso in cursos:\n",
    "    pass # bloque vacío\n",
    "# ... elipsis - place holder"
   ]
  },
  {
   "cell_type": "code",
   "execution_count": 40,
   "metadata": {},
   "outputs": [
    {
     "name": "stdout",
     "output_type": "stream",
     "text": [
      "Python\n",
      "Pandas\n",
      "Numpy\n",
      "Bases de datos\n"
     ]
    }
   ],
   "source": [
    "cursos = usuario.get('cursos', [])\n",
    "\n",
    "for curso in cursos:\n",
    "    print(curso.get('nombre'))"
   ]
  },
  {
   "cell_type": "code",
   "execution_count": 41,
   "metadata": {},
   "outputs": [
    {
     "name": "stdout",
     "output_type": "stream",
     "text": [
      "El nombre del curso es:  Python\n",
      "El nombre del curso es:  Pandas\n",
      "El nombre del curso es:  Numpy\n",
      "El nombre del curso es:  Bases de datos\n"
     ]
    }
   ],
   "source": [
    "cursos = usuario.get('cursos', [])\n",
    "\n",
    "for curso in cursos:\n",
    "    if curso.get('nombre'): # None\n",
    "        print('El nombre del curso es: ', curso['nombre'])"
   ]
  },
  {
   "cell_type": "code",
   "execution_count": 42,
   "metadata": {},
   "outputs": [
    {
     "name": "stdout",
     "output_type": "stream",
     "text": [
      "El nombre del curso es:  Python\n",
      "El nombre del curso es:  Pandas\n",
      "El nombre del curso es:  Numpy\n",
      "El nombre del curso es:  Bases de datos\n"
     ]
    }
   ],
   "source": [
    "cursos = usuario.get('cursos', [])\n",
    "\n",
    "for curso in cursos:\n",
    "    if nombre:= curso.get('nombre'): #Operador morsa\n",
    "        print('El nombre del curso es: ', nombre)"
   ]
  },
  {
   "cell_type": "code",
   "execution_count": 43,
   "metadata": {},
   "outputs": [
    {
     "name": "stdout",
     "output_type": "stream",
     "text": [
      "1\n",
      "2\n",
      "3\n",
      "4\n",
      "5\n",
      "6\n",
      "7\n",
      "8\n",
      "9\n",
      "10\n",
      "El contador ahora es igual a 11.\n"
     ]
    }
   ],
   "source": [
    "contador = 0\n",
    "\n",
    "while contador < 10:\n",
    "    contador += 1\n",
    "    print(contador)\n",
    "else:\n",
    "    print('El contador ahora es igual a 11.')"
   ]
  },
  {
   "cell_type": "code",
   "execution_count": 44,
   "metadata": {},
   "outputs": [
    {
     "name": "stdout",
     "output_type": "stream",
     "text": [
      "Ingresa el número de iteraciones: 3\n",
      "1\n",
      "2\n",
      "3\n",
      "3\n"
     ]
    }
   ],
   "source": [
    "contador = 0\n",
    "limit = int(input('Ingresa el número de iteraciones: '))\n",
    "\n",
    "while contador < limit:\n",
    "    contador += 1\n",
    "    print(contador)\n",
    "else:\n",
    "    print(contador)"
   ]
  },
  {
   "cell_type": "code",
   "execution_count": 45,
   "metadata": {},
   "outputs": [
    {
     "name": "stdout",
     "output_type": "stream",
     "text": [
      "Ingresa el número: 2\n",
      "1\n"
     ]
    }
   ],
   "source": [
    "contador = 0\n",
    "numero = int(input('Ingresa el número: '))\n",
    "\n",
    "while numero > 0:\n",
    "    contador += 1\n",
    "    numero = numero // 10\n",
    "else:\n",
    "    print(contador)"
   ]
  },
  {
   "cell_type": "code",
   "execution_count": 51,
   "metadata": {},
   "outputs": [
    {
     "name": "stdout",
     "output_type": "stream",
     "text": [
      "Una función que permite sumar 2 números.\n"
     ]
    }
   ],
   "source": [
    "# Funciones\n",
    "\n",
    "def suma_dos_numeros():\n",
    "    print('Una función que permite sumar 2 números.')\n",
    "    \n",
    "suma_dos_numeros()"
   ]
  },
  {
   "cell_type": "code",
   "execution_count": 47,
   "metadata": {},
   "outputs": [
    {
     "name": "stdout",
     "output_type": "stream",
     "text": [
      "30\n"
     ]
    }
   ],
   "source": [
    "def suma_dos_numeros(numero_uno, numero_dos): #valores asignados como parámetros, se conocen como argumentos\n",
    "    resultado = numero_uno + numero_dos\n",
    "    print(resultado)\n",
    "    \n",
    "suma_dos_numeros(10,20)"
   ]
  },
  {
   "cell_type": "code",
   "execution_count": 48,
   "metadata": {},
   "outputs": [
    {
     "data": {
      "text/plain": [
       "30"
      ]
     },
     "execution_count": 48,
     "metadata": {},
     "output_type": "execute_result"
    }
   ],
   "source": [
    "def suma_dos_numeros(numero_uno, numero_dos):\n",
    "    return numero_uno + numero_dos\n",
    "\n",
    "suma_dos_numeros(10,20)"
   ]
  },
  {
   "cell_type": "code",
   "execution_count": 49,
   "metadata": {},
   "outputs": [
    {
     "name": "stdout",
     "output_type": "stream",
     "text": [
      "110\n"
     ]
    }
   ],
   "source": [
    "def suma_dos_numeros(numero_uno, numero_dos=100):\n",
    "    return numero_uno + numero_dos\n",
    "\n",
    "resultado = suma_dos_numeros(10)\n",
    "print(resultado)"
   ]
  },
  {
   "cell_type": "code",
   "execution_count": 50,
   "metadata": {},
   "outputs": [
    {
     "name": "stdout",
     "output_type": "stream",
     "text": [
      "150\n"
     ]
    }
   ],
   "source": [
    "def suma_dos_numeros(numero_uno=50, numero_dos=100):\n",
    "    return numero_uno + numero_dos\n",
    "\n",
    "resultado = suma_dos_numeros()\n",
    "print(resultado)"
   ]
  },
  {
   "cell_type": "code",
   "execution_count": 52,
   "metadata": {},
   "outputs": [],
   "source": [
    "def suma_dos_numeros(numero_uno :int, numero_dos :int) -> int:\n",
    "    \"\"\"Permite sumar 2 números enteros.  # Docstring\n",
    "    \n",
    "    Args: numero_uno: int\n",
    "          numero_dos : int\n",
    "    \n",
    "    Return: \n",
    "          int\n",
    "   \n",
    "    >>> suma_dos_numero(10,20)\n",
    "    30\n",
    "    \"\"\"\n",
    "    return numero_uno + numero_dos"
   ]
  },
  {
   "cell_type": "code",
   "execution_count": 53,
   "metadata": {},
   "outputs": [],
   "source": [
    "mi_funcion = suma_dos_numeros"
   ]
  },
  {
   "cell_type": "code",
   "execution_count": 54,
   "metadata": {
    "scrolled": true
   },
   "outputs": [
    {
     "name": "stdout",
     "output_type": "stream",
     "text": [
      "30\n"
     ]
    }
   ],
   "source": [
    "resultado = mi_funcion(10,20)\n",
    "print(resultado)"
   ]
  },
  {
   "cell_type": "code",
   "execution_count": 55,
   "metadata": {},
   "outputs": [],
   "source": [
    "# Funciones anónimas = no tiene un nombre\n",
    "suma = lambda numero_uno, numero_dos: numero_uno + numero_dos"
   ]
  },
  {
   "cell_type": "code",
   "execution_count": 56,
   "metadata": {},
   "outputs": [
    {
     "data": {
      "text/plain": [
       "20"
      ]
     },
     "execution_count": 56,
     "metadata": {},
     "output_type": "execute_result"
    }
   ],
   "source": [
    "suma(10,10)"
   ]
  }
 ],
 "metadata": {
  "kernelspec": {
   "display_name": "Python 3",
   "language": "python",
   "name": "python3"
  },
  "language_info": {
   "codemirror_mode": {
    "name": "ipython",
    "version": 3
   },
   "file_extension": ".py",
   "mimetype": "text/x-python",
   "name": "python",
   "nbconvert_exporter": "python",
   "pygments_lexer": "ipython3",
   "version": "3.8.5"
  }
 },
 "nbformat": 4,
 "nbformat_minor": 5
}
